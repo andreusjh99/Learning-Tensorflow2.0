{
  "nbformat": 4,
  "nbformat_minor": 0,
  "metadata": {
    "colab": {
      "name": "Training And Evaluation (Keras API).ipynb",
      "provenance": [],
      "collapsed_sections": [],
      "toc_visible": true,
      "authorship_tag": "ABX9TyM1q4UpLC8LCoIdKO15NiOP",
      "include_colab_link": true
    },
    "kernelspec": {
      "name": "python3",
      "display_name": "Python 3"
    }
  },
  "cells": [
    {
      "cell_type": "markdown",
      "metadata": {
        "id": "view-in-github",
        "colab_type": "text"
      },
      "source": [
        "<a href=\"https://colab.research.google.com/github/andreusjh99/Learning-Tensorflow2.0/blob/master/Training_And_Evaluation_(Keras_API).ipynb\" target=\"_parent\"><img src=\"https://colab.research.google.com/assets/colab-badge.svg\" alt=\"Open In Colab\"/></a>"
      ]
    },
    {
      "cell_type": "markdown",
      "metadata": {
        "id": "jeEGuxeettKe",
        "colab_type": "text"
      },
      "source": [
        "# **Training and Evaluation with Keras API (Basics)**\n",
        "Author: [Chia Jing Heng](https://github.com/andreusjh99)\n",
        "\n",
        "This notebook explores the basics of using the keras API to train and evaluate a model, and use it to make prediction. The bulk of this tutorial is from the [tensorflow official guide](https://www.tensorflow.org/guide/keras/train_and_evaluate)."
      ]
    },
    {
      "cell_type": "markdown",
      "metadata": {
        "id": "Kbv6fqX5uqU4",
        "colab_type": "text"
      },
      "source": [
        "## Setup"
      ]
    },
    {
      "cell_type": "code",
      "metadata": {
        "id": "8wZSWkthwgrz",
        "colab_type": "code",
        "colab": {
          "base_uri": "https://localhost:8080/",
          "height": 102
        },
        "outputId": "e9d1776d-08ab-498d-df86-d7fa41a10560"
      },
      "source": [
        "%tensorflow_version 2.x  # this line is not required unless you are in a notebook"
      ],
      "execution_count": 1,
      "outputs": [
        {
          "output_type": "stream",
          "text": [
            "`%tensorflow_version` only switches the major version: 1.x or 2.x.\n",
            "You set: `2.x  # this line is not required unless you are in a notebook`. This will be interpreted as: `2.x`.\n",
            "\n",
            "\n",
            "TensorFlow 2.x selected.\n"
          ],
          "name": "stdout"
        }
      ]
    },
    {
      "cell_type": "code",
      "metadata": {
        "id": "F9O1ZUhwrJAB",
        "colab_type": "code",
        "colab": {
          "base_uri": "https://localhost:8080/",
          "height": 34
        },
        "outputId": "f87cd20e-5aa4-4885-c50a-a46d8140358a"
      },
      "source": [
        "import tensorflow as tf\n",
        "from tensorflow import keras\n",
        "from tensorflow.keras import layers\n",
        "\n",
        "print(tf.__version__)"
      ],
      "execution_count": 2,
      "outputs": [
        {
          "output_type": "stream",
          "text": [
            "2.2.0\n"
          ],
          "name": "stdout"
        }
      ]
    },
    {
      "cell_type": "markdown",
      "metadata": {
        "id": "WXKCoMuEvAqo",
        "colab_type": "text"
      },
      "source": [
        "#### *Model function*\n",
        "It doesn't matter what method you use to create the model. You could use the `Sequential API`, the `Functional API`, or your own model via model subclassing. \n",
        "\n",
        "To make it easier for the notebook, we are going to create a function for creating a model. (this is not necessary in the usual pipeline)"
      ]
    },
    {
      "cell_type": "code",
      "metadata": {
        "id": "KpPjUMv6uzrl",
        "colab_type": "code",
        "colab": {}
      },
      "source": [
        "# Using the Sequential API\n",
        "\n",
        "def create_model():\n",
        "    model = keras.Sequential(name = \"Classifier\")\n",
        "    model.add(keras.Input(shape = (784,), name = \"Digits\"))\n",
        "    model.add(layers.Dense(64, activation = \"relu\", name = \"Input_layer\"))\n",
        "    model.add(layers.Dense(64, activation = \"relu\", name = \"Hidden_dense_1\"))\n",
        "    model.add(layers.Dense(10, activation = \"softmax\", name = \"predictions\"))\n",
        "\n",
        "    return model"
      ],
      "execution_count": 3,
      "outputs": []
    },
    {
      "cell_type": "markdown",
      "metadata": {
        "id": "pofn1r-ywrkQ",
        "colab_type": "text"
      },
      "source": [
        "# Training and Evaluation\n",
        "Usual workflow:\n",
        "1. Load data\n",
        "2. Preprocess data\n",
        "3. Create model\n",
        "4. Compile model\n",
        "5. Train model\n",
        "6. Evaluate model\n",
        "7. Make predictions"
      ]
    },
    {
      "cell_type": "markdown",
      "metadata": {
        "id": "8hNdR21Sx4df",
        "colab_type": "text"
      },
      "source": [
        "## 1, 2 Load and preprocess data\n",
        "\n",
        "#### MNIST data\n",
        "We are using the classic Mnist Data for this tutorial. More about the MNist Data could be found in the appendix of this notebook."
      ]
    },
    {
      "cell_type": "code",
      "metadata": {
        "id": "HZS6vmJ8uzof",
        "colab_type": "code",
        "colab": {
          "base_uri": "https://localhost:8080/",
          "height": 52
        },
        "outputId": "07199261-bafd-4863-f595-313f310202a2"
      },
      "source": [
        "# load the Mnist data\n",
        "(x_train, y_train), (x_test, y_test) = keras.datasets.mnist.load_data()\n",
        "\n",
        "# preprocess the data (these are NumPy arrays)\n",
        "x_train = x_train.reshape(60000, 784).astype(\"float32\") / 255 # reshape, cast and normalise\n",
        "x_test = x_test.reshape(10000, 784).astype(\"float32\") / 255\n",
        "\n",
        "y_train = y_train.astype(\"float32\") # cast\n",
        "y_test = y_test.astype(\"float32\")"
      ],
      "execution_count": 4,
      "outputs": [
        {
          "output_type": "stream",
          "text": [
            "Downloading data from https://storage.googleapis.com/tensorflow/tf-keras-datasets/mnist.npz\n",
            "11493376/11490434 [==============================] - 0s 0us/step\n"
          ],
          "name": "stdout"
        }
      ]
    },
    {
      "cell_type": "markdown",
      "metadata": {
        "id": "YIa-IYWC0uWm",
        "colab_type": "text"
      },
      "source": [
        "To use the built-in training loops of a model, you should use either `NumPy` arrays or a `tf.data.Dataset` objects for your input and output.\n",
        "\n",
        "In this tutorial, we will explore both forms and look at the subtle differences in how we fit the model."
      ]
    },
    {
      "cell_type": "markdown",
      "metadata": {
        "id": "yImyyUcd4HeB",
        "colab_type": "text"
      },
      "source": [
        "## **A. NumPy arrays**\n",
        "\n",
        "If your dataset are already numpy arrays then there is no more preprocessing of data needed.\n",
        "\n",
        "You could split the training data up into training set and vaidation set if you like too:\n",
        "\n",
        "    x_val = x_train[-10000:]\n",
        "    y_val = y_train[-10000:]\n",
        "    x_train = x_train[:-10000]\n",
        "    y_train = y_train[:-10000]\n",
        "\n",
        "But there is an easier way to do this and we will look at it shortly.\n"
      ]
    },
    {
      "cell_type": "markdown",
      "metadata": {
        "id": "qRC5KKlk1yjq",
        "colab_type": "text"
      },
      "source": [
        "## 3 Create model"
      ]
    },
    {
      "cell_type": "code",
      "metadata": {
        "id": "7vUBRpR87UlI",
        "colab_type": "code",
        "colab": {
          "base_uri": "https://localhost:8080/",
          "height": 265
        },
        "outputId": "40a9eba6-9016-4fc0-c76e-550d97d1fd86"
      },
      "source": [
        "model1 = create_model()\n",
        "model1.summary()"
      ],
      "execution_count": 5,
      "outputs": [
        {
          "output_type": "stream",
          "text": [
            "Model: \"Classifier\"\n",
            "_________________________________________________________________\n",
            "Layer (type)                 Output Shape              Param #   \n",
            "=================================================================\n",
            "Input_layer (Dense)          (None, 64)                50240     \n",
            "_________________________________________________________________\n",
            "Hidden_dense_1 (Dense)       (None, 64)                4160      \n",
            "_________________________________________________________________\n",
            "predictions (Dense)          (None, 10)                650       \n",
            "=================================================================\n",
            "Total params: 55,050\n",
            "Trainable params: 55,050\n",
            "Non-trainable params: 0\n",
            "_________________________________________________________________\n"
          ],
          "name": "stdout"
        }
      ]
    },
    {
      "cell_type": "markdown",
      "metadata": {
        "id": "-_1WEf9Y-LQ0",
        "colab_type": "text"
      },
      "source": [
        "## 4 Compile model\n",
        "\n",
        "To train a model, you don't only need the model, but also need the loss fucntion, optimiser, and optionally, some metrics to monitor.\n",
        "\n",
        "To specify those, you do it while you compile the model."
      ]
    },
    {
      "cell_type": "code",
      "metadata": {
        "id": "XNnBO20P81Qi",
        "colab_type": "code",
        "colab": {}
      },
      "source": [
        "model1.compile(\n",
        "    optimizer = keras.optimizers.RMSprop(), # optimiser\n",
        "    loss = keras.losses.SparseCategoricalCrossentropy(), # loss function\n",
        "    metrics = [keras.metrics.SparseCategoricalAccuracy()] # list of metrics to monitor\n",
        ")"
      ],
      "execution_count": 6,
      "outputs": []
    },
    {
      "cell_type": "markdown",
      "metadata": {
        "id": "U6thMuyB-twY",
        "colab_type": "text"
      },
      "source": [
        "#### **The `compile()` method**\n",
        "Typically, the `compile()` method takes in 3 arguments.\n",
        "\n",
        "The final one, `metrics` takes in a list of metrics to monitor while training.\n",
        "\n",
        "The losses and metrics used in this motebook will be explained in the appendix of this notebook. For more info about other losses and metrics: [losses](https://keras.io/api/losses/), [metrics](https://keras.io/api/metrics/).\n",
        "\n",
        "In many cases, if you are happy with the default settings for the optimisers, losses and metrics used, you could just specify them via string identifiers to keep it short.\n",
        "\n",
        "    model.compile(\n",
        "        optimizer=\"rmsprop\", \n",
        "        loss=\"sparse_categorical_crossentropy\", \n",
        "        metrics=[\"sparse_categorical_accuracy\"]\n",
        "    )\n"
      ]
    },
    {
      "cell_type": "markdown",
      "metadata": {
        "id": "j6de_rRlBvqc",
        "colab_type": "text"
      },
      "source": [
        "## 5 Train model\n",
        "We train models by calling `fit()` on the training data.\n",
        "\n",
        "### Hyperparameters"
      ]
    },
    {
      "cell_type": "code",
      "metadata": {
        "id": "SzoJBZ8bDkFP",
        "colab_type": "code",
        "colab": {}
      },
      "source": [
        "num_epochs = 5\n",
        "batch_size = 64"
      ],
      "execution_count": 7,
      "outputs": []
    },
    {
      "cell_type": "markdown",
      "metadata": {
        "id": "9Osum7vWEVIO",
        "colab_type": "text"
      },
      "source": [
        "### Fit model to training data"
      ]
    },
    {
      "cell_type": "code",
      "metadata": {
        "id": "SPYzLG3GDsy1",
        "colab_type": "code",
        "colab": {
          "base_uri": "https://localhost:8080/",
          "height": 214
        },
        "outputId": "5a1aa958-3f65-4dcc-c793-7f29244c30a3"
      },
      "source": [
        "train_log = model1.fit(\n",
        "    x_train,\n",
        "    y_train,\n",
        "    batch_size = batch_size,\n",
        "    epochs = num_epochs,\n",
        "    validation_split = 0.2\n",
        ")"
      ],
      "execution_count": 8,
      "outputs": [
        {
          "output_type": "stream",
          "text": [
            "Epoch 1/5\n",
            "750/750 [==============================] - 2s 3ms/step - loss: 0.3437 - sparse_categorical_accuracy: 0.9026 - val_loss: 0.2012 - val_sparse_categorical_accuracy: 0.9379\n",
            "Epoch 2/5\n",
            "750/750 [==============================] - 2s 3ms/step - loss: 0.1626 - sparse_categorical_accuracy: 0.9522 - val_loss: 0.1427 - val_sparse_categorical_accuracy: 0.9581\n",
            "Epoch 3/5\n",
            "750/750 [==============================] - 2s 3ms/step - loss: 0.1216 - sparse_categorical_accuracy: 0.9632 - val_loss: 0.1267 - val_sparse_categorical_accuracy: 0.9631\n",
            "Epoch 4/5\n",
            "750/750 [==============================] - 2s 3ms/step - loss: 0.0951 - sparse_categorical_accuracy: 0.9711 - val_loss: 0.1206 - val_sparse_categorical_accuracy: 0.9641\n",
            "Epoch 5/5\n",
            "750/750 [==============================] - 2s 3ms/step - loss: 0.0801 - sparse_categorical_accuracy: 0.9755 - val_loss: 0.1072 - val_sparse_categorical_accuracy: 0.9703\n"
          ],
          "name": "stdout"
        }
      ]
    },
    {
      "cell_type": "markdown",
      "metadata": {
        "id": "bCR2ouFAER3l",
        "colab_type": "text"
      },
      "source": [
        "#### **The `fit()` method**\n",
        "\n",
        "The `fit()` method takes in multiple arguments. With this method you fit the model you compiled to your training data to start training.\n",
        "\n",
        "* You could specify the batch size, number of epochs etc with this method.\n",
        "\n",
        "* For train-val split, you could specify how much of your training data passed in which you want to keep for validation every epoch. A `validation_split` of 0.2 means the last 0.2 data in the training set will be reserved for validation at each epoch.\n",
        "\n",
        "* You could also specify how often you want the model to be validated by specifying the `validation_freq`. Setting it to 1 means validating every epoch.\n",
        "\n",
        "* If you have split the training set into training and validation set before-hand or if your dataset comes split into 3 sets (train, val, test), then you could also feed in the validation set by using the argument `validation_data` instead of specifying a `validation_split`. **NOTE: this is only possible if your data are `NumPy` arrays.**\n",
        "\n",
        "        train_log = model.fit(\n",
        "            x_train,\n",
        "            y_train,\n",
        "            batch_size = batch_size,\n",
        "            epochs = num_epochs,\n",
        "            validation_data = (x_val, y_val)\n",
        "        )\n",
        "\n",
        "**Note**: Calling `fit()` multiple times will NOT reset the weights, model state and optimiser state, i.e. the model will continue training from where it left off last time despite the output starts with epoch = 1.\n"
      ]
    },
    {
      "cell_type": "markdown",
      "metadata": {
        "id": "YBsgMCCLIi4E",
        "colab_type": "text"
      },
      "source": [
        "### Access history and plot them\n",
        "The returned \"train_log\" object holds a record of the loss values and metric values during training. This can be accessed using the `history` attribute."
      ]
    },
    {
      "cell_type": "code",
      "metadata": {
        "id": "rVPsSUgLEHjZ",
        "colab_type": "code",
        "colab": {
          "base_uri": "https://localhost:8080/",
          "height": 372
        },
        "outputId": "6889aabd-3719-460b-f060-ff4639d05a57"
      },
      "source": [
        "train_log.history"
      ],
      "execution_count": 9,
      "outputs": [
        {
          "output_type": "execute_result",
          "data": {
            "text/plain": [
              "{'loss': [0.34369251132011414,\n",
              "  0.16264501214027405,\n",
              "  0.12161127477884293,\n",
              "  0.09508874267339706,\n",
              "  0.08013738691806793],\n",
              " 'sparse_categorical_accuracy': [0.9026041626930237,\n",
              "  0.9521874785423279,\n",
              "  0.9632499814033508,\n",
              "  0.9711041450500488,\n",
              "  0.9754999876022339],\n",
              " 'val_loss': [0.20122160017490387,\n",
              "  0.1426542103290558,\n",
              "  0.12665286660194397,\n",
              "  0.12060128897428513,\n",
              "  0.10716300457715988],\n",
              " 'val_sparse_categorical_accuracy': [0.9379166960716248,\n",
              "  0.9580833315849304,\n",
              "  0.9630833268165588,\n",
              "  0.9640833139419556,\n",
              "  0.9702500104904175]}"
            ]
          },
          "metadata": {
            "tags": []
          },
          "execution_count": 9
        }
      ]
    },
    {
      "cell_type": "code",
      "metadata": {
        "id": "f4w75IgUgACr",
        "colab_type": "code",
        "colab": {
          "base_uri": "https://localhost:8080/",
          "height": 312
        },
        "outputId": "56b89289-aee0-455d-81cf-614aef54baa3"
      },
      "source": [
        "import matplotlib.pyplot as plt\n",
        "plt.plot(train_log.history['loss'], 'b', label = \"train_loss\")\n",
        "plt.plot(train_log.history['val_loss'], 'r', label = \"val_loss\")\n",
        "plt.legend()\n",
        "plt.title(\"Loss curve\")\n",
        "plt.xlabel(\"Epoch\")"
      ],
      "execution_count": 10,
      "outputs": [
        {
          "output_type": "execute_result",
          "data": {
            "text/plain": [
              "Text(0.5, 0, 'Epoch')"
            ]
          },
          "metadata": {
            "tags": []
          },
          "execution_count": 10
        },
        {
          "output_type": "display_data",
          "data": {
            "image/png": "[encoded data removed]",
            "text/plain": [
              "<Figure size 432x288 with 1 Axes>"
            ]
          },
          "metadata": {
            "tags": [],
            "needs_background": "light"
          }
        }
      ]
    },
    {
      "cell_type": "markdown",
      "metadata": {
        "id": "UItOO3YTmvM7",
        "colab_type": "text"
      },
      "source": [
        "## 6 Evaluate model\n",
        "Evaluate model on test dataset."
      ]
    },
    {
      "cell_type": "code",
      "metadata": {
        "id": "G73BslxphAlM",
        "colab_type": "code",
        "colab": {
          "base_uri": "https://localhost:8080/",
          "height": 52
        },
        "outputId": "0c9cac69-12b6-4d9e-c321-f6d85021b201"
      },
      "source": [
        "results = model1.evaluate(x_test, y_test, batch_size = batch_size)\n",
        "print(\"test loss, test acc:\", results)"
      ],
      "execution_count": 11,
      "outputs": [
        {
          "output_type": "stream",
          "text": [
            "157/157 [==============================] - 0s 1ms/step - loss: 0.0973 - sparse_categorical_accuracy: 0.9715\n",
            "test loss, test acc: [0.09728358685970306, 0.9714999794960022]\n"
          ],
          "name": "stdout"
        }
      ]
    },
    {
      "cell_type": "markdown",
      "metadata": {
        "id": "p67QpZiQox4I",
        "colab_type": "text"
      },
      "source": [
        "## 7 Predictions"
      ]
    },
    {
      "cell_type": "code",
      "metadata": {
        "id": "Cn3qtsq4o01f",
        "colab_type": "code",
        "colab": {
          "base_uri": "https://localhost:8080/",
          "height": 34
        },
        "outputId": "43710856-164e-4478-88f7-36f95a7385a1"
      },
      "source": [
        "# using the first three test data as examples of new data\n",
        "predictions = model1.predict(x_test[:3])\n",
        "# predictions should be a list of 10-dimensional probability vectors\n",
        "print(predictions.shape)"
      ],
      "execution_count": 13,
      "outputs": [
        {
          "output_type": "stream",
          "text": [
            "(3, 10)\n"
          ],
          "name": "stdout"
        }
      ]
    },
    {
      "cell_type": "markdown",
      "metadata": {
        "id": "NfSHcKy_pssy",
        "colab_type": "text"
      },
      "source": [
        "## **B. Datasets**\n",
        "Besides `NumPy` arrays, you could also input datasets into the `fit()`, `evaluate()` and `predict()` methods above.\n",
        "\n",
        "To explore that, lets convert our mnist data into datasets first using the `Dataset` API.\n",
        "\n",
        "Note we do train-val split here. This will be explained in **5 Train Model**."
      ]
    },
    {
      "cell_type": "code",
      "metadata": {
        "id": "VGpqPZNdpo67",
        "colab_type": "code",
        "colab": {}
      },
      "source": [
        "# train-val split\n",
        "x_val = x_train[-10000:]\n",
        "y_val = y_train[-10000:]\n",
        "x_train = x_train[:-10000]\n",
        "y_train = y_train[:-10000]\n",
        "\n",
        "train_dataset = tf.data.Dataset.from_tensor_slices((x_train, y_train))\n",
        "train_dataset = train_dataset.shuffle(buffer_size = x_train.shape[0])\n",
        "train_dataset = train_dataset.batch(batch_size)\n",
        "\n",
        "val_dataset = tf.data.Dataset.from_tensor_slices((x_val, y_val))\n",
        "val_dataset = val_dataset.batch(batch_size)\n",
        "\n",
        "test_dataset = tf.data.Dataset.from_tensor_slices((x_test, y_test))\n",
        "test_dataset = test_dataset.batch(batch_size)"
      ],
      "execution_count": 17,
      "outputs": []
    },
    {
      "cell_type": "markdown",
      "metadata": {
        "id": "AzH1c76Jq0mE",
        "colab_type": "text"
      },
      "source": [
        "## 3 Create model\n",
        "This bit is the same as for `NumPy` arrays."
      ]
    },
    {
      "cell_type": "code",
      "metadata": {
        "id": "lDuM4N9OqztI",
        "colab_type": "code",
        "colab": {
          "base_uri": "https://localhost:8080/",
          "height": 265
        },
        "outputId": "4253a8e6-00e1-46d2-b7bc-b47aae3c37e0"
      },
      "source": [
        "model2 = create_model()\n",
        "model2.summary()"
      ],
      "execution_count": 18,
      "outputs": [
        {
          "output_type": "stream",
          "text": [
            "Model: \"Classifier\"\n",
            "_________________________________________________________________\n",
            "Layer (type)                 Output Shape              Param #   \n",
            "=================================================================\n",
            "Input_layer (Dense)          (None, 64)                50240     \n",
            "_________________________________________________________________\n",
            "Hidden_dense_1 (Dense)       (None, 64)                4160      \n",
            "_________________________________________________________________\n",
            "predictions (Dense)          (None, 10)                650       \n",
            "=================================================================\n",
            "Total params: 55,050\n",
            "Trainable params: 55,050\n",
            "Non-trainable params: 0\n",
            "_________________________________________________________________\n"
          ],
          "name": "stdout"
        }
      ]
    },
    {
      "cell_type": "markdown",
      "metadata": {
        "id": "YiU-beTEq92A",
        "colab_type": "text"
      },
      "source": [
        "## 4 Compile model\n",
        "This bit is also the same as for `NumPy` arrays."
      ]
    },
    {
      "cell_type": "code",
      "metadata": {
        "id": "poNq4l7gq8ji",
        "colab_type": "code",
        "colab": {}
      },
      "source": [
        "model2.compile(\n",
        "    optimizer = keras.optimizers.RMSprop(), # optimiser\n",
        "    loss = keras.losses.SparseCategoricalCrossentropy(), # loss function\n",
        "    metrics = [keras.metrics.SparseCategoricalAccuracy()] # list of metrics to monitor\n",
        ")"
      ],
      "execution_count": 19,
      "outputs": []
    },
    {
      "cell_type": "markdown",
      "metadata": {
        "id": "4QdbyxAFrPYS",
        "colab_type": "text"
      },
      "source": [
        "## 5 Train model\n",
        "The main difference between both input types is the arguments you put in for the `fit()` method.\n",
        "\n",
        "2 differences:\n",
        "1. no `batch_size` argument in `fit()`\n",
        "\n",
        "    The `Dataset` API has dealt with splitting data into batches.\n",
        "\n",
        "2. no `validation_split` option\n",
        "\n",
        "    This means you need to split your training data up into train and val data before-hand."
      ]
    },
    {
      "cell_type": "code",
      "metadata": {
        "id": "-Hhm36WkrOhF",
        "colab_type": "code",
        "colab": {
          "base_uri": "https://localhost:8080/",
          "height": 214
        },
        "outputId": "68351d49-d1b7-4935-8441-3cd80dca8290"
      },
      "source": [
        "train_log = model2.fit(\n",
        "    train_dataset,\n",
        "    epochs = num_epochs,\n",
        "    validation_data = val_dataset\n",
        ")"
      ],
      "execution_count": 20,
      "outputs": [
        {
          "output_type": "stream",
          "text": [
            "Epoch 1/5\n",
            "782/782 [==============================] - 2s 3ms/step - loss: 0.3396 - sparse_categorical_accuracy: 0.9057 - val_loss: 0.2026 - val_sparse_categorical_accuracy: 0.9412\n",
            "Epoch 2/5\n",
            "782/782 [==============================] - 2s 3ms/step - loss: 0.1583 - sparse_categorical_accuracy: 0.9531 - val_loss: 0.1661 - val_sparse_categorical_accuracy: 0.9506\n",
            "Epoch 3/5\n",
            "782/782 [==============================] - 2s 3ms/step - loss: 0.1156 - sparse_categorical_accuracy: 0.9658 - val_loss: 0.1126 - val_sparse_categorical_accuracy: 0.9676\n",
            "Epoch 4/5\n",
            "782/782 [==============================] - 2s 3ms/step - loss: 0.0923 - sparse_categorical_accuracy: 0.9728 - val_loss: 0.1103 - val_sparse_categorical_accuracy: 0.9677\n",
            "Epoch 5/5\n",
            "782/782 [==============================] - 2s 3ms/step - loss: 0.0767 - sparse_categorical_accuracy: 0.9770 - val_loss: 0.1184 - val_sparse_categorical_accuracy: 0.9667\n"
          ],
          "name": "stdout"
        }
      ]
    },
    {
      "cell_type": "markdown",
      "metadata": {
        "id": "BCYC83K_uFx5",
        "colab_type": "text"
      },
      "source": [
        "### Access and plot history"
      ]
    },
    {
      "cell_type": "code",
      "metadata": {
        "id": "ECreBtiZuJbG",
        "colab_type": "code",
        "colab": {
          "base_uri": "https://localhost:8080/",
          "height": 312
        },
        "outputId": "f7d234d5-75f6-4b37-8c63-b524b74d5829"
      },
      "source": [
        "plt.plot(train_log.history['loss'], 'b', label = \"train_loss\")\n",
        "plt.plot(train_log.history['val_loss'], 'r', label = \"val_loss\")\n",
        "plt.legend()\n",
        "plt.title(\"Loss curve\")\n",
        "plt.xlabel(\"Epoch\")"
      ],
      "execution_count": 21,
      "outputs": [
        {
          "output_type": "execute_result",
          "data": {
            "text/plain": [
              "Text(0.5, 0, 'Epoch')"
            ]
          },
          "metadata": {
            "tags": []
          },
          "execution_count": 21
        },
        {
          "output_type": "display_data",
          "data": {
            "image/png": "[encoded data removed]",
            "text/plain": [
              "<Figure size 432x288 with 1 Axes>"
            ]
          },
          "metadata": {
            "tags": [],
            "needs_background": "light"
          }
        }
      ]
    },
    {
      "cell_type": "markdown",
      "metadata": {
        "id": "bj8UmlI1t-SS",
        "colab_type": "text"
      },
      "source": [
        "## 6 Evaluate model\n",
        "Again, main difference is that there is no more `batch_size` argument for the `evaluate()` method"
      ]
    },
    {
      "cell_type": "code",
      "metadata": {
        "id": "1CFukXzZt80Y",
        "colab_type": "code",
        "colab": {
          "base_uri": "https://localhost:8080/",
          "height": 52
        },
        "outputId": "7927421a-4231-4363-d9ca-dbd0cc28b680"
      },
      "source": [
        "results = model2.evaluate(test_dataset)\n",
        "print(\"test loss, test acc:\", results)"
      ],
      "execution_count": 22,
      "outputs": [
        {
          "output_type": "stream",
          "text": [
            "157/157 [==============================] - 0s 1ms/step - loss: 0.1179 - sparse_categorical_accuracy: 0.9661\n",
            "test loss, test acc: [0.117885060608387, 0.9660999774932861]\n"
          ],
          "name": "stdout"
        }
      ]
    },
    {
      "cell_type": "markdown",
      "metadata": {
        "id": "3XlLTzr3uqWa",
        "colab_type": "text"
      },
      "source": [
        "## 7 Predictions\n",
        "Despite taking in Datasets while training, you could actually use `NumPy` arrays here for making predictions. Of course, you could also use a `Dataset` object."
      ]
    },
    {
      "cell_type": "code",
      "metadata": {
        "id": "TofTCS2suoXe",
        "colab_type": "code",
        "colab": {
          "base_uri": "https://localhost:8080/",
          "height": 34
        },
        "outputId": "120178a4-6a3c-4e36-e234-e45162955efe"
      },
      "source": [
        "# using the first three test data as examples of new data\n",
        "predictions = model2.predict(x_test[:3])\n",
        "# predictions should be a list of 10-dimensional probability vectors\n",
        "print(predictions.shape)"
      ],
      "execution_count": 23,
      "outputs": [
        {
          "output_type": "stream",
          "text": [
            "(3, 10)\n"
          ],
          "name": "stdout"
        }
      ]
    },
    {
      "cell_type": "markdown",
      "metadata": {
        "id": "s7JpN8YTvN8f",
        "colab_type": "text"
      },
      "source": [
        "# What else?\n",
        "In this notebook, we explored only the basics of training and evaluation of models using the `Keras` API. There is much more which you could achieve using this API.\n",
        "\n",
        "This includes:\n",
        "* Define your own custom loss, metrics, optimisers, learning rate schedule etc.\n",
        "* Write your own training loop\n",
        "* Use `Callbacks` to do things like saving checkpoints, saving your model etc.\n",
        "* Connect to `Tensorboard` to visualise loss curve while training.\n",
        "\n",
        "These will be covered in later notebooks."
      ]
    },
    {
      "cell_type": "markdown",
      "metadata": {
        "id": "yMawHQndvMMQ",
        "colab_type": "text"
      },
      "source": [
        "# Appendix"
      ]
    },
    {
      "cell_type": "markdown",
      "metadata": {
        "id": "S7bSs7vwwSDD",
        "colab_type": "text"
      },
      "source": [
        "## A1 Mnist Data\n",
        "In this notebook, we used the classic mnist data as our dataset.\n",
        "\n",
        "* The Mnist dataset is commonly used to demonstrate a k-way classification problem.\n",
        "\n",
        "* This is a dataset of 60,000 28x28 greyscale images of the 10 digits, along with a test set of 10,000 images.\n",
        "\n",
        "More info could be found at the [MNIST homepage](http://yann.lecun.com/exdb/mnist/). "
      ]
    },
    {
      "cell_type": "markdown",
      "metadata": {
        "id": "mDN8Gg28w5KH",
        "colab_type": "text"
      },
      "source": [
        "## A2 Losses and metrics used\n",
        "\n",
        "In this notebook, we used the loss `keras.losses.SparseCategoricalCrossentropy()` and the metric `keras.metrics.SparseCategoricalAccuracy()`\n",
        "\n",
        "* First, cross entropy for our loss fn, since this is a k-way classification problem.\n",
        "* `SparseCategorical...` vs `Categorical...`\n",
        "    \n",
        "    In the `Keras` documentation, there are actually two very similar losses: `SparseCategoricalCrossentropy()` and `CategoricalCrossentropy()`. `SparseCategorical` is for integer labels, while `Categorical` is for one-hot encoded labels. This applies to the accuracy metrics too.\n",
        "\n",
        "* `...Accuracy` vs `TopK...Accuracy`\n",
        "    \n",
        "    Again there are two similar accuracy metrics: `SparseCategoricalAccuracy` and `TopKCategoricalAccuracy`. Essentially, `...Accuracy` checks for the proportion of the target labels being the top class predicted for the samples, while `TopK...Accuracy` checks for the proportion of target labels being in the top K classes predicted for each sample.\n",
        "\n"
      ]
    }
  ]
}