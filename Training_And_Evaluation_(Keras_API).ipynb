{
  "nbformat": 4,
  "nbformat_minor": 0,
  "metadata": {
    "colab": {
      "name": "Training And Evaluation (Keras API).ipynb",
      "provenance": [],
      "collapsed_sections": [],
      "authorship_tag": "ABX9TyODBSUGUoxJN7CfKSTJIrEM",
      "include_colab_link": true
    },
    "kernelspec": {
      "name": "python3",
      "display_name": "Python 3"
    }
  },
  "cells": [
    {
      "cell_type": "markdown",
      "metadata": {
        "id": "view-in-github",
        "colab_type": "text"
      },
      "source": [
        "<a href=\"https://colab.research.google.com/github/andreusjh99/Learning-Tensorflow2.0/blob/master/Training_And_Evaluation_(Keras_API).ipynb\" target=\"_parent\"><img src=\"https://colab.research.google.com/assets/colab-badge.svg\" alt=\"Open In Colab\"/></a>"
      ]
    },
    {
      "cell_type": "markdown",
      "metadata": {
        "id": "jeEGuxeettKe",
        "colab_type": "text"
      },
      "source": [
        "# **Training and Evaluation with Keras API (Basics)**\n",
        "Author: [Chia Jing Heng](https://github.com/andreusjh99)\n",
        "\n",
        "This notebook explores the basics of using the keras API to train and evaluate a model, and use it to make prediction. The bulk of this tutorial is from the [tensorflow official guide](https://www.tensorflow.org/guide/keras/train_and_evaluate)."
      ]
    },
    {
      "cell_type": "markdown",
      "metadata": {
        "id": "Kbv6fqX5uqU4",
        "colab_type": "text"
      },
      "source": [
        "## Setup"
      ]
    },
    {
      "cell_type": "code",
      "metadata": {
        "id": "8wZSWkthwgrz",
        "colab_type": "code",
        "colab": {
          "base_uri": "https://localhost:8080/",
          "height": 125
        },
        "outputId": "f551aa1c-1f60-4c9b-a021-d54640b881b3"
      },
      "source": [
        "%tensorflow_version 2.x  # this line is not required unless you are in a notebook"
      ],
      "execution_count": 12,
      "outputs": [
        {
          "output_type": "stream",
          "text": [
            "`%tensorflow_version` only switches the major version: 1.x or 2.x.\n",
            "You set: `2.x  # this line is not required unless you are in a notebook`. This will be interpreted as: `2.x`.\n",
            "\n",
            "\n",
            "TensorFlow is already loaded. Please restart the runtime to change versions.\n"
          ],
          "name": "stdout"
        }
      ]
    },
    {
      "cell_type": "code",
      "metadata": {
        "id": "F9O1ZUhwrJAB",
        "colab_type": "code",
        "colab": {
          "base_uri": "https://localhost:8080/",
          "height": 34
        },
        "outputId": "fc5c534d-3dce-439a-dee3-5a2820e7d287"
      },
      "source": [
        "import tensorflow as tf\n",
        "from tensorflow import keras\n",
        "from tensorflow.keras import layers\n",
        "\n",
        "print(tf.__version__)"
      ],
      "execution_count": null,
      "outputs": [
        {
          "output_type": "stream",
          "text": [
            "2.2.0\n"
          ],
          "name": "stdout"
        }
      ]
    },
    {
      "cell_type": "markdown",
      "metadata": {
        "id": "WXKCoMuEvAqo",
        "colab_type": "text"
      },
      "source": [
        "#### *Model function*\n",
        "It doesn't matter what method you use to create the model. You could use the `Sequential API`, the `Functional API`, or your own model via model subclassing. \n",
        "\n",
        "To make it easier for the notebook, we are going to create a function for creating a model. (this is not necessary in the usual pipeline)"
      ]
    },
    {
      "cell_type": "code",
      "metadata": {
        "id": "KpPjUMv6uzrl",
        "colab_type": "code",
        "colab": {}
      },
      "source": [
        "# Using the Sequential API\n",
        "\n",
        "def create_model():\n",
        "    model = keras.Sequential(name = \"Classifier\")\n",
        "    model.add(keras.Input(shape = (784,), name = \"Digits\"))\n",
        "    model.add(layers.Dense(64, activation = \"relu\", name = \"Input_layer\"))\n",
        "    model.add(layers.Dense(64, activation = \"relu\", name = \"Hidden_dense_1\"))\n",
        "    model.add(layers.Dense(10, activation = \"softmax\", name = \"predictions\"))\n",
        "\n",
        "    return model"
      ],
      "execution_count": null,
      "outputs": []
    },
    {
      "cell_type": "markdown",
      "metadata": {
        "id": "pofn1r-ywrkQ",
        "colab_type": "text"
      },
      "source": [
        "# Training and Evaluation\n",
        "Usual workflow:\n",
        "1. Load data\n",
        "2. Preprocess data\n",
        "3. Create model\n",
        "4. Compile model\n",
        "5. Train model\n",
        "6. Evaluate model\n",
        "7. Make predictions"
      ]
    },
    {
      "cell_type": "markdown",
      "metadata": {
        "id": "8hNdR21Sx4df",
        "colab_type": "text"
      },
      "source": [
        "## 1, 2 Load and preprocess data\n",
        "\n",
        "#### MNIST data\n",
        "We are using the classic Mnist Data for this tutorial. More about the MNist Data could be found in the appendix of this notebook."
      ]
    },
    {
      "cell_type": "code",
      "metadata": {
        "id": "HZS6vmJ8uzof",
        "colab_type": "code",
        "colab": {
          "base_uri": "https://localhost:8080/",
          "height": 52
        },
        "outputId": "579e7d2b-d66d-4f25-8efd-18db9510ec70"
      },
      "source": [
        "# load the Mnist data\n",
        "(x_train, y_train), (x_test, y_test) = keras.datasets.mnist.load_data()\n",
        "\n",
        "# preprocess the data (these are NumPy arrays)\n",
        "x_train = x_train.reshape(60000, 784).astype(\"float32\") / 255 # reshape, cast and normalise\n",
        "x_test = x_test.reshape(10000, 784).astype(\"float32\") / 255\n",
        "\n",
        "y_train = y_train.astype(\"float32\") # cast\n",
        "y_test = y_test.astype(\"float32\")"
      ],
      "execution_count": null,
      "outputs": [
        {
          "output_type": "stream",
          "text": [
            "Downloading data from https://storage.googleapis.com/tensorflow/tf-keras-datasets/mnist.npz\n",
            "11493376/11490434 [==============================] - 0s 0us/step\n"
          ],
          "name": "stdout"
        }
      ]
    },
    {
      "cell_type": "markdown",
      "metadata": {
        "id": "YIa-IYWC0uWm",
        "colab_type": "text"
      },
      "source": [
        "To use the built-in training loops of a model, you should use either `NumPy` arrays or a `tf.data.Dataset` objects for your input and output.\n",
        "\n",
        "In this tutorial, we will explore both forms and look at the subtle differences in how we fit the model."
      ]
    },
    {
      "cell_type": "markdown",
      "metadata": {
        "id": "yImyyUcd4HeB",
        "colab_type": "text"
      },
      "source": [
        "## A. NumPy arrays\n",
        "\n",
        "If your dataset are already numpy arrays then there is no more preprocessing of data needed.\n",
        "\n",
        "You could split the training data up into training set and vaidation set if you like too:\n",
        "\n",
        "    x_val = x_train[-10000:]\n",
        "    y_val = y_train[-10000:]\n",
        "    x_train = x_train[:-10000]\n",
        "    y_train = y_train[:-10000]\n",
        "\n",
        "But there is an easier way to do this and we will look at it shortly.\n"
      ]
    },
    {
      "cell_type": "markdown",
      "metadata": {
        "id": "qRC5KKlk1yjq",
        "colab_type": "text"
      },
      "source": [
        "## 3 Create model"
      ]
    },
    {
      "cell_type": "code",
      "metadata": {
        "id": "7vUBRpR87UlI",
        "colab_type": "code",
        "colab": {
          "base_uri": "https://localhost:8080/",
          "height": 265
        },
        "outputId": "28923eab-b9f3-4675-d05f-1c2b3af59a6c"
      },
      "source": [
        "model1 = create_model()\n",
        "model1.summary()"
      ],
      "execution_count": 22,
      "outputs": [
        {
          "output_type": "stream",
          "text": [
            "Model: \"Classifier\"\n",
            "_________________________________________________________________\n",
            "Layer (type)                 Output Shape              Param #   \n",
            "=================================================================\n",
            "Input_layer (Dense)          (None, 64)                50240     \n",
            "_________________________________________________________________\n",
            "Hidden_dense_1 (Dense)       (None, 64)                4160      \n",
            "_________________________________________________________________\n",
            "predictions (Dense)          (None, 10)                650       \n",
            "=================================================================\n",
            "Total params: 55,050\n",
            "Trainable params: 55,050\n",
            "Non-trainable params: 0\n",
            "_________________________________________________________________\n"
          ],
          "name": "stdout"
        }
      ]
    },
    {
      "cell_type": "markdown",
      "metadata": {
        "id": "-_1WEf9Y-LQ0",
        "colab_type": "text"
      },
      "source": [
        "## 4 Compile model\n",
        "\n",
        "To train a model, you don't only need the model, but also need the loss fucntion, optimiser, and optionally, some metrics to monitor.\n",
        "\n",
        "To specify those, you do it while you compile the model."
      ]
    },
    {
      "cell_type": "code",
      "metadata": {
        "id": "XNnBO20P81Qi",
        "colab_type": "code",
        "colab": {}
      },
      "source": [
        "model.compile(\n",
        "    optimizer = keras.optimizers.RMSprop(), # optimiser\n",
        "    loss = keras.losses.SparseCategoricalCrossentropy(), # loss function\n",
        "    metrics = [keras.metrics.SparseCategoricalAccuracy()] # list of metrics to monitor\n",
        ")"
      ],
      "execution_count": 23,
      "outputs": []
    },
    {
      "cell_type": "markdown",
      "metadata": {
        "id": "U6thMuyB-twY",
        "colab_type": "text"
      },
      "source": [
        "#### **The `compile()` method**\n",
        "Typically, the `compile()` method takes in 3 arguments.\n",
        "\n",
        "The final one, `metrics` takes in a list of metrics to monitor while training.\n",
        "\n",
        "The losses and metrics used in this motebook will be explained in the appendix of this notebook. For more info about other losses and metrics: [losses](https://keras.io/api/losses/), [metrics](https://keras.io/api/metrics/).\n",
        "\n",
        "In many cases, if you are happy with the default settings for the optimisers, losses and metrics used, you could just specify them via string identifiers to keep it short.\n",
        "\n",
        "    model.compile(\n",
        "        optimizer=\"rmsprop\", \n",
        "        loss=\"sparse_categorical_crossentropy\", \n",
        "        metrics=[\"sparse_categorical_accuracy\"]\n",
        "    )\n"
      ]
    },
    {
      "cell_type": "markdown",
      "metadata": {
        "id": "j6de_rRlBvqc",
        "colab_type": "text"
      },
      "source": [
        "## 5 Train model\n",
        "We train models by calling `fit()` on the training data.\n",
        "\n",
        "### Hyperparameters"
      ]
    },
    {
      "cell_type": "code",
      "metadata": {
        "id": "SzoJBZ8bDkFP",
        "colab_type": "code",
        "colab": {}
      },
      "source": [
        "num_epochs = 5\n",
        "batch_size = 64"
      ],
      "execution_count": 24,
      "outputs": []
    },
    {
      "cell_type": "markdown",
      "metadata": {
        "id": "9Osum7vWEVIO",
        "colab_type": "text"
      },
      "source": [
        "### Fit model to training data"
      ]
    },
    {
      "cell_type": "code",
      "metadata": {
        "id": "SPYzLG3GDsy1",
        "colab_type": "code",
        "colab": {
          "base_uri": "https://localhost:8080/",
          "height": 214
        },
        "outputId": "0f1b12cc-b879-4471-c32d-08a702dc94f3"
      },
      "source": [
        "train_log = model.fit(\n",
        "    x_train,\n",
        "    y_train,\n",
        "    batch_size = batch_size,\n",
        "    epochs = num_epochs,\n",
        "    validation_split = 0.2\n",
        ")"
      ],
      "execution_count": 25,
      "outputs": [
        {
          "output_type": "stream",
          "text": [
            "Epoch 1/5\n",
            "750/750 [==============================] - 2s 2ms/step - loss: 0.0291 - sparse_categorical_accuracy: 0.9910 - val_loss: 0.1202 - val_sparse_categorical_accuracy: 0.9730\n",
            "Epoch 2/5\n",
            "750/750 [==============================] - 2s 2ms/step - loss: 0.0245 - sparse_categorical_accuracy: 0.9926 - val_loss: 0.1325 - val_sparse_categorical_accuracy: 0.9700\n",
            "Epoch 3/5\n",
            "750/750 [==============================] - 2s 2ms/step - loss: 0.0228 - sparse_categorical_accuracy: 0.9927 - val_loss: 0.1344 - val_sparse_categorical_accuracy: 0.9713\n",
            "Epoch 4/5\n",
            "750/750 [==============================] - 2s 2ms/step - loss: 0.0201 - sparse_categorical_accuracy: 0.9940 - val_loss: 0.1390 - val_sparse_categorical_accuracy: 0.9711\n",
            "Epoch 5/5\n",
            "750/750 [==============================] - 2s 2ms/step - loss: 0.0170 - sparse_categorical_accuracy: 0.9947 - val_loss: 0.1399 - val_sparse_categorical_accuracy: 0.9729\n"
          ],
          "name": "stdout"
        }
      ]
    },
    {
      "cell_type": "markdown",
      "metadata": {
        "id": "bCR2ouFAER3l",
        "colab_type": "text"
      },
      "source": [
        "#### **The `fit()` method**\n",
        "\n",
        "The `fit()` method takes in multiple arguments. With this method you fit the model you compiled to your training data to start training.\n",
        "\n",
        "* You could specify the batch size, number of epochs etc with this method.\n",
        "\n",
        "* For train-val split, you could specify how much of your training data passed in which you want to keep for validation every epoch. A `validation_split` of 0.2 means the last 0.2 data in the training set will be reserved for validation at each epoch.\n",
        "\n",
        "* You could also specify how often you want the model to be validated by specifying the `validation_freq`. Setting it to 1 means validating every epoch.\n",
        "\n",
        "* If you have split the training set into training and validation set before-hand or if your dataset comes split into 3 sets (train, val, test), then you could also feed in the validation set by using the argument `validation_data` instead of specifying a `validation_split`. **NOTE: this is only possible if your data are `NumPy` arrays.**\n",
        "\n",
        "        train_log = model.fit(\n",
        "            x_train,\n",
        "            y_train,\n",
        "            batch_size = batch_size,\n",
        "            epochs = num_epochs,\n",
        "            validation_data = (x_val, y_val)\n",
        "        )\n",
        "\n",
        "**Note**: Calling `fit()` multiple times will NOT reset the weights, model state and optimiser state, i.e. the model will continue training from where it left off last time despite the output starts with epoch = 1.\n"
      ]
    },
    {
      "cell_type": "markdown",
      "metadata": {
        "id": "YBsgMCCLIi4E",
        "colab_type": "text"
      },
      "source": [
        "### Access history and plot them\n",
        "The returned \"train_log\" object holds a record of the loss values and metric values during training. This can be accessed using the `history` attribute."
      ]
    },
    {
      "cell_type": "code",
      "metadata": {
        "id": "rVPsSUgLEHjZ",
        "colab_type": "code",
        "colab": {
          "base_uri": "https://localhost:8080/",
          "height": 372
        },
        "outputId": "afd25273-513f-4ef2-a15a-dbf881162a7c"
      },
      "source": [
        "train_log.history"
      ],
      "execution_count": 27,
      "outputs": [
        {
          "output_type": "execute_result",
          "data": {
            "text/plain": [
              "{'loss': [0.029100023210048676,\n",
              "  0.02445376291871071,\n",
              "  0.022784769535064697,\n",
              "  0.020139891654253006,\n",
              "  0.016987403854727745],\n",
              " 'sparse_categorical_accuracy': [0.9910208582878113,\n",
              "  0.992562472820282,\n",
              "  0.9927499890327454,\n",
              "  0.9939583539962769,\n",
              "  0.9947291612625122],\n",
              " 'val_loss': [0.12020467221736908,\n",
              "  0.13245591521263123,\n",
              "  0.13443586230278015,\n",
              "  0.13903550803661346,\n",
              "  0.13992902636528015],\n",
              " 'val_sparse_categorical_accuracy': [0.9729999899864197,\n",
              "  0.9700000286102295,\n",
              "  0.9713333249092102,\n",
              "  0.9710833430290222,\n",
              "  0.9729166626930237]}"
            ]
          },
          "metadata": {
            "tags": []
          },
          "execution_count": 27
        }
      ]
    },
    {
      "cell_type": "code",
      "metadata": {
        "id": "f4w75IgUgACr",
        "colab_type": "code",
        "colab": {
          "base_uri": "https://localhost:8080/",
          "height": 312
        },
        "outputId": "0eaacaa0-e0a8-4d23-b549-7a20f97a729c"
      },
      "source": [
        "import matplotlib.pyplot as plt\n",
        "plt.plot(train_log.history['loss'], 'b', label = \"train_loss\")\n",
        "plt.plot(train_log.history['val_loss'], 'r', label = \"val_loss\")\n",
        "plt.legend()\n",
        "plt.title(\"Loss curve\")\n",
        "plt.xlabel(\"Epoch\")"
      ],
      "execution_count": 26,
      "outputs": [
        {
          "output_type": "execute_result",
          "data": {
            "text/plain": [
              "Text(0.5, 0, 'Epoch')"
            ]
          },
          "metadata": {
            "tags": []
          },
          "execution_count": 26
        },
        {
          "output_type": "display_data",
          "data": {
            "image/png": "[encoded data removed]",
            "text/plain": [
              "<Figure size 432x288 with 1 Axes>"
            ]
          },
          "metadata": {
            "tags": [],
            "needs_background": "light"
          }
        }
      ]
    },
    {
      "cell_type": "code",
      "metadata": {
        "id": "G73BslxphAlM",
        "colab_type": "code",
        "colab": {}
      },
      "source": [
        ""
      ],
      "execution_count": null,
      "outputs": []
    }
  ]
}