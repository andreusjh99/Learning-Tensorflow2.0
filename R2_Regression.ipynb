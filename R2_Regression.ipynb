{
  "nbformat": 4,
  "nbformat_minor": 0,
  "metadata": {
    "colab": {
      "name": "R2: Regression.ipynb",
      "provenance": [],
      "collapsed_sections": [],
      "authorship_tag": "ABX9TyPJkvlKqpOEJMss7+bMp6u8",
      "include_colab_link": true
    },
    "kernelspec": {
      "name": "python3",
      "display_name": "Python 3"
    }
  },
  "cells": [
    {
      "cell_type": "markdown",
      "metadata": {
        "id": "view-in-github",
        "colab_type": "text"
      },
      "source": [
        "<a href=\"https://colab.research.google.com/github/andreusjh99/Learning-Tensorflow2.0/blob/master/R2_Regression.ipynb\" target=\"_parent\"><img src=\"https://colab.research.google.com/assets/colab-badge.svg\" alt=\"Open In Colab\"/></a>"
      ]
    },
    {
      "cell_type": "markdown",
      "metadata": {
        "id": "82_6K4B3iy_h",
        "colab_type": "text"
      },
      "source": [
        "# Core Learning Algorithms 1 - Regression (2)\n"
      ]
    },
    {
      "cell_type": "markdown",
      "metadata": {
        "id": "9NnyVpwjjmdK",
        "colab_type": "text"
      },
      "source": [
        "## **Linear Regression**\n",
        "\n",
        "In this example, I am using the Kaggle Medical Personal Dataset. This is the second regression example, which includes a problem with multiple features.\n",
        "\n",
        "Notes on some functions could be found in the first notebook: [R1-Simple Regression](https://github.com/andreusjh99/Learning-Tensorflow2.0/blob/master/R1_Simple_Regression.ipynb)."
      ]
    },
    {
      "cell_type": "markdown",
      "metadata": {
        "id": "T3db_5mj6s_y",
        "colab_type": "text"
      },
      "source": [
        "## Workflow\n",
        "\n",
        "1. Import stuff\n",
        "2. Load your dataset using pandas\n",
        "3. Preprocess the data\n",
        "4. Create model\n",
        "5. Train model\n",
        "6. Evaluate model\n",
        "7. Visualise results (if possible)"
      ]
    },
    {
      "cell_type": "markdown",
      "metadata": {
        "id": "17xEutGojy6-",
        "colab_type": "text"
      },
      "source": [
        "## Setup and imports\n",
        "\n"
      ]
    },
    {
      "cell_type": "code",
      "metadata": {
        "id": "B2JMi6nxiWSG",
        "colab_type": "code",
        "colab": {}
      },
      "source": [
        "!pip install -q sklearn"
      ],
      "execution_count": 1,
      "outputs": []
    },
    {
      "cell_type": "code",
      "metadata": {
        "id": "SyrBtVjsj6Rq",
        "colab_type": "code",
        "colab": {
          "base_uri": "https://localhost:8080/",
          "height": 105
        },
        "outputId": "e37878b9-3a05-4c89-b173-e391348dadc0"
      },
      "source": [
        "%tensorflow_version 2.x  # this line is not required unless you are in a notebook"
      ],
      "execution_count": 2,
      "outputs": [
        {
          "output_type": "stream",
          "text": [
            "`%tensorflow_version` only switches the major version: 1.x or 2.x.\n",
            "You set: `2.x  # this line is not required unless you are in a notebook`. This will be interpreted as: `2.x`.\n",
            "\n",
            "\n",
            "TensorFlow 2.x selected.\n"
          ],
          "name": "stdout"
        }
      ]
    },
    {
      "cell_type": "code",
      "metadata": {
        "id": "3eY9qn6bj-U7",
        "colab_type": "code",
        "colab": {
          "base_uri": "https://localhost:8080/",
          "height": 34
        },
        "outputId": "6fbb03af-6ed5-497d-9602-73134d0130ae"
      },
      "source": [
        "!python --version"
      ],
      "execution_count": 3,
      "outputs": [
        {
          "output_type": "stream",
          "text": [
            "Python 3.6.9\n"
          ],
          "name": "stdout"
        }
      ]
    },
    {
      "cell_type": "code",
      "metadata": {
        "id": "Q8GO9Kd4kAEu",
        "colab_type": "code",
        "colab": {}
      },
      "source": [
        "import numpy as np\n",
        "import pandas as pd\n",
        "import matplotlib.pyplot as plt\n",
        "%matplotlib inline\n",
        "\n",
        "import tensorflow as tf\n",
        "from sklearn.model_selection import train_test_split\n",
        "\n",
        "from IPython.display import clear_output\n",
        "from six.moves import urllib\n",
        "\n",
        "import tensorflow.compat.v2.feature_column as fc"
      ],
      "execution_count": 4,
      "outputs": []
    },
    {
      "cell_type": "code",
      "metadata": {
        "id": "vP-tUYRu6afo",
        "colab_type": "code",
        "colab": {
          "base_uri": "https://localhost:8080/",
          "height": 34
        },
        "outputId": "b66ea944-9814-49a4-9649-66d3cce3c0fb"
      },
      "source": [
        "print(tf.__version__)"
      ],
      "execution_count": 5,
      "outputs": [
        {
          "output_type": "stream",
          "text": [
            "2.2.0\n"
          ],
          "name": "stdout"
        }
      ]
    },
    {
      "cell_type": "markdown",
      "metadata": {
        "id": "VLoFlJx4ltqt",
        "colab_type": "text"
      },
      "source": [
        "## Upload dataset\n",
        "\n",
        "The dataset we are using is from the Kaggle Medical Cost Personal dataset: https://www.kaggle.com/mirichoi0218/insurance\n",
        "\n",
        "The zip file contains only `insurance.csv`"
      ]
    },
    {
      "cell_type": "code",
      "metadata": {
        "id": "X9_CY05bTNGI",
        "colab_type": "code",
        "colab": {}
      },
      "source": [
        "import requests, zipfile, io\n",
        "\n",
        "r = requests.get( \"https://github.com/andreusjh99/Learning-Tensorflow2.0/blob/master/Datasets/MedicalCostKaggle.zip?raw=true\" ) \n",
        "z = zipfile.ZipFile(io.BytesIO(r.content))\n",
        "z.extractall() "
      ],
      "execution_count": 6,
      "outputs": []
    },
    {
      "cell_type": "code",
      "metadata": {
        "id": "KJnT-DssTqV5",
        "colab_type": "code",
        "colab": {
          "base_uri": "https://localhost:8080/",
          "height": 197
        },
        "outputId": "75705b93-07bc-4008-f77f-599f240540b8"
      },
      "source": [
        "my_data = pd.read_csv(\"insurance.csv\")\n",
        "my_data.head()"
      ],
      "execution_count": 7,
      "outputs": [
        {
          "output_type": "execute_result",
          "data": {
            "text/html": [
              "<div>\n",
              "<style scoped>\n",
              "    .dataframe tbody tr th:only-of-type {\n",
              "        vertical-align: middle;\n",
              "    }\n",
              "\n",
              "    .dataframe tbody tr th {\n",
              "        vertical-align: top;\n",
              "    }\n",
              "\n",
              "    .dataframe thead th {\n",
              "        text-align: right;\n",
              "    }\n",
              "</style>\n",
              "<table border=\"1\" class=\"dataframe\">\n",
              "  <thead>\n",
              "    <tr style=\"text-align: right;\">\n",
              "      <th></th>\n",
              "      <th>age</th>\n",
              "      <th>sex</th>\n",
              "      <th>bmi</th>\n",
              "      <th>children</th>\n",
              "      <th>smoker</th>\n",
              "      <th>region</th>\n",
              "      <th>charges</th>\n",
              "    </tr>\n",
              "  </thead>\n",
              "  <tbody>\n",
              "    <tr>\n",
              "      <th>0</th>\n",
              "      <td>19</td>\n",
              "      <td>female</td>\n",
              "      <td>27.900</td>\n",
              "      <td>0</td>\n",
              "      <td>yes</td>\n",
              "      <td>southwest</td>\n",
              "      <td>16884.92400</td>\n",
              "    </tr>\n",
              "    <tr>\n",
              "      <th>1</th>\n",
              "      <td>18</td>\n",
              "      <td>male</td>\n",
              "      <td>33.770</td>\n",
              "      <td>1</td>\n",
              "      <td>no</td>\n",
              "      <td>southeast</td>\n",
              "      <td>1725.55230</td>\n",
              "    </tr>\n",
              "    <tr>\n",
              "      <th>2</th>\n",
              "      <td>28</td>\n",
              "      <td>male</td>\n",
              "      <td>33.000</td>\n",
              "      <td>3</td>\n",
              "      <td>no</td>\n",
              "      <td>southeast</td>\n",
              "      <td>4449.46200</td>\n",
              "    </tr>\n",
              "    <tr>\n",
              "      <th>3</th>\n",
              "      <td>33</td>\n",
              "      <td>male</td>\n",
              "      <td>22.705</td>\n",
              "      <td>0</td>\n",
              "      <td>no</td>\n",
              "      <td>northwest</td>\n",
              "      <td>21984.47061</td>\n",
              "    </tr>\n",
              "    <tr>\n",
              "      <th>4</th>\n",
              "      <td>32</td>\n",
              "      <td>male</td>\n",
              "      <td>28.880</td>\n",
              "      <td>0</td>\n",
              "      <td>no</td>\n",
              "      <td>northwest</td>\n",
              "      <td>3866.85520</td>\n",
              "    </tr>\n",
              "  </tbody>\n",
              "</table>\n",
              "</div>"
            ],
            "text/plain": [
              "   age     sex     bmi  children smoker     region      charges\n",
              "0   19  female  27.900         0    yes  southwest  16884.92400\n",
              "1   18    male  33.770         1     no  southeast   1725.55230\n",
              "2   28    male  33.000         3     no  southeast   4449.46200\n",
              "3   33    male  22.705         0     no  northwest  21984.47061\n",
              "4   32    male  28.880         0     no  northwest   3866.85520"
            ]
          },
          "metadata": {
            "tags": []
          },
          "execution_count": 7
        }
      ]
    },
    {
      "cell_type": "markdown",
      "metadata": {
        "id": "ZsR8vwZP65R4",
        "colab_type": "text"
      },
      "source": [
        "## Processing the CSV\n",
        "\n",
        "We parse the values of the features and the labels from the Pandas dataframe. The steps:\n",
        "1. Convert categorical data to values\n",
        "2. Normalise the values in numeric columns\n",
        "3. Form the features array. (`X`)\n",
        "4. Parse the label values. (`y`)\n",
        "5. Split the `X` and `y` into training and testing datasets.\n",
        "6. Convert all the arrays to `tf.Tensor` objects."
      ]
    },
    {
      "cell_type": "code",
      "metadata": {
        "id": "-S2kYjc5WH2b",
        "colab_type": "code",
        "colab": {
          "base_uri": "https://localhost:8080/",
          "height": 215
        },
        "outputId": "82086e75-e066-44f1-c0c6-4ffa49de7eb0"
      },
      "source": [
        "# convert categorical values into numerical values\n",
        "CATEGORICAL_COLUMNS = ['sex', 'smoker', 'region']\n",
        "NUMERIC_COLUMNS = ['age', 'bmi', 'children']\n",
        "LABELS = ['charges']\n",
        "\n",
        "for feature in CATEGORICAL_COLUMNS:\n",
        "    my_data[feature] = pd.Categorical(my_data[feature]).codes\n",
        "\n",
        "# normalise\n",
        "norm_consts = dict() # dict of normalisation constant\n",
        "for feature in NUMERIC_COLUMNS:\n",
        "    max = my_data[feature].max()\n",
        "    min = my_data[feature].min()\n",
        "\n",
        "    norm_consts[feature] = max - min\n",
        "\n",
        "    if max != min:\n",
        "        my_data[feature] = (my_data[feature] - min)/(max - min)\n",
        "\n",
        "for label in LABELS:\n",
        "    max = my_data[label].max()\n",
        "    min = my_data[label].min()\n",
        "\n",
        "    norm_consts[label] = max - min\n",
        "\n",
        "    if max != min:\n",
        "        my_data[label] = (my_data[label] - min)/(max - min)\n",
        "\n",
        "print(norm_consts)\n",
        "my_data.head()"
      ],
      "execution_count": 8,
      "outputs": [
        {
          "output_type": "stream",
          "text": [
            "{'age': 46, 'bmi': 37.17, 'children': 5, 'charges': 62648.554110000005}\n"
          ],
          "name": "stdout"
        },
        {
          "output_type": "execute_result",
          "data": {
            "text/html": [
              "<div>\n",
              "<style scoped>\n",
              "    .dataframe tbody tr th:only-of-type {\n",
              "        vertical-align: middle;\n",
              "    }\n",
              "\n",
              "    .dataframe tbody tr th {\n",
              "        vertical-align: top;\n",
              "    }\n",
              "\n",
              "    .dataframe thead th {\n",
              "        text-align: right;\n",
              "    }\n",
              "</style>\n",
              "<table border=\"1\" class=\"dataframe\">\n",
              "  <thead>\n",
              "    <tr style=\"text-align: right;\">\n",
              "      <th></th>\n",
              "      <th>age</th>\n",
              "      <th>sex</th>\n",
              "      <th>bmi</th>\n",
              "      <th>children</th>\n",
              "      <th>smoker</th>\n",
              "      <th>region</th>\n",
              "      <th>charges</th>\n",
              "    </tr>\n",
              "  </thead>\n",
              "  <tbody>\n",
              "    <tr>\n",
              "      <th>0</th>\n",
              "      <td>0.021739</td>\n",
              "      <td>0</td>\n",
              "      <td>0.321227</td>\n",
              "      <td>0.0</td>\n",
              "      <td>1</td>\n",
              "      <td>3</td>\n",
              "      <td>0.251611</td>\n",
              "    </tr>\n",
              "    <tr>\n",
              "      <th>1</th>\n",
              "      <td>0.000000</td>\n",
              "      <td>1</td>\n",
              "      <td>0.479150</td>\n",
              "      <td>0.2</td>\n",
              "      <td>0</td>\n",
              "      <td>2</td>\n",
              "      <td>0.009636</td>\n",
              "    </tr>\n",
              "    <tr>\n",
              "      <th>2</th>\n",
              "      <td>0.217391</td>\n",
              "      <td>1</td>\n",
              "      <td>0.458434</td>\n",
              "      <td>0.6</td>\n",
              "      <td>0</td>\n",
              "      <td>2</td>\n",
              "      <td>0.053115</td>\n",
              "    </tr>\n",
              "    <tr>\n",
              "      <th>3</th>\n",
              "      <td>0.326087</td>\n",
              "      <td>1</td>\n",
              "      <td>0.181464</td>\n",
              "      <td>0.0</td>\n",
              "      <td>0</td>\n",
              "      <td>1</td>\n",
              "      <td>0.333010</td>\n",
              "    </tr>\n",
              "    <tr>\n",
              "      <th>4</th>\n",
              "      <td>0.304348</td>\n",
              "      <td>1</td>\n",
              "      <td>0.347592</td>\n",
              "      <td>0.0</td>\n",
              "      <td>0</td>\n",
              "      <td>1</td>\n",
              "      <td>0.043816</td>\n",
              "    </tr>\n",
              "  </tbody>\n",
              "</table>\n",
              "</div>"
            ],
            "text/plain": [
              "        age  sex       bmi  children  smoker  region   charges\n",
              "0  0.021739    0  0.321227       0.0       1       3  0.251611\n",
              "1  0.000000    1  0.479150       0.2       0       2  0.009636\n",
              "2  0.217391    1  0.458434       0.6       0       2  0.053115\n",
              "3  0.326087    1  0.181464       0.0       0       1  0.333010\n",
              "4  0.304348    1  0.347592       0.0       0       1  0.043816"
            ]
          },
          "metadata": {
            "tags": []
          },
          "execution_count": 8
        }
      ]
    },
    {
      "cell_type": "code",
      "metadata": {
        "id": "SChrpGFZ1jrR",
        "colab_type": "code",
        "colab": {}
      },
      "source": [
        "X = my_data[['age', 'sex', 'bmi', 'children', 'smoker', 'region']].values\n",
        "y = my_data['charges'].values\n",
        "# this gives numpy arrays of the X and y values. (num_samples, num_features)\n",
        "\n",
        "# train-test split\n",
        "train_feats, test_feats, train_labels, test_labels = train_test_split(\n",
        "    X, y, test_size = 0.2)\n",
        "\n",
        "# creating tf tensor objects\n",
        "train_X = tf.constant(train_feats, dtype=tf.float32)\n",
        "train_y = tf.constant(train_labels, dtype=tf.float32)\n",
        "test_X = tf.constant(test_feats, dtype=tf.float32)\n",
        "test_y = tf.constant(test_labels, dtype=tf.float32)"
      ],
      "execution_count": 9,
      "outputs": []
    },
    {
      "cell_type": "markdown",
      "metadata": {
        "id": "Mt3gt07H_C0l",
        "colab_type": "text"
      },
      "source": [
        "## Creating model\n",
        "\n",
        "Steps:\n",
        "1. Define loss fn and its deriv\n",
        "2. Create the model function\n",
        "3. Define hyperparameters\n",
        "4. Define `tf.data.Dataset`"
      ]
    },
    {
      "cell_type": "markdown",
      "metadata": {
        "id": "bMHik_ad955t",
        "colab_type": "text"
      },
      "source": [
        "We use mean squared error in this problem.\n",
        "\n",
        "$\\Large MSE( y , \\hat{y} ) = \\frac{ \\sum_{i=0}^{N} ( \\hat{y}_i - y_i )^2 } { N }$"
      ]
    },
    {
      "cell_type": "code",
      "metadata": {
        "id": "ic55OPGQuDBh",
        "colab_type": "code",
        "colab": {}
      },
      "source": [
        "# tf.reduce_mean(x) calculate the mean of all values in the tensor x and returns a reduced tensor.\n",
        "\n",
        "def mean_squared_error(y, y_pred):\n",
        "    return tf.reduce_mean(tf.square(y_pred - y))\n",
        "\n",
        "def mean_squared_error_deriv(y, y_pred):\n",
        "    return tf.reshape(tf.reduce_mean(2*(y_pred - y)), [1, 1])"
      ],
      "execution_count": 10,
      "outputs": []
    },
    {
      "cell_type": "markdown",
      "metadata": {
        "id": "Om2yAjqWAAN_",
        "colab_type": "text"
      },
      "source": [
        "We create the regression function from scratch here.\n",
        "\n",
        "$\\hat{y} = h(x) = W.X + \\mathbf{b}$"
      ]
    },
    {
      "cell_type": "code",
      "metadata": {
        "id": "qt42s-hv_CZa",
        "colab_type": "code",
        "colab": {}
      },
      "source": [
        "def h(X, weights, bias):\n",
        "    return tf.tensordot(X, weights, axes = 1) + bias"
      ],
      "execution_count": 11,
      "outputs": []
    },
    {
      "cell_type": "markdown",
      "metadata": {
        "id": "B7ED04ChAGbQ",
        "colab_type": "text"
      },
      "source": [
        "Hyperparameters:\n",
        "1. epochs\n",
        "2. batch_size: size of mini-batch used in mini-batch gradient descent\n",
        "3. learning-rate"
      ]
    },
    {
      "cell_type": "code",
      "metadata": {
        "id": "bOHBBrsj_CVE",
        "colab_type": "code",
        "colab": {
          "base_uri": "https://localhost:8080/",
          "height": 34
        },
        "outputId": "ca25d58c-240b-4920-fa89-ffa6497976a1"
      },
      "source": [
        "num_epochs = 20\n",
        "num_samples = train_X.shape[0]\n",
        "batch_size = 10\n",
        "learning_rate = 0.002\n",
        "\n",
        "print(\"No of samples in training dataset: \", num_samples)"
      ],
      "execution_count": 16,
      "outputs": [
        {
          "output_type": "stream",
          "text": [
            "No of samples in training dataset:  1070\n"
          ],
          "name": "stdout"
        }
      ]
    },
    {
      "cell_type": "markdown",
      "metadata": {
        "id": "8QHHXIWasd92",
        "colab_type": "text"
      },
      "source": [
        "We also create and shuffle our dataset."
      ]
    },
    {
      "cell_type": "code",
      "metadata": {
        "id": "7ymfyxK9BVS_",
        "colab_type": "code",
        "colab": {}
      },
      "source": [
        "dataset = tf.data.Dataset.from_tensor_slices((train_X, train_y))\n",
        "dataset = dataset.shuffle(int(num_samples*1.5)) # shuffles data\n",
        "dataset = dataset.repeat(num_epochs) # repeats the dataset by num_epochs times\n",
        "dataset = dataset.batch(batch_size) # creates batches of size = batch_size\n",
        "iterator = dataset.__iter__()"
      ],
      "execution_count": 17,
      "outputs": []
    },
    {
      "cell_type": "markdown",
      "metadata": {
        "id": "TYKaJ5Ltt5aS",
        "colab_type": "text"
      },
      "source": [
        "## Training the model\n",
        "\n",
        "To optimize the parameter $W$, the partial derivative of $MSE$ with respect to $W$ will be,\n",
        "\n",
        "$\\Large \\frac{ \\partial MSE }{ \\partial W} = \\frac{ \\partial MSE }{ \\partial h} * \\frac{ \\partial h }{ \\partial W}$\n",
        "\n",
        "Similarly for bias $b$ , \n",
        "\n",
        "$\\Large \\frac{ \\partial MSE }{ \\partial b} = \\frac{ \\partial MSE }{ \\partial h} * 1 $"
      ]
    },
    {
      "cell_type": "code",
      "metadata": {
        "id": "ZTvoPWyyt578",
        "colab_type": "code",
        "colab": {
          "base_uri": "https://localhost:8080/",
          "height": 34
        },
        "outputId": "6ad6d809-9cc9-43d9-91af-887c844f6e58"
      },
      "source": [
        "if len(train_X.shape) > 1:\n",
        "    num_features = train_X.shape[1]\n",
        "else:\n",
        "    num_features = 1\n",
        "\n",
        "print(\"No of features: \", num_features)\n",
        "\n",
        "# note in this example weight is a tensor of shape [1, 1]"
      ],
      "execution_count": 18,
      "outputs": [
        {
          "output_type": "stream",
          "text": [
            "No of features:  6\n"
          ],
          "name": "stdout"
        }
      ]
    },
    {
      "cell_type": "code",
      "metadata": {
        "id": "hodeJDaut53m",
        "colab_type": "code",
        "colab": {
          "base_uri": "https://localhost:8080/",
          "height": 123
        },
        "outputId": "81b6e661-4608-42c5-d1f2-84f1f689039b"
      },
      "source": [
        "# initialise params\n",
        "tf.random.set_seed(1001)\n",
        "weights = tf.random.normal((num_features, 1)) # (num_features, 1)\n",
        "bias = 0\n",
        "\n",
        "epochs_plot = list()\n",
        "loss_plot = list()\n",
        "\n",
        "# start training\n",
        "for i in range(num_epochs):\n",
        "\n",
        "    epoch_loss = list()\n",
        "    for b in range(int(num_samples/batch_size)):\n",
        "        x_batch, y_batch = iterator.get_next()\n",
        "\n",
        "        output = h(x_batch, weights, bias)\n",
        "        loss = mean_squared_error(y_batch, output).numpy() # .numpy() to get the value of the tensor object\n",
        "        epoch_loss.append(loss)\n",
        "\n",
        "        dJ_dH = mean_squared_error_deriv(y_batch, output) # a value\n",
        "        dH_dW = x_batch # a matrix (batch_size, num_features)\n",
        "        dJ_dW = tf.reduce_mean(dJ_dH * dH_dW)\n",
        "        dJ_dB = tf.reduce_mean(dJ_dH)\n",
        "\n",
        "        weights -= (learning_rate*dJ_dW)\n",
        "        bias -= (learning_rate*dJ_dB)\n",
        "\n",
        "    e_loss = np.array(epoch_loss).mean() # mean loss for one epoch\n",
        "    epochs_plot.append(i + 1)\n",
        "    loss_plot.append(e_loss)\n",
        "\n",
        "    if i % 4 == 0:\n",
        "        print(\"Epoch {}: Loss is {}\".format(i+1, e_loss))\n",
        "\n",
        "print(\"Final loss: \", e_loss)"
      ],
      "execution_count": 19,
      "outputs": [
        {
          "output_type": "stream",
          "text": [
            "Epoch 1: Loss is 6.757981777191162\n",
            "Epoch 5: Loss is 0.7060158252716064\n",
            "Epoch 9: Loss is 0.6953954696655273\n",
            "Epoch 13: Loss is 0.6860610842704773\n",
            "Epoch 17: Loss is 0.6686465740203857\n",
            "Final loss:  0.6675848\n"
          ],
          "name": "stdout"
        }
      ]
    },
    {
      "cell_type": "markdown",
      "metadata": {
        "id": "vHWSPy909zDl",
        "colab_type": "text"
      },
      "source": [
        "## Plot the loss curve"
      ]
    },
    {
      "cell_type": "code",
      "metadata": {
        "id": "iiQnvjW6CP9Y",
        "colab_type": "code",
        "colab": {
          "base_uri": "https://localhost:8080/",
          "height": 281
        },
        "outputId": "7d5ca867-fc80-4976-e289-51335ee22b69"
      },
      "source": [
        "plt.plot( epochs_plot , loss_plot ) \n",
        "plt.title(\"Loss (MSE) curve\")\n",
        "plt.show()"
      ],
      "execution_count": 20,
      "outputs": [
        {
          "output_type": "display_data",
          "data": {
            "image/png": "[encoded data removed]",
            "text/plain": [
              "<Figure size 432x288 with 1 Axes>"
            ]
          },
          "metadata": {
            "tags": [],
            "needs_background": "light"
          }
        }
      ]
    },
    {
      "cell_type": "markdown",
      "metadata": {
        "id": "tPVxC50NAOxf",
        "colab_type": "text"
      },
      "source": [
        "## Evaluate the model\n",
        "\n",
        "We evaluate our model's performance  by measuring the Mean Squared Error on the test dataset."
      ]
    },
    {
      "cell_type": "code",
      "metadata": {
        "id": "FH_iongkAdMd",
        "colab_type": "code",
        "colab": {
          "base_uri": "https://localhost:8080/",
          "height": 34
        },
        "outputId": "2ac3c6e1-9e34-4156-c5b7-676553190b09"
      },
      "source": [
        "output = h( test_X , weights , bias ) \n",
        "labels = test_y\n",
        "\n",
        "accuracy_op = tf.metrics.MeanSquaredError() \n",
        "accuracy_op.update_state( labels , output )\n",
        "print( 'Mean Squared Error = {}'.format( accuracy_op.result().numpy() ) )"
      ],
      "execution_count": 21,
      "outputs": [
        {
          "output_type": "stream",
          "text": [
            "Mean Squared Error = 0.6596787571907043\n"
          ],
          "name": "stdout"
        }
      ]
    },
    {
      "cell_type": "markdown",
      "metadata": {
        "id": "Jj2jAXJ8Axev",
        "colab_type": "text"
      },
      "source": [
        "## Visualise result (if possible)\n"
      ]
    },
    {
      "cell_type": "code",
      "metadata": {
        "id": "o8EWPus5G926",
        "colab_type": "code",
        "colab": {
          "base_uri": "https://localhost:8080/",
          "height": 123
        },
        "outputId": "74bcad65-185a-4200-9201-d326a62859f2"
      },
      "source": [
        "print(\"weight: \", weights.numpy(), \"bias: \", bias.numpy())"
      ],
      "execution_count": 22,
      "outputs": [
        {
          "output_type": "stream",
          "text": [
            "weight:  [[ 1.137866  ]\n",
            " [-0.3678208 ]\n",
            " [ 0.50441927]\n",
            " [-0.18112093]\n",
            " [-0.15452391]\n",
            " [ 0.5969952 ]] bias:  -1.1742789\n"
          ],
          "name": "stdout"
        }
      ]
    },
    {
      "cell_type": "code",
      "metadata": {
        "id": "ol6L-GKhA2rx",
        "colab_type": "code",
        "colab": {}
      },
      "source": [
        "# plt.scatter(X, y, s = 10)\n",
        "\n",
        "# # plot line\n",
        "# line_x = np.linspace(0.0, 10.0, 500)\n",
        "\n",
        "# line_y = weights.numpy()[0][0]*line_x + bias.numpy()\n",
        "# plt.plot(line_x, line_y, 'r')\n"
      ],
      "execution_count": 23,
      "outputs": []
    },
    {
      "cell_type": "code",
      "metadata": {
        "id": "fII0LZf2BvBz",
        "colab_type": "code",
        "colab": {}
      },
      "source": [
        ""
      ],
      "execution_count": null,
      "outputs": []
    }
  ]
}