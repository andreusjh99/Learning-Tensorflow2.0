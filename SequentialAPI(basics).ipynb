{
  "nbformat": 4,
  "nbformat_minor": 0,
  "metadata": {
    "colab": {
      "name": "SequentialAPI(basics).ipynb",
      "provenance": [],
      "collapsed_sections": [],
      "authorship_tag": "ABX9TyM7eDilkGXf50W5vTF+8x2a",
      "include_colab_link": true
    },
    "kernelspec": {
      "name": "python3",
      "display_name": "Python 3"
    }
  },
  "cells": [
    {
      "cell_type": "markdown",
      "metadata": {
        "id": "view-in-github",
        "colab_type": "text"
      },
      "source": [
        "<a href=\"https://colab.research.google.com/github/andreusjh99/Learning-Tensorflow2.0/blob/master/SequentialAPI(basics).ipynb\" target=\"_parent\"><img src=\"https://colab.research.google.com/assets/colab-badge.svg\" alt=\"Open In Colab\"/></a>"
      ]
    },
    {
      "cell_type": "markdown",
      "metadata": {
        "id": "-_tmz5_tg1V3",
        "colab_type": "text"
      },
      "source": [
        "# **Sequential API**\n",
        "\n",
        "Author: [Chia Jing Heng](https://github.com/andreusjh99)\n",
        "\n",
        "This notebook explores the basics of using keras.Sequential API to create and a model architecture. The bulk of this tutorial is from the [tensorflow official guide](https://www.tensorflow.org/guide/keras/sequential_model)."
      ]
    },
    {
      "cell_type": "markdown",
      "metadata": {
        "id": "PU-SF1QGh3Cg",
        "colab_type": "text"
      },
      "source": [
        "# *When to use a Sequential model?\n",
        "A `sequential` model is appropriate for a **plain stack of layers** where each layer has exactly one input tensor and one output tensor.\n",
        "\n",
        "It is not appropriate when:\n",
        "* Your model or any of its layers has multiple inputs or multiple outputs\n",
        "* You need to do layer sharing\n",
        "* You want a non-linear topology (eg a residual connection, a multi-branch model etc.)"
      ]
    },
    {
      "cell_type": "markdown",
      "metadata": {
        "id": "Xxq_tIaqjjU7",
        "colab_type": "text"
      },
      "source": [
        "*Note: the layers, losses, metrics etc. mentioned in this tutorial will be explained briefly in the appendix. For more info: [layers](https://keras.io/api/layers/), [losses](https://keras.io/api/losses/), [metrics](https://keras.io/api/metrics/).*"
      ]
    },
    {
      "cell_type": "markdown",
      "metadata": {
        "id": "DueaFM__g1FQ",
        "colab_type": "text"
      },
      "source": [
        "## Setup\n"
      ]
    },
    {
      "cell_type": "code",
      "metadata": {
        "id": "Z9kyf4L6hcyN",
        "colab_type": "code",
        "colab": {
          "base_uri": "https://localhost:8080/",
          "height": 125
        },
        "outputId": "6675d8ac-c364-4a78-da5b-426dacd7c5ed"
      },
      "source": [
        "%tensorflow_version 2.x  # this line is not required unless you are in a notebook"
      ],
      "execution_count": 1,
      "outputs": [
        {
          "output_type": "stream",
          "text": [
            "`%tensorflow_version` only switches the major version: 1.x or 2.x.\n",
            "You set: `2.x  # this line is not required unless you are in a notebook`. This will be interpreted as: `2.x`.\n",
            "\n",
            "\n",
            "TensorFlow 2.x selected.\n"
          ],
          "name": "stdout"
        }
      ]
    },
    {
      "cell_type": "code",
      "metadata": {
        "id": "OFVsaq64gnUG",
        "colab_type": "code",
        "colab": {
          "base_uri": "https://localhost:8080/",
          "height": 34
        },
        "outputId": "986f5ee4-aec7-416c-bbc1-2b618a9c3985"
      },
      "source": [
        "import tensorflow as tf\n",
        "from tensorflow import keras\n",
        "from tensorflow.keras import layers\n",
        "\n",
        "print(tf.__version__)"
      ],
      "execution_count": 2,
      "outputs": [
        {
          "output_type": "stream",
          "text": [
            "2.2.0\n"
          ],
          "name": "stdout"
        }
      ]
    },
    {
      "cell_type": "markdown",
      "metadata": {
        "id": "ixTWvAaNidRE",
        "colab_type": "text"
      },
      "source": [
        "# Creating a Sequential model\n",
        "\n",
        "Creating a Sequential model involves defining the layers, and this is helped by the Layers API."
      ]
    },
    {
      "cell_type": "markdown",
      "metadata": {
        "id": "xHwqiH70m8_w",
        "colab_type": "text"
      },
      "source": [
        "## Specifying input shape in advance\n",
        "Generally all layers in Keras need to know the shape of their inputs in order to be able to create their weights. \n",
        "\n",
        "The example below illustrates this."
      ]
    },
    {
      "cell_type": "code",
      "metadata": {
        "id": "7goqA6cNnJdg",
        "colab_type": "code",
        "colab": {
          "base_uri": "https://localhost:8080/",
          "height": 34
        },
        "outputId": "f44343cf-3ae8-488f-ffa2-ef8296779aeb"
      },
      "source": [
        "layer = layers.Dense(3)\n",
        "layer.weights # Empty"
      ],
      "execution_count": 3,
      "outputs": [
        {
          "output_type": "execute_result",
          "data": {
            "text/plain": [
              "[]"
            ]
          },
          "metadata": {
            "tags": []
          },
          "execution_count": 3
        }
      ]
    },
    {
      "cell_type": "code",
      "metadata": {
        "id": "D8CQRswcnP7t",
        "colab_type": "code",
        "colab": {
          "base_uri": "https://localhost:8080/",
          "height": 143
        },
        "outputId": "a9b8f859-21dd-451c-ce09-260e66b7c740"
      },
      "source": [
        "x = tf.ones((1, 4))\n",
        "y = layer(x)\n",
        "layer.weights # Now it has weights of shape (4, 3) and bias (3, )"
      ],
      "execution_count": 4,
      "outputs": [
        {
          "output_type": "execute_result",
          "data": {
            "text/plain": [
              "[<tf.Variable 'dense/kernel:0' shape=(4, 3) dtype=float32, numpy=\n",
              " array([[-0.20316261,  0.06685311, -0.5065591 ],\n",
              "        [ 0.42300308, -0.24743915, -0.01107436],\n",
              "        [-0.84601885, -0.33679044,  0.07068479],\n",
              "        [ 0.76290965,  0.5092368 , -0.1899758 ]], dtype=float32)>,\n",
              " <tf.Variable 'dense/bias:0' shape=(3,) dtype=float32, numpy=array([0., 0., 0.], dtype=float32)>]"
            ]
          },
          "metadata": {
            "tags": []
          },
          "execution_count": 4
        }
      ]
    },
    {
      "cell_type": "markdown",
      "metadata": {
        "id": "ShZJ5K9IoK9N",
        "colab_type": "text"
      },
      "source": [
        "As such, it is usual practice to instantiate a Sequential model with an input shape, as will be shown below."
      ]
    },
    {
      "cell_type": "markdown",
      "metadata": {
        "id": "2sKyohTsni-3",
        "colab_type": "text"
      },
      "source": [
        "## Sequential Model\n",
        "There are generally 2 ways of creating a Sequential model:\n",
        "1. passing a list of layers to the Sequential constructor\n",
        "2. create a Sequential model incrementally by using the `add()` method.\n",
        "\n",
        "Note: both ways give the same result!"
      ]
    },
    {
      "cell_type": "markdown",
      "metadata": {
        "id": "w6nKEd9NlfEb",
        "colab_type": "text"
      },
      "source": [
        "### 1. passing a list of layers to the Sequential constructor\n",
        "\n",
        "> This method does not allow you to specify the input shape as you are instantiating the model.\n",
        "\n",
        "> Only after calling the model on an input that you would have specified the input shape for the model. This is not ideal as you would want to be able to inspect the architecture of the model before using it."
      ]
    },
    {
      "cell_type": "code",
      "metadata": {
        "id": "xqdJ0rdHicdL",
        "colab_type": "code",
        "colab": {}
      },
      "source": [
        "# 1. Passing a list of layers to the Sequential constructor\n",
        "model1 = keras.Sequential(\n",
        "    [\n",
        "        layers.Dense(2, activation='relu', name=\"input_layer\"),\n",
        "        layers.Dense(3, activation='relu', name=\"hidden_dense_1\"),\n",
        "        layers.Dense(4, name=\"output_layer\")\n",
        "    ], name = \"model_1\", \n",
        ")"
      ],
      "execution_count": 6,
      "outputs": []
    },
    {
      "cell_type": "markdown",
      "metadata": {
        "id": "AcXNgTw_onPF",
        "colab_type": "text"
      },
      "source": [
        "### 2. create a Sequential model incrementally by using the `add()` method\n",
        "> This method allows you to add an `keras.Input` object specifying the input shape before defining the layers. As such this is the more widely used way of creating a model."
      ]
    },
    {
      "cell_type": "code",
      "metadata": {
        "id": "rkR1l8gVkcx3",
        "colab_type": "code",
        "colab": {}
      },
      "source": [
        "# 2. Incrementally\n",
        "model2 = keras.Sequential(name = \"model_2\")\n",
        "model2.add(keras.Input(shape=(4,), name=\"input\")) # specifying input shape\n",
        "model2.add(layers.Dense(2, activation='relu', name=\"input_layer\"))\n",
        "model2.add(layers.Dense(3, activation='relu', name=\"hidden_dense_1\"))\n",
        "model2.add(layers.Dense(4, name=\"output_layer\"))"
      ],
      "execution_count": 8,
      "outputs": []
    },
    {
      "cell_type": "markdown",
      "metadata": {
        "id": "B_1h9KhurApb",
        "colab_type": "text"
      },
      "source": [
        "## Model summary\n",
        "\n",
        "You could inspect the architecture, the number of weights/biases, the shape of output at each layer etc. with `model.summary()`. \n",
        "\n",
        "Note: this is only possible if the input shape is specified for the model, i.e. only possible for option 2 above."
      ]
    },
    {
      "cell_type": "code",
      "metadata": {
        "id": "ZJBipJ-eqxaj",
        "colab_type": "code",
        "colab": {
          "base_uri": "https://localhost:8080/",
          "height": 265
        },
        "outputId": "331ac7ae-5b5c-4059-a796-6f248a546e35"
      },
      "source": [
        "model2.summary()"
      ],
      "execution_count": 11,
      "outputs": [
        {
          "output_type": "stream",
          "text": [
            "Model: \"model_2\"\n",
            "_________________________________________________________________\n",
            "Layer (type)                 Output Shape              Param #   \n",
            "=================================================================\n",
            "input_layer (Dense)          (None, 2)                 10        \n",
            "_________________________________________________________________\n",
            "hidden_dense_1 (Dense)       (None, 3)                 9         \n",
            "_________________________________________________________________\n",
            "output_layer (Dense)         (None, 4)                 16        \n",
            "=================================================================\n",
            "Total params: 35\n",
            "Trainable params: 35\n",
            "Non-trainable params: 0\n",
            "_________________________________________________________________\n"
          ],
          "name": "stdout"
        }
      ]
    },
    {
      "cell_type": "markdown",
      "metadata": {
        "id": "-feVNZMZsNo-",
        "colab_type": "text"
      },
      "source": [
        "This is extremely useful in debugging and also figuring out what layers to add for the model before training the model."
      ]
    },
    {
      "cell_type": "markdown",
      "metadata": {
        "id": "hFG97dXqsZpd",
        "colab_type": "text"
      },
      "source": [
        "## Accessing layers\n",
        "\n",
        "You could access layers to extract features from the layers, for example the output of a hidden layer. You could essentially create an additional model that extracts the outputs of all intermediate layers in a Sequential model.\n",
        "\n",
        "This works because once a Sequential model has been built, every layer has an `input` and `output` attribute."
      ]
    },
    {
      "cell_type": "code",
      "metadata": {
        "id": "QrBUDwQ3r_ae",
        "colab_type": "code",
        "colab": {
          "base_uri": "https://localhost:8080/",
          "height": 70
        },
        "outputId": "7ec8a2f0-7fed-4626-ac10-c25b9b8d69b4"
      },
      "source": [
        "model2.layers # access all layers"
      ],
      "execution_count": 12,
      "outputs": [
        {
          "output_type": "execute_result",
          "data": {
            "text/plain": [
              "[<tensorflow.python.keras.layers.core.Dense at 0x7f6511c1a550>,\n",
              " <tensorflow.python.keras.layers.core.Dense at 0x7f64c8d0ff98>,\n",
              " <tensorflow.python.keras.layers.core.Dense at 0x7f64cfe70940>]"
            ]
          },
          "metadata": {
            "tags": []
          },
          "execution_count": 12
        }
      ]
    },
    {
      "cell_type": "code",
      "metadata": {
        "id": "yLNq0MKEttc9",
        "colab_type": "code",
        "colab": {
          "base_uri": "https://localhost:8080/",
          "height": 34
        },
        "outputId": "8335cca6-334c-43d0-80a7-0b95ab55fc0f"
      },
      "source": [
        "model2.get_layer(name=\"hidden_dense_1\") # access layer by name"
      ],
      "execution_count": 13,
      "outputs": [
        {
          "output_type": "execute_result",
          "data": {
            "text/plain": [
              "<tensorflow.python.keras.layers.core.Dense at 0x7f64c8d0ff98>"
            ]
          },
          "metadata": {
            "tags": []
          },
          "execution_count": 13
        }
      ]
    },
    {
      "cell_type": "code",
      "metadata": {
        "id": "w9hGE3lNtfFb",
        "colab_type": "code",
        "colab": {}
      },
      "source": [
        "# Creating a feature extractor model\n",
        "feature_extractor = keras.Model(\n",
        "    inputs = model2.inputs,\n",
        "    outputs = [layer.output for layer in model2.layers]\n",
        ")"
      ],
      "execution_count": 14,
      "outputs": []
    },
    {
      "cell_type": "markdown",
      "metadata": {
        "id": "1yZdGGkduVxo",
        "colab_type": "text"
      },
      "source": [
        "You can call this feature extractor on inputs just like you would for a Sequential model.\n",
        "\n",
        "For eg:"
      ]
    },
    {
      "cell_type": "code",
      "metadata": {
        "id": "rixm0Z9VuVOr",
        "colab_type": "code",
        "colab": {}
      },
      "source": [
        "x = tf.ones((1, 4))\n",
        "features = feature_extractor(x)"
      ],
      "execution_count": 16,
      "outputs": []
    },
    {
      "cell_type": "markdown",
      "metadata": {
        "id": "jLvzAAoMuxBS",
        "colab_type": "text"
      },
      "source": [
        "# What's next?\n",
        "What do you do then with you model? You train, evaluate it, and use it to predict.\n",
        "\n",
        "This will be covered in another notebook."
      ]
    },
    {
      "cell_type": "code",
      "metadata": {
        "id": "0BVvsUJJunpM",
        "colab_type": "code",
        "colab": {}
      },
      "source": [
        ""
      ],
      "execution_count": null,
      "outputs": []
    },
    {
      "cell_type": "markdown",
      "metadata": {
        "id": "Zbrmm2wVvAB5",
        "colab_type": "text"
      },
      "source": [
        "# Appendix"
      ]
    },
    {
      "cell_type": "markdown",
      "metadata": {
        "id": "yiIUhf2ivCSY",
        "colab_type": "text"
      },
      "source": [
        "## A1. Layers\n",
        "There are many pre-made layers available from `keras`.\n",
        "\n",
        "Among those, the common ones include:\n",
        "* `layers.Dense`\n",
        "* `layers.Conv2D`\n",
        "* `layers.MaxPooling2D`\n",
        "\n",
        "etc.\n",
        "\n",
        "Documentation for these layers could be found on the `keras` website."
      ]
    },
    {
      "cell_type": "markdown",
      "metadata": {
        "id": "-jUK8KSzwUaC",
        "colab_type": "text"
      },
      "source": [
        "### `layers.Dense()`\n",
        "In this tutorial, `layers.Dense` was used. The mandatory argument it takes in is `units`, which specifies the shape of the output of the layer.\n",
        "\n",
        "`Dense` implements the operation: `output = activation(dot(input, kernel) + bias)`. Hence, the weight kernel has a shape of `(input_dim, units)`."
      ]
    }
  ]
}