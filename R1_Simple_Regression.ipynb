{
  "nbformat": 4,
  "nbformat_minor": 0,
  "metadata": {
    "colab": {
      "name": "R1: Simple Regression.ipynb",
      "provenance": [],
      "collapsed_sections": [],
      "authorship_tag": "ABX9TyN7EvGsTabAfTL7rgiDzaYM",
      "include_colab_link": true
    },
    "kernelspec": {
      "name": "python3",
      "display_name": "Python 3"
    }
  },
  "cells": [
    {
      "cell_type": "markdown",
      "metadata": {
        "id": "view-in-github",
        "colab_type": "text"
      },
      "source": [
        "<a href=\"https://colab.research.google.com/github/andreusjh99/Learning-Tensorflow2.0/blob/master/R1_Simple_Regression.ipynb\" target=\"_parent\"><img src=\"https://colab.research.google.com/assets/colab-badge.svg\" alt=\"Open In Colab\"/></a>"
      ]
    },
    {
      "cell_type": "markdown",
      "metadata": {
        "id": "bRJHdmS6i8vf",
        "colab_type": "text"
      },
      "source": [
        "\n",
        "This series goes through some of the most common ML algorithms to see how TensorFlow 2.0 works.\n",
        "\n",
        "1. Regression\n",
        "2. Classification\n",
        "3. Clustering\n",
        "4. Hidden Markov Model \n",
        "\n"
      ]
    },
    {
      "cell_type": "markdown",
      "metadata": {
        "id": "82_6K4B3iy_h",
        "colab_type": "text"
      },
      "source": [
        "# Core Learning Algorithms 1 - Regression\n"
      ]
    },
    {
      "cell_type": "markdown",
      "metadata": {
        "id": "9NnyVpwjjmdK",
        "colab_type": "text"
      },
      "source": [
        "## **Linear Regression**\n",
        "\n",
        "`y = mx + c`\n",
        "\n",
        "To illustrate, we are going to use a fake dataset."
      ]
    },
    {
      "cell_type": "markdown",
      "metadata": {
        "id": "T3db_5mj6s_y",
        "colab_type": "text"
      },
      "source": [
        "## Workflow\n",
        "\n",
        "1. Import stuff\n",
        "2. Load your dataset using pandas\n",
        "3. Preprocess the data\n",
        "4. Create model\n",
        "5. Train model\n",
        "6. Evaluate model\n",
        "7. Visualise results (if possible)"
      ]
    },
    {
      "cell_type": "markdown",
      "metadata": {
        "id": "17xEutGojy6-",
        "colab_type": "text"
      },
      "source": [
        "## Setup and imports\n",
        "\n"
      ]
    },
    {
      "cell_type": "code",
      "metadata": {
        "id": "B2JMi6nxiWSG",
        "colab_type": "code",
        "colab": {}
      },
      "source": [
        "!pip install -q sklearn"
      ],
      "execution_count": 1,
      "outputs": []
    },
    {
      "cell_type": "code",
      "metadata": {
        "id": "SyrBtVjsj6Rq",
        "colab_type": "code",
        "colab": {
          "base_uri": "https://localhost:8080/",
          "height": 105
        },
        "outputId": "2fb58b1f-e89f-4486-dd28-c2de6b596b2c"
      },
      "source": [
        "%tensorflow_version 2.x  # this line is not required unless you are in a notebook"
      ],
      "execution_count": 2,
      "outputs": [
        {
          "output_type": "stream",
          "text": [
            "`%tensorflow_version` only switches the major version: 1.x or 2.x.\n",
            "You set: `2.x  # this line is not required unless you are in a notebook`. This will be interpreted as: `2.x`.\n",
            "\n",
            "\n",
            "TensorFlow 2.x selected.\n"
          ],
          "name": "stdout"
        }
      ]
    },
    {
      "cell_type": "code",
      "metadata": {
        "id": "3eY9qn6bj-U7",
        "colab_type": "code",
        "colab": {
          "base_uri": "https://localhost:8080/",
          "height": 34
        },
        "outputId": "63eb756f-8350-4390-ea37-5860f5f2ac85"
      },
      "source": [
        "!python --version"
      ],
      "execution_count": 3,
      "outputs": [
        {
          "output_type": "stream",
          "text": [
            "Python 3.6.9\n"
          ],
          "name": "stdout"
        }
      ]
    },
    {
      "cell_type": "code",
      "metadata": {
        "id": "Q8GO9Kd4kAEu",
        "colab_type": "code",
        "colab": {}
      },
      "source": [
        "import numpy as np\n",
        "import pandas as pd\n",
        "import matplotlib.pyplot as plt\n",
        "%matplotlib inline\n",
        "\n",
        "import tensorflow as tf\n",
        "from sklearn.model_selection import train_test_split\n",
        "\n",
        "from IPython.display import clear_output\n",
        "from six.moves import urllib\n",
        "\n",
        "import tensorflow.compat.v2.feature_column as fc"
      ],
      "execution_count": 4,
      "outputs": []
    },
    {
      "cell_type": "code",
      "metadata": {
        "id": "vP-tUYRu6afo",
        "colab_type": "code",
        "colab": {
          "base_uri": "https://localhost:8080/",
          "height": 34
        },
        "outputId": "8eb78d02-ad38-4306-a19e-38f0958e5d17"
      },
      "source": [
        "print(tf.__version__)"
      ],
      "execution_count": 5,
      "outputs": [
        {
          "output_type": "stream",
          "text": [
            "2.2.0\n"
          ],
          "name": "stdout"
        }
      ]
    },
    {
      "cell_type": "markdown",
      "metadata": {
        "id": "VLoFlJx4ltqt",
        "colab_type": "text"
      },
      "source": [
        "## Creating dataset\n",
        "\n",
        "Note: this part is just to create data for our regression problem.\n",
        "\n",
        "The data we are creating is\n",
        "\n",
        "`y = 0.5x + 5 + n` where `n` is gaussian noise."
      ]
    },
    {
      "cell_type": "code",
      "metadata": {
        "id": "_csaSdkLxicb",
        "colab_type": "code",
        "colab": {}
      },
      "source": [
        "# one million data points\n",
        "x_data = np.linspace(0.0, 10.0, 1000000)"
      ],
      "execution_count": 6,
      "outputs": []
    },
    {
      "cell_type": "code",
      "metadata": {
        "id": "duoC1Y-MxiGj",
        "colab_type": "code",
        "colab": {}
      },
      "source": [
        "np.random.seed(1000)\n",
        "noise = np.random.randn(len(x_data))"
      ],
      "execution_count": 7,
      "outputs": []
    },
    {
      "cell_type": "code",
      "metadata": {
        "id": "M3hAebcryFif",
        "colab_type": "code",
        "colab": {}
      },
      "source": [
        "# creating our labels\n",
        "m, b = 0.5, 5\n",
        "y_true = m*x_data + b + noise"
      ],
      "execution_count": 8,
      "outputs": []
    },
    {
      "cell_type": "code",
      "metadata": {
        "id": "1eqPqoBCyFQZ",
        "colab_type": "code",
        "colab": {}
      },
      "source": [
        "# creating a dataframe\n",
        "my_data = pd.concat([pd.DataFrame(data=x_data, columns=[\"X Data\"]),\n",
        "                     pd.DataFrame(data=y_true, columns=[\"Y\"])], axis = 1)"
      ],
      "execution_count": 9,
      "outputs": []
    },
    {
      "cell_type": "code",
      "metadata": {
        "id": "EvoDnCkE1j0M",
        "colab_type": "code",
        "colab": {
          "base_uri": "https://localhost:8080/",
          "height": 197
        },
        "outputId": "884f3176-810d-44e2-ed3f-eba824f5972c"
      },
      "source": [
        "my_data.head()"
      ],
      "execution_count": 10,
      "outputs": [
        {
          "output_type": "execute_result",
          "data": {
            "text/html": [
              "<div>\n",
              "<style scoped>\n",
              "    .dataframe tbody tr th:only-of-type {\n",
              "        vertical-align: middle;\n",
              "    }\n",
              "\n",
              "    .dataframe tbody tr th {\n",
              "        vertical-align: top;\n",
              "    }\n",
              "\n",
              "    .dataframe thead th {\n",
              "        text-align: right;\n",
              "    }\n",
              "</style>\n",
              "<table border=\"1\" class=\"dataframe\">\n",
              "  <thead>\n",
              "    <tr style=\"text-align: right;\">\n",
              "      <th></th>\n",
              "      <th>X Data</th>\n",
              "      <th>Y</th>\n",
              "    </tr>\n",
              "  </thead>\n",
              "  <tbody>\n",
              "    <tr>\n",
              "      <th>0</th>\n",
              "      <td>0.00000</td>\n",
              "      <td>4.195542</td>\n",
              "    </tr>\n",
              "    <tr>\n",
              "      <th>1</th>\n",
              "      <td>0.00001</td>\n",
              "      <td>5.320937</td>\n",
              "    </tr>\n",
              "    <tr>\n",
              "      <th>2</th>\n",
              "      <td>0.00002</td>\n",
              "      <td>4.974527</td>\n",
              "    </tr>\n",
              "    <tr>\n",
              "      <th>3</th>\n",
              "      <td>0.00003</td>\n",
              "      <td>5.644339</td>\n",
              "    </tr>\n",
              "    <tr>\n",
              "      <th>4</th>\n",
              "      <td>0.00004</td>\n",
              "      <td>4.699223</td>\n",
              "    </tr>\n",
              "  </tbody>\n",
              "</table>\n",
              "</div>"
            ],
            "text/plain": [
              "    X Data         Y\n",
              "0  0.00000  4.195542\n",
              "1  0.00001  5.320937\n",
              "2  0.00002  4.974527\n",
              "3  0.00003  5.644339\n",
              "4  0.00004  4.699223"
            ]
          },
          "metadata": {
            "tags": []
          },
          "execution_count": 10
        }
      ]
    },
    {
      "cell_type": "markdown",
      "metadata": {
        "id": "iEBez80A1rxM",
        "colab_type": "text"
      },
      "source": [
        "## Visualise data"
      ]
    },
    {
      "cell_type": "code",
      "metadata": {
        "id": "eMZTN_Dy1juq",
        "colab_type": "code",
        "colab": {
          "base_uri": "https://localhost:8080/",
          "height": 296
        },
        "outputId": "2c322230-b63f-4639-cf1e-77ea3a4592f7"
      },
      "source": [
        "my_data.sample(n = 250).plot(kind='scatter', x='X Data', y=\"Y\")"
      ],
      "execution_count": 11,
      "outputs": [
        {
          "output_type": "execute_result",
          "data": {
            "text/plain": [
              "<matplotlib.axes._subplots.AxesSubplot at 0x7f2c26094c18>"
            ]
          },
          "metadata": {
            "tags": []
          },
          "execution_count": 11
        },
        {
          "output_type": "display_data",
          "data": {
            "image/png": "[encoded data removed]",
            "text/plain": [
              "<Figure size 432x288 with 1 Axes>"
            ]
          },
          "metadata": {
            "tags": [],
            "needs_background": "light"
          }
        }
      ]
    },
    {
      "cell_type": "markdown",
      "metadata": {
        "id": "ZsR8vwZP65R4",
        "colab_type": "text"
      },
      "source": [
        "## Processing the CSV\n",
        "\n",
        "We parse the values of the features and the labels from the Pandas dataframe. The steps:\n",
        "1. Form the features array. (`X`)\n",
        "2. Parse the label values. (`y`)\n",
        "3. Split the `X` and `y` into training and testing datasets.\n",
        "4. Convert all the arrays to `tf.Tensor` objects."
      ]
    },
    {
      "cell_type": "code",
      "metadata": {
        "id": "SChrpGFZ1jrR",
        "colab_type": "code",
        "colab": {}
      },
      "source": [
        "X = np.reshape(my_data['X Data'].values, [-1, 1])\n",
        "y = my_data['Y'].values\n",
        "# this gives numpy arrays of the X and y values.\n",
        "\n",
        "# train-test split\n",
        "train_feats, test_feats, train_labels, test_labels = train_test_split(\n",
        "    X, y, test_size = 0.2)\n",
        "\n",
        "# creating tf tensor objects\n",
        "train_X = tf.constant(train_feats, dtype=tf.float32)\n",
        "train_y = tf.constant(train_labels, dtype=tf.float32)\n",
        "test_X = tf.constant(test_feats, dtype=tf.float32)\n",
        "test_y = tf.constant(test_labels, dtype=tf.float32)"
      ],
      "execution_count": 12,
      "outputs": []
    },
    {
      "cell_type": "markdown",
      "metadata": {
        "id": "Mt3gt07H_C0l",
        "colab_type": "text"
      },
      "source": [
        "## Creating model\n",
        "\n",
        "Steps:\n",
        "1. Define loss fn and its deriv\n",
        "2. Create the model function\n",
        "3. Define hyperparameters\n",
        "4. Define `tf.data.Dataset`"
      ]
    },
    {
      "cell_type": "markdown",
      "metadata": {
        "id": "bMHik_ad955t",
        "colab_type": "text"
      },
      "source": [
        "We use mean squared error in this problem.\n",
        "\n",
        "$\\Large MSE( y , \\hat{y} ) = \\frac{ \\sum_{i=0}^{N} ( \\hat{y}_i - y_i )^2 } { N }$\n",
        "\n",
        "And its derivative wrt $\\hat{y}$,\n",
        "\n",
        "$\\Large MSE'( y , \\hat{y} ) = \\frac{ 2 * \\sum_{i=0}^{N} ( \\hat{y}_i - y_i ) } { N }$"
      ]
    },
    {
      "cell_type": "code",
      "metadata": {
        "id": "ic55OPGQuDBh",
        "colab_type": "code",
        "colab": {}
      },
      "source": [
        "# tf.reduce_mean(x) calculate the mean of all values in the tensor x \n",
        "# and returns a reduced tensor.\n",
        "\n",
        "def mean_squared_error(y, y_pred):\n",
        "    return tf.reduce_mean(tf.square(y_pred - y))\n",
        "\n",
        "def mean_squared_error_deriv(y, y_pred):\n",
        "    return tf.reshape(tf.reduce_mean(2*(y_pred - y)), [1, 1])"
      ],
      "execution_count": 13,
      "outputs": []
    },
    {
      "cell_type": "markdown",
      "metadata": {
        "id": "Om2yAjqWAAN_",
        "colab_type": "text"
      },
      "source": [
        "We create the regression function from scratch here.\n",
        "\n",
        "$\\hat{y} = h(x) = W.X + \\mathbf{b}$"
      ]
    },
    {
      "cell_type": "code",
      "metadata": {
        "id": "qt42s-hv_CZa",
        "colab_type": "code",
        "colab": {}
      },
      "source": [
        "def h(X, weights, bias):\n",
        "    return tf.tensordot(X, weights, axes = 1) + bias"
      ],
      "execution_count": 14,
      "outputs": []
    },
    {
      "cell_type": "markdown",
      "metadata": {
        "id": "B7ED04ChAGbQ",
        "colab_type": "text"
      },
      "source": [
        "Hyperparameters:\n",
        "1. epochs\n",
        "2. batch_size: size of mini-batch used in mini-batch gradient descent\n",
        "3. learning-rate"
      ]
    },
    {
      "cell_type": "code",
      "metadata": {
        "id": "bOHBBrsj_CVE",
        "colab_type": "code",
        "colab": {
          "base_uri": "https://localhost:8080/",
          "height": 34
        },
        "outputId": "59a5e524-96d7-4187-907a-605011546b3c"
      },
      "source": [
        "num_epochs = 150\n",
        "num_samples = train_X.shape[0]\n",
        "batch_size = 500\n",
        "learning_rate = 0.01\n",
        "\n",
        "print(\"No of samples in training dataset: \", num_samples)"
      ],
      "execution_count": 15,
      "outputs": [
        {
          "output_type": "stream",
          "text": [
            "No of samples in training dataset:  800000\n"
          ],
          "name": "stdout"
        }
      ]
    },
    {
      "cell_type": "markdown",
      "metadata": {
        "id": "8QHHXIWasd92",
        "colab_type": "text"
      },
      "source": [
        "We also create and shuffle our dataset."
      ]
    },
    {
      "cell_type": "code",
      "metadata": {
        "id": "7ymfyxK9BVS_",
        "colab_type": "code",
        "colab": {}
      },
      "source": [
        "dataset = tf.data.Dataset.from_tensor_slices((train_X, train_y))\n",
        "dataset = dataset.shuffle(int(num_samples*1.5)) # shuffles data\n",
        "dataset = dataset.repeat(num_epochs) # repeats the dataset by num_epochs times\n",
        "dataset = dataset.batch(batch_size) # creates batches of size = batch_size\n",
        "iterator = dataset.__iter__()"
      ],
      "execution_count": 16,
      "outputs": []
    },
    {
      "cell_type": "markdown",
      "metadata": {
        "id": "XWIvQsL3DgmK",
        "colab_type": "text"
      },
      "source": [
        "`dataset.shuffle(num)`\n",
        "creates a buffer of size `num` and will the buffer up from the dataset, then elements will be selected randomly into a new dataset. \n",
        "\n",
        "As a space opens up in the buffer, then a new element will be added into the buffer from the dataset. Usually you would like to create a buffer of size bigger than your dataset for perfect shuffling."
      ]
    },
    {
      "cell_type": "markdown",
      "metadata": {
        "id": "TYKaJ5Ltt5aS",
        "colab_type": "text"
      },
      "source": [
        "## Training the model\n",
        "\n",
        "We train the model for a given number of epochs. We perform optimization for every batch in our dataset.\n",
        "\n",
        "$\\Large loss = MSE( W.X + b ) $\n",
        "\n",
        "To optimize the parameter $W$, the partial derivative of $MSE$ with respect to $W$ will be,\n",
        "\n",
        "$\\Large \\frac{ \\partial MSE }{ \\partial W} = \\frac{ \\partial MSE }{ \\partial h} * \\frac{ \\partial h }{ \\partial W}$\n",
        "\n",
        "Similarly for bias $b$ , \n",
        "\n",
        "$\\Large \\frac{ \\partial MSE }{ \\partial b} = \\frac{ \\partial MSE }{ \\partial h} * 1 $"
      ]
    },
    {
      "cell_type": "code",
      "metadata": {
        "id": "ZTvoPWyyt578",
        "colab_type": "code",
        "colab": {
          "base_uri": "https://localhost:8080/",
          "height": 34
        },
        "outputId": "07e31462-b809-4a8f-bc53-4619830a4cd1"
      },
      "source": [
        "if len(train_X.shape) > 1:\n",
        "    num_features = train_X.shape[1]\n",
        "else:\n",
        "    num_features = 1\n",
        "\n",
        "print(\"No of features: \", num_features)\n",
        "\n",
        "# note in this example weight is a tensor of shape [1, 1]"
      ],
      "execution_count": 17,
      "outputs": [
        {
          "output_type": "stream",
          "text": [
            "No of features:  1\n"
          ],
          "name": "stdout"
        }
      ]
    },
    {
      "cell_type": "code",
      "metadata": {
        "id": "hodeJDaut53m",
        "colab_type": "code",
        "colab": {
          "base_uri": "https://localhost:8080/",
          "height": 710
        },
        "outputId": "d957c744-2230-476f-a5fd-63d849593f44"
      },
      "source": [
        "# initialise params\n",
        "tf.random.set_seed(1001)\n",
        "weights = tf.random.normal((num_features, 1)) # creates a column vector (for dot product with X)\n",
        "bias = 0\n",
        "\n",
        "epochs_plot = list()\n",
        "loss_plot = list()\n",
        "\n",
        "# start training\n",
        "for i in range(num_epochs):\n",
        "\n",
        "    epoch_loss = list()\n",
        "    for b in range(int(num_samples/batch_size)):\n",
        "        x_batch, y_batch = iterator.get_next()\n",
        "\n",
        "        output = h(x_batch, weights, bias)\n",
        "        loss = mean_squared_error(y_batch, output).numpy() # .numpy() to get the value of the tensor object\n",
        "        epoch_loss.append(loss)\n",
        "\n",
        "        dJ_dH = mean_squared_error_deriv(y_batch, output) # a value\n",
        "        dH_dW = x_batch # a matrix (batch_size, num_features)\n",
        "        dJ_dW = tf.reduce_mean(dJ_dH * dH_dW)\n",
        "        dJ_dB = tf.reduce_mean(dJ_dH)\n",
        "\n",
        "        weights -= (learning_rate*dJ_dW)\n",
        "        bias -= (learning_rate*dJ_dB)\n",
        "\n",
        "    e_loss = np.array(epoch_loss).mean() # mean loss for one epoch\n",
        "    epochs_plot.append(i + 1)\n",
        "    loss_plot.append(e_loss)\n",
        "\n",
        "    if i % 4 == 0:\n",
        "        print(\"Epoch {}: Loss is {}\".format(i+1, e_loss))\n",
        "\n",
        "print(\"Final loss: \", e_loss)"
      ],
      "execution_count": 18,
      "outputs": [
        {
          "output_type": "stream",
          "text": [
            "Epoch 1: Loss is 21.9595947265625\n",
            "Epoch 5: Loss is 19.999713897705078\n",
            "Epoch 9: Loss is 18.286108016967773\n",
            "Epoch 13: Loss is 16.83282470703125\n",
            "Epoch 17: Loss is 15.518584251403809\n",
            "Epoch 21: Loss is 14.386906623840332\n",
            "Epoch 25: Loss is 13.368062973022461\n",
            "Epoch 29: Loss is 12.5022611618042\n",
            "Epoch 33: Loss is 11.739980697631836\n",
            "Epoch 37: Loss is 11.074780464172363\n",
            "Epoch 41: Loss is 10.483678817749023\n",
            "Epoch 45: Loss is 9.959061622619629\n",
            "Epoch 49: Loss is 9.472145080566406\n",
            "Epoch 53: Loss is 9.035233497619629\n",
            "Epoch 57: Loss is 8.659392356872559\n",
            "Epoch 61: Loss is 8.322893142700195\n",
            "Epoch 65: Loss is 8.017563819885254\n",
            "Epoch 69: Loss is 7.739431381225586\n",
            "Epoch 73: Loss is 7.499101638793945\n",
            "Epoch 77: Loss is 7.27778434753418\n",
            "Epoch 81: Loss is 7.0940446853637695\n",
            "Epoch 85: Loss is 6.921716213226318\n",
            "Epoch 89: Loss is 6.758502960205078\n",
            "Epoch 93: Loss is 6.612450122833252\n",
            "Epoch 97: Loss is 6.482539176940918\n",
            "Epoch 101: Loss is 6.359775543212891\n",
            "Epoch 105: Loss is 6.260962963104248\n",
            "Epoch 109: Loss is 6.165987968444824\n",
            "Epoch 113: Loss is 6.079988956451416\n",
            "Epoch 117: Loss is 6.006768703460693\n",
            "Epoch 121: Loss is 5.928227424621582\n",
            "Epoch 125: Loss is 5.863898754119873\n",
            "Epoch 129: Loss is 5.813798427581787\n",
            "Epoch 133: Loss is 5.754898548126221\n",
            "Epoch 137: Loss is 5.700578689575195\n",
            "Epoch 141: Loss is 5.657012462615967\n",
            "Epoch 145: Loss is 5.619319915771484\n",
            "Epoch 149: Loss is 5.585035800933838\n",
            "Final loss:  5.5759892\n"
          ],
          "name": "stdout"
        }
      ]
    },
    {
      "cell_type": "markdown",
      "metadata": {
        "id": "vHWSPy909zDl",
        "colab_type": "text"
      },
      "source": [
        "## Plot the loss curve"
      ]
    },
    {
      "cell_type": "code",
      "metadata": {
        "id": "iiQnvjW6CP9Y",
        "colab_type": "code",
        "colab": {
          "base_uri": "https://localhost:8080/",
          "height": 281
        },
        "outputId": "215e0346-a75f-4584-f1e7-490b54b361c5"
      },
      "source": [
        "plt.plot( epochs_plot , loss_plot ) \n",
        "plt.title(\"Loss (MSE) curve\")\n",
        "plt.show()"
      ],
      "execution_count": 19,
      "outputs": [
        {
          "output_type": "display_data",
          "data": {
            "image/png": "[encoded data removed]",
            "text/plain": [
              "<Figure size 432x288 with 1 Axes>"
            ]
          },
          "metadata": {
            "tags": [],
            "needs_background": "light"
          }
        }
      ]
    },
    {
      "cell_type": "markdown",
      "metadata": {
        "id": "tPVxC50NAOxf",
        "colab_type": "text"
      },
      "source": [
        "## Evaluate the model\n",
        "\n",
        "We evaluate our model's performance  by measuring the Mean Absolute Error on the test dataset."
      ]
    },
    {
      "cell_type": "code",
      "metadata": {
        "id": "FH_iongkAdMd",
        "colab_type": "code",
        "colab": {
          "base_uri": "https://localhost:8080/",
          "height": 34
        },
        "outputId": "f993b8ac-9ed4-4eb6-8ff5-3d5d884e4ae6"
      },
      "source": [
        "output = h( test_X , weights , bias ) \n",
        "labels = test_y\n",
        "\n",
        "accuracy_op = tf.metrics.MeanSquaredError() \n",
        "accuracy_op.update_state( labels , output )\n",
        "print( 'Mean Squared Error = {}'.format( accuracy_op.result().numpy() ) )"
      ],
      "execution_count": 24,
      "outputs": [
        {
          "output_type": "stream",
          "text": [
            "Mean Squared Error = 1.0247975587844849\n"
          ],
          "name": "stdout"
        }
      ]
    },
    {
      "cell_type": "markdown",
      "metadata": {
        "id": "Jj2jAXJ8Axev",
        "colab_type": "text"
      },
      "source": [
        "## Visualise result\n"
      ]
    },
    {
      "cell_type": "code",
      "metadata": {
        "id": "o8EWPus5G926",
        "colab_type": "code",
        "colab": {
          "base_uri": "https://localhost:8080/",
          "height": 34
        },
        "outputId": "335e761b-7b33-4b1d-ff55-1b167b46755a"
      },
      "source": [
        "print(\"weight: \", weights.numpy(), \"bias: \", bias.numpy())"
      ],
      "execution_count": 25,
      "outputs": [
        {
          "output_type": "stream",
          "text": [
            "weight:  [[0.55045116]] bias:  4.767199\n"
          ],
          "name": "stdout"
        }
      ]
    },
    {
      "cell_type": "code",
      "metadata": {
        "id": "ol6L-GKhA2rx",
        "colab_type": "code",
        "colab": {
          "base_uri": "https://localhost:8080/",
          "height": 282
        },
        "outputId": "87ccc7ad-6f65-45db-c3a0-55d692a86d93"
      },
      "source": [
        "plt.scatter(X, y, s = 10)\n",
        "\n",
        "# plot line\n",
        "line_x = np.linspace(0.0, 10.0, 500)\n",
        "\n",
        "line_y = weights.numpy()[0][0]*line_x + bias.numpy()\n",
        "plt.plot(line_x, line_y, 'r')\n"
      ],
      "execution_count": 26,
      "outputs": [
        {
          "output_type": "execute_result",
          "data": {
            "text/plain": [
              "[<matplotlib.lines.Line2D at 0x7f2c1ecb9438>]"
            ]
          },
          "metadata": {
            "tags": []
          },
          "execution_count": 26
        },
        {
          "output_type": "display_data",
          "data": {
            "image/png": "[encoded data removed]",
            "text/plain": [
              "<Figure size 432x288 with 1 Axes>"
            ]
          },
          "metadata": {
            "tags": [],
            "needs_background": "light"
          }
        }
      ]
    },
    {
      "cell_type": "code",
      "metadata": {
        "id": "fII0LZf2BvBz",
        "colab_type": "code",
        "colab": {}
      },
      "source": [
        ""
      ],
      "execution_count": null,
      "outputs": []
    }
  ]
}