{
  "nbformat": 4,
  "nbformat_minor": 0,
  "metadata": {
    "colab": {
      "name": "TensorFlow-Introduction.ipynb",
      "provenance": [],
      "collapsed_sections": [],
      "include_colab_link": true
    },
    "kernelspec": {
      "name": "python3",
      "display_name": "Python 3"
    }
  },
  "cells": [
    {
      "cell_type": "markdown",
      "metadata": {
        "id": "view-in-github",
        "colab_type": "text"
      },
      "source": [
        "<a href=\"https://colab.research.google.com/github/andreusjh99/Learning-Tensorflow2.0/blob/master/TensorFlow_Introduction.ipynb\" target=\"_parent\"><img src=\"https://colab.research.google.com/assets/colab-badge.svg\" alt=\"Open In Colab\"/></a>"
      ]
    },
    {
      "cell_type": "markdown",
      "metadata": {
        "id": "-5u3a4csUPyn",
        "colab_type": "text"
      },
      "source": [
        "#TensorFlow 2.0 Introduction\n",
        "Topics in this notebook:\n",
        "\n",
        "- TensorFlow Install and Setup\n",
        "- Representing Tensors\n",
        "- Types of Tensors\n",
        "- Tensor Shape and Rank\n",
        "\n",
        "\n",
        "\n",
        "Collaboratory is a free Jupyter notebook environment that requires no setup and runs entirely in the cloud."
      ]
    },
    {
      "cell_type": "markdown",
      "metadata": {
        "id": "tY0aS9YrU3jW",
        "colab_type": "text"
      },
      "source": [
        "# What is TensorFlow?\n",
        "TensorFlow is an open source ML platform. It is owned and maintained by Google and is one of the largest open-source ML libraries in the world.\n",
        "\n"
      ]
    },
    {
      "cell_type": "markdown",
      "metadata": {
        "id": "Zl3S1l3bVwGe",
        "colab_type": "text"
      },
      "source": [
        "# How it Works\n",
        "TensorFlow is essentially \"lazy computing\". It is a way of representing computation without actually performing it until asked. It uses what is called a \"**computational graph**\" approach.\n",
        "\n",
        "Basically, all tf codes contain 2 important parts:\n",
        "\n",
        "*   Part 1: building the **graph**\n",
        "\n",
        "It represents the data flow of the computation. The graph contains the data you want to create, what you want to do with the data etc.\n",
        "\n",
        "*   Part 2: running a **session**\n",
        "\n",
        "It executes the operations in the graph.\n",
        "\n",
        "This gives you the advantage of flexibility. Whe you create a graph, you are not bound to run the entire graph and can control parts of the graph that are executed separately. This provides a huge flexibility.\n",
        "\n",
        "Another thing is its visualisations of the computation graph. This is done with **TensorBoard** and will be covered in a later notebook.\n",
        "\n",
        "\n",
        "\n",
        "\n"
      ]
    },
    {
      "cell_type": "markdown",
      "metadata": {
        "id": "F7ThfbiQl96l",
        "colab_type": "text"
      },
      "source": [
        "##Installing TensorFlow\n",
        "To install TensorFlow on your local machine you can use pip.\n",
        "```console\n",
        "pip install tensorflow\n",
        "```"
      ]
    },
    {
      "cell_type": "markdown",
      "metadata": {
        "id": "JYQWyAJ2mez6",
        "colab_type": "text"
      },
      "source": [
        "![alt text](https://)If you have a CUDA enabled GPU you can install the GPU version of TensorFlow. You will also need to install some other software which can be found here: https://www.tensorflow.org/install/gpu \n",
        "```console\n",
        "pip install tensorflow-gpu\n",
        "```"
      ]
    },
    {
      "cell_type": "markdown",
      "metadata": {
        "id": "JJjNMaSClWhg",
        "colab_type": "text"
      },
      "source": [
        "## Importing TensorFlow\n",
        "The first step here is going to be to select the correct version of TensorFlow from within collabratory!\n"
      ]
    },
    {
      "cell_type": "code",
      "metadata": {
        "id": "vGcE8x2Gkw9K",
        "colab_type": "code",
        "colab": {
          "base_uri": "https://localhost:8080/",
          "height": 125
        },
        "outputId": "44144ca9-4952-4743-c6db-b7d49817d5c4"
      },
      "source": [
        "%tensorflow_version 2.x  # this line is not required unless you are in a notebook"
      ],
      "execution_count": 5,
      "outputs": [
        {
          "output_type": "stream",
          "text": [
            "`%tensorflow_version` only switches the major version: 1.x or 2.x.\n",
            "You set: `2.x  # this line is not required unless you are in a notebook`. This will be interpreted as: `2.x`.\n",
            "\n",
            "\n",
            "TensorFlow is already loaded. Please restart the runtime to change versions.\n"
          ],
          "name": "stdout"
        }
      ]
    },
    {
      "cell_type": "code",
      "metadata": {
        "id": "4N7XbNDVY8P3",
        "colab_type": "code",
        "colab": {
          "base_uri": "https://localhost:8080/",
          "height": 34
        },
        "outputId": "33aba529-40d9-460b-fd4a-b490e1bc1113"
      },
      "source": [
        "import tensorflow as tf  # now import the tensorflow module\n",
        "print(tf.__version__)  # make sure the version is 2.x"
      ],
      "execution_count": 6,
      "outputs": [
        {
          "output_type": "stream",
          "text": [
            "2.2.0\n"
          ],
          "name": "stdout"
        }
      ]
    },
    {
      "cell_type": "markdown",
      "metadata": {
        "id": "duDj86TfWFof",
        "colab_type": "text"
      },
      "source": [
        "##Tensors \n",
        "\"A tensor is a generalization of vectors and matrices to potentially higher dimensions. Internally, TensorFlow represents tensors as n-dimensional arrays of base datatypes.\" (https://www.tensorflow.org/guide/tensor)\n",
        "\n",
        "It shouldn't surprise you that tensors are a fundamental apsect of TensorFlow.\n",
        "\n",
        "They are the main objects that are passed around and manipluated throughout the program. \n",
        "\n",
        "Each tensor represents a partialy defined computation that will eventually produce a value. TensorFlow programs work by building a graph of Tensor objects that details how tensors are related. Running different parts of the graph allow results to be generated.\n",
        "\n",
        "Each tensor has a data type and a shape. \n",
        "\n",
        "- **Data Types Include**: float32, int32, string and others.\n",
        "\n",
        "- **Shape**: Represents the dimension of data.\n",
        "\n",
        "Just like vectors and matrices, tensors can have operations applied to them like addition, subtraction, dot product, cross product etc.\n"
      ]
    },
    {
      "cell_type": "markdown",
      "metadata": {
        "id": "UU4MMhB_rxvz",
        "colab_type": "text"
      },
      "source": [
        "###Types of Tensors\n",
        "There are different types of tensors. The most commonly used ones include:\n",
        "- Variable\n",
        "- Constant\n",
        "- Placeholder\n",
        "- SparseTensor\n",
        "\n",
        "With the execption of ```Variable``` all these tensors are immuttable, meaning their value may not change during execution.\n",
        "\n",
        "*This notebook focuses on Variable. Constant, Placeholder etc will be explored deeper in other notebooks.\n",
        "\n"
      ]
    },
    {
      "cell_type": "markdown",
      "metadata": {
        "id": "TAk6QhGUwQRt",
        "colab_type": "text"
      },
      "source": [
        "###Creating Tensors\n",
        "Below is an example of how to create some different tensors.\n",
        "\n",
        "*Usually we deal with tensors of numeric data, it is quite rare to see string tensors.\n",
        "\n",
        "For a full list of datatypes please refer to the following guide.\n",
        "\n",
        "https://www.tensorflow.org/api_docs/python/tf/dtypes/DType?version=stable"
      ]
    },
    {
      "cell_type": "code",
      "metadata": {
        "id": "epGskXdjZHzu",
        "colab_type": "code",
        "colab": {}
      },
      "source": [
        "# tf.Variable() creates a tensor\n",
        "# tf.Variable(initial_value, dtype)\n",
        "# The initial value defines the type and shape of the variable\n",
        "# The type and shape of the variable zre fixed after construction.\n",
        "\n",
        "string = tf.Variable(\"this is a string\", dtype = tf.string) \n",
        "number = tf.Variable(324, dtype = tf.int16)\n",
        "floating = tf.Variable(3.567, dtype = tf.float64)"
      ],
      "execution_count": 18,
      "outputs": []
    },
    {
      "cell_type": "code",
      "metadata": {
        "id": "KSTUQu3QnB2C",
        "colab_type": "code",
        "colab": {
          "base_uri": "https://localhost:8080/",
          "height": 70
        },
        "outputId": "023d60c3-3ab7-46d1-fddd-a81ac5e298a0"
      },
      "source": [
        "# tf.ones(shape) creates a tensor of ones of specified shape.\n",
        "# tf.zeros(shape) does it for zeros\n",
        "# More on shape in the section below.\n",
        "a = tf.ones([2, 2])\n",
        "print(a)"
      ],
      "execution_count": 36,
      "outputs": [
        {
          "output_type": "stream",
          "text": [
            "tf.Tensor(\n",
            "[[1. 1.]\n",
            " [1. 1.]], shape=(2, 2), dtype=float32)\n"
          ],
          "name": "stdout"
        }
      ]
    },
    {
      "cell_type": "markdown",
      "metadata": {
        "id": "YtWHwviuqtYU",
        "colab_type": "text"
      },
      "source": [
        "### Changing value of Variable\n",
        "Variables are mutable, i.e. you could change their values."
      ]
    },
    {
      "cell_type": "code",
      "metadata": {
        "id": "yZHrOdJY1vBD",
        "colab_type": "code",
        "colab": {
          "base_uri": "https://localhost:8080/",
          "height": 70
        },
        "outputId": "2964c72e-9404-411a-d8b7-d6b1376cba6c"
      },
      "source": [
        "value = tf.Variable(2.) # initialise value to 2\n",
        "print(value)\n",
        "value.assign(5.) # reassigns the value to 5\n",
        "print(value)\n",
        "value.assign_add(1.) # adds 1 to the current value\n",
        "print(value)"
      ],
      "execution_count": 41,
      "outputs": [
        {
          "output_type": "stream",
          "text": [
            "<tf.Variable 'Variable:0' shape=() dtype=float32, numpy=2.0>\n",
            "<tf.Variable 'Variable:0' shape=() dtype=float32, numpy=5.0>\n",
            "<tf.Variable 'Variable:0' shape=() dtype=float32, numpy=6.0>\n"
          ],
          "name": "stdout"
        }
      ]
    },
    {
      "cell_type": "markdown",
      "metadata": {
        "id": "D0_H71HMaE-5",
        "colab_type": "text"
      },
      "source": [
        "###Rank/Degree of Tensors\n",
        "Another word for rank is degree, these terms simply mean the number of dimensions involved in the tensor.\n",
        "\n",
        "So you could imagine: \n",
        "- A scalar has degree 0.\n",
        "- A vector has degree 1.\n",
        "- A matrix has degree 2.\n",
        "\n",
        "etc."
      ]
    },
    {
      "cell_type": "markdown",
      "metadata": {
        "id": "xXoa8Rf6kY18",
        "colab_type": "text"
      },
      "source": [
        "In the examples above, the tensors have rank 0, as they are just numbers/strings, i.e they are just *scalars*.\n",
        "\n",
        "To create vectors, you need to use an array, as shown below. That way the rank of the tensor will then be > 0."
      ]
    },
    {
      "cell_type": "markdown",
      "metadata": {
        "id": "Ua018kVYmWxd",
        "colab_type": "text"
      },
      "source": [
        "*Note: just like with `numpy`, the nested arrays need to be of the same size since it is a matrix!"
      ]
    },
    {
      "cell_type": "code",
      "metadata": {
        "id": "hX_Cc5IfjQ6-",
        "colab_type": "code",
        "colab": {}
      },
      "source": [
        "b = tf.Variable([\"Test\"], tf.string) \n",
        "c = tf.Variable([[\"test\", \"ok\"], [\"test\", \"yes\"]], tf.string)\n",
        "d = tf.Variable([[1, 2]])"
      ],
      "execution_count": 30,
      "outputs": []
    },
    {
      "cell_type": "code",
      "metadata": {
        "id": "Zrj0rAWLnMNv",
        "colab_type": "code",
        "colab": {
          "base_uri": "https://localhost:8080/",
          "height": 87
        },
        "outputId": "8aae140c-3069-4547-d1d2-31ce928f164f"
      },
      "source": [
        "# to determine rank of tensor\n",
        "print(tf.rank(string))\n",
        "print(tf.rank(b))\n",
        "print(tf.rank(c))\n",
        "print(tf.rank(d)) #2!!"
      ],
      "execution_count": 31,
      "outputs": [
        {
          "output_type": "stream",
          "text": [
            "tf.Tensor(0, shape=(), dtype=int32)\n",
            "tf.Tensor(1, shape=(), dtype=int32)\n",
            "tf.Tensor(2, shape=(), dtype=int32)\n",
            "tf.Tensor(2, shape=(), dtype=int32)\n"
          ],
          "name": "stdout"
        }
      ]
    },
    {
      "cell_type": "markdown",
      "metadata": {
        "id": "hTv4Gz67pQbx",
        "colab_type": "text"
      },
      "source": [
        "You could think of the rank of a tensor as the deepest level of nested lists. \n",
        "\n",
        "You can see in the first example ```[\"Test\"]``` is a rank 1 tensor as the deepest level of nesting is 1. \n",
        "Where in the second example ```[[\"test\", \"ok\"], [\"test\", \"yes\"]]``` is a rank 2 tensor as the deepest level of nesting is 2."
      ]
    },
    {
      "cell_type": "markdown",
      "metadata": {
        "id": "RaVrANK8q21q",
        "colab_type": "text"
      },
      "source": [
        "###Shape of Tensors\n",
        "The shape of a tensor is a list of the number of elements that exist in each degree. \n",
        "\n",
        "Say a tensor `[[1, 2], [3, 4]]` will have shape = (2, 2) while `[[[1], [2]]]` will have shape = (1, 1, 2)\n"
      ]
    },
    {
      "cell_type": "code",
      "metadata": {
        "id": "L_NRXsFOraYa",
        "colab_type": "code",
        "colab": {
          "base_uri": "https://localhost:8080/",
          "height": 70
        },
        "outputId": "876341c1-761c-4411-999b-5e1fa61b0335"
      },
      "source": [
        "# to determine shape\n",
        "print(b.shape)\n",
        "print(c.shape)\n",
        "print(d.shape)"
      ],
      "execution_count": 32,
      "outputs": [
        {
          "output_type": "stream",
          "text": [
            "(1,)\n",
            "(2, 2)\n",
            "(1, 2)\n"
          ],
          "name": "stdout"
        }
      ]
    },
    {
      "cell_type": "markdown",
      "metadata": {
        "id": "wVDmLJeFs086",
        "colab_type": "text"
      },
      "source": [
        "###Changing the Shape of a tensor\n",
        "The number of elements of a tensor = rank x number of elements in a rank.\n",
        "\n",
        "There are often many shapes that have the same number of elements, making it convenient to be able to change the shape of a tensor."
      ]
    },
    {
      "cell_type": "code",
      "metadata": {
        "id": "dZ8Rbs2xtNqj",
        "colab_type": "code",
        "colab": {}
      },
      "source": [
        "tensor1 = tf.ones([1,2,3])  # tf.ones() creates a shape [1,2,3] tensor full of ones\n",
        "tensor2 = tf.reshape(tensor1, [2,3,1])  # reshape existing data to shape [2,3,1]\n",
        "tensor3 = tf.reshape(tensor2, [3, -1])  \n",
        "# -1 tells the tensor to calculate the size of the number of elements in that place\n",
        "# In this case the tensor will be reshaped to [3,3]"
      ],
      "execution_count": 33,
      "outputs": []
    },
    {
      "cell_type": "code",
      "metadata": {
        "id": "IFNmUxaEv6s3",
        "colab_type": "code",
        "colab": {
          "base_uri": "https://localhost:8080/",
          "height": 283
        },
        "outputId": "744a96c2-645a-46e2-bdb7-0e6586172387"
      },
      "source": [
        "print(tensor1)\n",
        "print(tensor2)\n",
        "print(tensor3)\n",
        "# Notice the changes in shape"
      ],
      "execution_count": 34,
      "outputs": [
        {
          "output_type": "stream",
          "text": [
            "tf.Tensor(\n",
            "[[[1. 1. 1.]\n",
            "  [1. 1. 1.]]], shape=(1, 2, 3), dtype=float32)\n",
            "tf.Tensor(\n",
            "[[[1.]\n",
            "  [1.]\n",
            "  [1.]]\n",
            "\n",
            " [[1.]\n",
            "  [1.]\n",
            "  [1.]]], shape=(2, 3, 1), dtype=float32)\n",
            "tf.Tensor(\n",
            "[[1. 1.]\n",
            " [1. 1.]\n",
            " [1. 1.]], shape=(3, 2), dtype=float32)\n"
          ],
          "name": "stdout"
        }
      ]
    },
    {
      "cell_type": "markdown",
      "metadata": {
        "id": "kprKsmajoxLp",
        "colab_type": "text"
      },
      "source": [
        "*Note: The number of elements in the reshaped tensor MUST match the number in the original tensor"
      ]
    },
    {
      "cell_type": "markdown",
      "metadata": {
        "id": "q88pJucBolsp",
        "colab_type": "text"
      },
      "source": [
        "###Slicing Tensors\n",
        "Just in Python lists and tuples, the slice operator can be used on tensors to select specific axes or elements.\n",
        "\n",
        "Eg: ```tensor[a, b, c]```\n",
        "\n",
        "Each value specifies the index in that degree."
      ]
    },
    {
      "cell_type": "code",
      "metadata": {
        "id": "b0YrD-hRqD-W",
        "colab_type": "code",
        "colab": {
          "base_uri": "https://localhost:8080/",
          "height": 52
        },
        "outputId": "d99012c6-f295-41f6-fe70-0225e892cbf4"
      },
      "source": [
        "# Creating a 2D tensor\n",
        "matrix = [[1,2,3,4,5],\n",
        "          [6,7,8,9,10],\n",
        "          [11,12,13,14,15],\n",
        "          [16,17,18,19,20]]\n",
        "\n",
        "tensor = tf.Variable(matrix, dtype=tf.int32) \n",
        "print(tf.rank(tensor))\n",
        "print(tensor.shape)"
      ],
      "execution_count": 37,
      "outputs": [
        {
          "output_type": "stream",
          "text": [
            "tf.Tensor(2, shape=(), dtype=int32)\n",
            "(4, 5)\n"
          ],
          "name": "stdout"
        }
      ]
    },
    {
      "cell_type": "code",
      "metadata": {
        "id": "Wd85uGI7qyfC",
        "colab_type": "code",
        "colab": {
          "base_uri": "https://localhost:8080/",
          "height": 141
        },
        "outputId": "aa5995da-a6f2-4012-d423-40f9b5c2d6d7"
      },
      "source": [
        "# Now lets select some different rows and columns from our tensor\n",
        "\n",
        "three = tensor[0,2]  # selects the 3rd element from the 1st row\n",
        "print(three)  # -> 3\n",
        "\n",
        "row1 = tensor[0]  # selects the first row\n",
        "print(row1)\n",
        "\n",
        "column1 = tensor[:, 0]  # selects the first column\n",
        "print(column1)\n",
        "\n",
        "row_2_and_4 = tensor[1::2]  # selects second and fourth row\n",
        "print(row_2_and_4)\n",
        "\n",
        "column_1_in_row_2_and_3 = tensor[1:3, 0]\n",
        "print(column_1_in_row_2_and_3)"
      ],
      "execution_count": 39,
      "outputs": [
        {
          "output_type": "stream",
          "text": [
            "tf.Tensor(3, shape=(), dtype=int32)\n",
            "tf.Tensor([1 2 3 4 5], shape=(5,), dtype=int32)\n",
            "tf.Tensor([ 1  6 11 16], shape=(4,), dtype=int32)\n",
            "tf.Tensor(\n",
            "[[ 6  7  8  9 10]\n",
            " [16 17 18 19 20]], shape=(2, 5), dtype=int32)\n",
            "tf.Tensor([ 6 11], shape=(2,), dtype=int32)\n"
          ],
          "name": "stdout"
        }
      ]
    }
  ]
}