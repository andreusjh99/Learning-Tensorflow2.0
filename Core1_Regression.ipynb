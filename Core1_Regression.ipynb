{
  "nbformat": 4,
  "nbformat_minor": 0,
  "metadata": {
    "colab": {
      "name": "Core1-Regression.ipynb",
      "provenance": [],
      "collapsed_sections": [],
      "authorship_tag": "ABX9TyP4Q4q787LVVcXon4DeI23P",
      "include_colab_link": true
    },
    "kernelspec": {
      "name": "python3",
      "display_name": "Python 3"
    }
  },
  "cells": [
    {
      "cell_type": "markdown",
      "metadata": {
        "id": "view-in-github",
        "colab_type": "text"
      },
      "source": [
        "<a href=\"https://colab.research.google.com/github/andreusjh99/Learning-Tensorflow2.0/blob/master/Core1_Regression.ipynb\" target=\"_parent\"><img src=\"https://colab.research.google.com/assets/colab-badge.svg\" alt=\"Open In Colab\"/></a>"
      ]
    },
    {
      "cell_type": "markdown",
      "metadata": {
        "id": "bRJHdmS6i8vf",
        "colab_type": "text"
      },
      "source": [
        "\n",
        "This series goes through some of the most common ML algorithms to see how TensorFlow 2.0 works.\n",
        "\n",
        "1. Regression\n",
        "2. Classification\n",
        "3. Clustering\n",
        "4. Hidden Markov Model \n",
        "\n"
      ]
    },
    {
      "cell_type": "markdown",
      "metadata": {
        "id": "82_6K4B3iy_h",
        "colab_type": "text"
      },
      "source": [
        "# Core Learning Algorithms 1 - Regression\n"
      ]
    },
    {
      "cell_type": "markdown",
      "metadata": {
        "id": "9NnyVpwjjmdK",
        "colab_type": "text"
      },
      "source": [
        "## **Linear Regression**\n",
        "\n",
        "`y = mx + c`\n",
        "\n",
        "To illustrate, we are going to use a fake dataset."
      ]
    },
    {
      "cell_type": "markdown",
      "metadata": {
        "id": "T3db_5mj6s_y",
        "colab_type": "text"
      },
      "source": [
        "## Workflow\n",
        "\n",
        "1. Import stuff\n",
        "2. Load your dataset using pandas\n",
        "3. Preprocess the data\n",
        "4. Create model\n",
        "5. Train model\n",
        "6. Evaluate model\n",
        "7. Visualise results (if possible)"
      ]
    },
    {
      "cell_type": "markdown",
      "metadata": {
        "id": "17xEutGojy6-",
        "colab_type": "text"
      },
      "source": [
        "## Setup and imports\n",
        "\n"
      ]
    },
    {
      "cell_type": "code",
      "metadata": {
        "id": "B2JMi6nxiWSG",
        "colab_type": "code",
        "colab": {}
      },
      "source": [
        "!pip install -q sklearn"
      ],
      "execution_count": null,
      "outputs": []
    },
    {
      "cell_type": "code",
      "metadata": {
        "id": "SyrBtVjsj6Rq",
        "colab_type": "code",
        "colab": {
          "base_uri": "https://localhost:8080/",
          "height": 125
        },
        "outputId": "6f8e78d0-44e0-4d65-9412-16c51ee24278"
      },
      "source": [
        "%tensorflow_version 2.x  # this line is not required unless you are in a notebook"
      ],
      "execution_count": null,
      "outputs": [
        {
          "output_type": "stream",
          "text": [
            "`%tensorflow_version` only switches the major version: 1.x or 2.x.\n",
            "You set: `2.x  # this line is not required unless you are in a notebook`. This will be interpreted as: `2.x`.\n",
            "\n",
            "\n",
            "TensorFlow 2.x selected.\n"
          ],
          "name": "stdout"
        }
      ]
    },
    {
      "cell_type": "code",
      "metadata": {
        "id": "3eY9qn6bj-U7",
        "colab_type": "code",
        "colab": {
          "base_uri": "https://localhost:8080/",
          "height": 34
        },
        "outputId": "cddcb036-4751-4186-b78d-06597386f0ab"
      },
      "source": [
        "!python --version"
      ],
      "execution_count": null,
      "outputs": [
        {
          "output_type": "stream",
          "text": [
            "Python 3.6.9\n"
          ],
          "name": "stdout"
        }
      ]
    },
    {
      "cell_type": "code",
      "metadata": {
        "id": "Q8GO9Kd4kAEu",
        "colab_type": "code",
        "colab": {}
      },
      "source": [
        "import numpy as np\n",
        "import pandas as pd\n",
        "import matplotlib.pyplot as plt\n",
        "%matplotlib inline\n",
        "\n",
        "import tensorflow as tf\n",
        "from sklearn.model_selection import train_test_split\n",
        "\n",
        "from IPython.display import clear_output\n",
        "from six.moves import urllib\n",
        "\n",
        "import tensorflow.compat.v2.feature_column as fc"
      ],
      "execution_count": null,
      "outputs": []
    },
    {
      "cell_type": "code",
      "metadata": {
        "id": "vP-tUYRu6afo",
        "colab_type": "code",
        "colab": {
          "base_uri": "https://localhost:8080/",
          "height": 34
        },
        "outputId": "c24f4a9d-6de6-4b22-9a30-163b74a8bc65"
      },
      "source": [
        "print(tf.__version__)"
      ],
      "execution_count": null,
      "outputs": [
        {
          "output_type": "stream",
          "text": [
            "2.2.0\n"
          ],
          "name": "stdout"
        }
      ]
    },
    {
      "cell_type": "markdown",
      "metadata": {
        "id": "VLoFlJx4ltqt",
        "colab_type": "text"
      },
      "source": [
        "## Creating dataset\n",
        "\n",
        "Note: this part is just to create data for our regression problem.\n",
        "\n",
        "The data we are creating is\n",
        "\n",
        "`y = 0.5x + 5 + n` where `n` is gaussian noise."
      ]
    },
    {
      "cell_type": "code",
      "metadata": {
        "id": "_csaSdkLxicb",
        "colab_type": "code",
        "colab": {}
      },
      "source": [
        "# one million data points\n",
        "x_data = np.linspace(0.0, 10.0, 1000000)"
      ],
      "execution_count": null,
      "outputs": []
    },
    {
      "cell_type": "code",
      "metadata": {
        "id": "duoC1Y-MxiGj",
        "colab_type": "code",
        "colab": {}
      },
      "source": [
        "np.random.seed(1000)\n",
        "noise = np.random.randn(len(x_data))"
      ],
      "execution_count": null,
      "outputs": []
    },
    {
      "cell_type": "code",
      "metadata": {
        "id": "M3hAebcryFif",
        "colab_type": "code",
        "colab": {}
      },
      "source": [
        "# creating our labels\n",
        "m, b = 0.5, 5\n",
        "y_true = m*x_data + b + noise"
      ],
      "execution_count": null,
      "outputs": []
    },
    {
      "cell_type": "code",
      "metadata": {
        "id": "1eqPqoBCyFQZ",
        "colab_type": "code",
        "colab": {}
      },
      "source": [
        "# creating a dataframe\n",
        "my_data = pd.concat([pd.DataFrame(data=x_data, columns=[\"X Data\"]),\n",
        "                     pd.DataFrame(data=y_true, columns=[\"Y\"])], axis = 1)"
      ],
      "execution_count": null,
      "outputs": []
    },
    {
      "cell_type": "code",
      "metadata": {
        "id": "EvoDnCkE1j0M",
        "colab_type": "code",
        "colab": {
          "base_uri": "https://localhost:8080/",
          "height": 197
        },
        "outputId": "0b91c256-75bf-432d-8a1b-556dbf0e1d49"
      },
      "source": [
        "my_data.head()"
      ],
      "execution_count": null,
      "outputs": [
        {
          "output_type": "execute_result",
          "data": {
            "text/html": [
              "<div>\n",
              "<style scoped>\n",
              "    .dataframe tbody tr th:only-of-type {\n",
              "        vertical-align: middle;\n",
              "    }\n",
              "\n",
              "    .dataframe tbody tr th {\n",
              "        vertical-align: top;\n",
              "    }\n",
              "\n",
              "    .dataframe thead th {\n",
              "        text-align: right;\n",
              "    }\n",
              "</style>\n",
              "<table border=\"1\" class=\"dataframe\">\n",
              "  <thead>\n",
              "    <tr style=\"text-align: right;\">\n",
              "      <th></th>\n",
              "      <th>X Data</th>\n",
              "      <th>Y</th>\n",
              "    </tr>\n",
              "  </thead>\n",
              "  <tbody>\n",
              "    <tr>\n",
              "      <th>0</th>\n",
              "      <td>0.00000</td>\n",
              "      <td>4.195542</td>\n",
              "    </tr>\n",
              "    <tr>\n",
              "      <th>1</th>\n",
              "      <td>0.00001</td>\n",
              "      <td>5.320937</td>\n",
              "    </tr>\n",
              "    <tr>\n",
              "      <th>2</th>\n",
              "      <td>0.00002</td>\n",
              "      <td>4.974527</td>\n",
              "    </tr>\n",
              "    <tr>\n",
              "      <th>3</th>\n",
              "      <td>0.00003</td>\n",
              "      <td>5.644339</td>\n",
              "    </tr>\n",
              "    <tr>\n",
              "      <th>4</th>\n",
              "      <td>0.00004</td>\n",
              "      <td>4.699223</td>\n",
              "    </tr>\n",
              "  </tbody>\n",
              "</table>\n",
              "</div>"
            ],
            "text/plain": [
              "    X Data         Y\n",
              "0  0.00000  4.195542\n",
              "1  0.00001  5.320937\n",
              "2  0.00002  4.974527\n",
              "3  0.00003  5.644339\n",
              "4  0.00004  4.699223"
            ]
          },
          "metadata": {
            "tags": []
          },
          "execution_count": 11
        }
      ]
    },
    {
      "cell_type": "markdown",
      "metadata": {
        "id": "iEBez80A1rxM",
        "colab_type": "text"
      },
      "source": [
        "## Visualise data"
      ]
    },
    {
      "cell_type": "code",
      "metadata": {
        "id": "eMZTN_Dy1juq",
        "colab_type": "code",
        "colab": {
          "base_uri": "https://localhost:8080/",
          "height": 296
        },
        "outputId": "f2cbba07-307c-4427-a4bd-8c442dc65477"
      },
      "source": [
        "my_data.sample(n = 250).plot(kind='scatter', x='X Data', y=\"Y\")"
      ],
      "execution_count": null,
      "outputs": [
        {
          "output_type": "execute_result",
          "data": {
            "text/plain": [
              "<matplotlib.axes._subplots.AxesSubplot at 0x7fd3d857c828>"
            ]
          },
          "metadata": {
            "tags": []
          },
          "execution_count": 12
        },
        {
          "output_type": "display_data",
          "data": {
            "image/png": "[encoded data removed]",
            "text/plain": [
              "<Figure size 432x288 with 1 Axes>"
            ]
          },
          "metadata": {
            "tags": [],
            "needs_background": "light"
          }
        }
      ]
    },
    {
      "cell_type": "markdown",
      "metadata": {
        "id": "ZsR8vwZP65R4",
        "colab_type": "text"
      },
      "source": [
        "## Processing the CSV\n",
        "\n",
        "We parse the values of the features and the labels from the Pandas dataframe. The steps:\n",
        "1. Form the features array. (`X`)\n",
        "2. Parse the label values. (`y`)\n",
        "3. Split the `X` and `y` into training and testing datasets.\n",
        "4. Convert all the arrays to `tf.Tensor` objects."
      ]
    },
    {
      "cell_type": "code",
      "metadata": {
        "id": "SChrpGFZ1jrR",
        "colab_type": "code",
        "colab": {}
      },
      "source": [
        "X = np.reshape(my_data['X Data'].values, [-1, 1])\n",
        "y = my_data['Y'].values\n",
        "# this gives numpy arrays of the X and y values.\n",
        "\n",
        "# train-test split\n",
        "train_feats, test_feats, train_labels, test_labels = train_test_split(\n",
        "    X, y, test_size = 0.2)\n",
        "\n",
        "# creating tf tensor objects\n",
        "train_X = tf.constant(train_feats, dtype=tf.float32)\n",
        "train_y = tf.constant(train_labels, dtype=tf.float32)\n",
        "test_X = tf.constant(test_feats, dtype=tf.float32)\n",
        "test_y = tf.constant(test_labels, dtype=tf.float32)"
      ],
      "execution_count": null,
      "outputs": []
    },
    {
      "cell_type": "markdown",
      "metadata": {
        "id": "Mt3gt07H_C0l",
        "colab_type": "text"
      },
      "source": [
        "## Creating model\n",
        "\n",
        "Steps:\n",
        "1. Define loss fn and its deriv\n",
        "2. Create the model function\n",
        "3. Define hyperparameters\n",
        "4. Define `tf.data.Dataset`"
      ]
    },
    {
      "cell_type": "markdown",
      "metadata": {
        "id": "bMHik_ad955t",
        "colab_type": "text"
      },
      "source": [
        "We use mean squared error in this problem.\n",
        "\n",
        "$\\Large MSE( y , \\hat{y} ) = \\frac{ \\sum_{i=0}^{N} ( \\hat{y}_i - y_i )^2 } { N }$\n",
        "\n",
        "And its derivative wrt $\\hat{y}$,\n",
        "\n",
        "$\\Large MSE'( y , \\hat{y} ) = \\frac{ 2 * \\sum_{i=0}^{N} ( \\hat{y}_i - y_i ) } { N }$"
      ]
    },
    {
      "cell_type": "code",
      "metadata": {
        "id": "ic55OPGQuDBh",
        "colab_type": "code",
        "colab": {}
      },
      "source": [
        "# tf.reduce_mean(x) calculate the mean of all values in the tensor x \n",
        "# and returns a reduced tensor.\n",
        "\n",
        "def mean_squared_error(y, y_pred):\n",
        "    return tf.reduce_mean(tf.square(y_pred - y))\n",
        "\n",
        "def mean_squared_error_deriv(y, y_pred):\n",
        "    return tf.reshape(tf.reduce_mean(2*(y_pred - y)), [1, 1])"
      ],
      "execution_count": null,
      "outputs": []
    },
    {
      "cell_type": "markdown",
      "metadata": {
        "id": "Om2yAjqWAAN_",
        "colab_type": "text"
      },
      "source": [
        "We create the regression function from scratch here.\n",
        "\n",
        "$\\hat{y} = h(x) = W.X + \\mathbf{b}$"
      ]
    },
    {
      "cell_type": "code",
      "metadata": {
        "id": "qt42s-hv_CZa",
        "colab_type": "code",
        "colab": {}
      },
      "source": [
        "def h(X, weights, bias):\n",
        "    return tf.tensordot(X, weights, axes = 1) + bias"
      ],
      "execution_count": null,
      "outputs": []
    },
    {
      "cell_type": "markdown",
      "metadata": {
        "id": "B7ED04ChAGbQ",
        "colab_type": "text"
      },
      "source": [
        "Hyperparameters:\n",
        "1. epochs\n",
        "2. batch_size: size of mini-batch used in mini-batch gradient descent\n",
        "3. learning-rate"
      ]
    },
    {
      "cell_type": "code",
      "metadata": {
        "id": "bOHBBrsj_CVE",
        "colab_type": "code",
        "colab": {
          "base_uri": "https://localhost:8080/",
          "height": 34
        },
        "outputId": "41f1fbe1-b0b2-44c3-af2c-5a7d76a618c5"
      },
      "source": [
        "num_epochs = 100\n",
        "num_samples = train_X.shape[0]\n",
        "batch_size = 500\n",
        "learning_rate = 0.002\n",
        "\n",
        "print(\"No of samples in training dataset: \", num_samples)"
      ],
      "execution_count": null,
      "outputs": [
        {
          "output_type": "stream",
          "text": [
            "No of samples in training dataset:  800000\n"
          ],
          "name": "stdout"
        }
      ]
    },
    {
      "cell_type": "markdown",
      "metadata": {
        "id": "8QHHXIWasd92",
        "colab_type": "text"
      },
      "source": [
        "We also create and shuffle our dataset."
      ]
    },
    {
      "cell_type": "code",
      "metadata": {
        "id": "7ymfyxK9BVS_",
        "colab_type": "code",
        "colab": {}
      },
      "source": [
        "dataset = tf.data.Dataset.from_tensor_slices((train_X, train_y))\n",
        "dataset = dataset.shuffle(int(num_samples*1.5)) # shuffles data\n",
        "dataset = dataset.repeat(num_epochs) # repeats the dataset by num_epochs times\n",
        "dataset = dataset.batch(batch_size) # creates batches of size = batch_size\n",
        "iterator = dataset.__iter__()"
      ],
      "execution_count": null,
      "outputs": []
    },
    {
      "cell_type": "markdown",
      "metadata": {
        "id": "XWIvQsL3DgmK",
        "colab_type": "text"
      },
      "source": [
        "`dataset.shuffle(num)`\n",
        "creates a buffer of size `num` and will the buffer up from the dataset, then elements will be selected randomly into a new dataset. \n",
        "\n",
        "As a space opens up in the buffer, then a new element will be added into the buffer from the dataset. Usually you would like to create a buffer of size bigger than your dataset for perfect shuffling."
      ]
    },
    {
      "cell_type": "markdown",
      "metadata": {
        "id": "TYKaJ5Ltt5aS",
        "colab_type": "text"
      },
      "source": [
        "## Training the model\n",
        "\n",
        "We train the model for a given number of epochs. We perform optimization for every batch in our dataset.\n",
        "\n",
        "$\\Large loss = MSE( W.X + b ) $\n",
        "\n",
        "To optimize the parameter $W$, the partial derivative of $MSE$ with respect to $W$ will be,\n",
        "\n",
        "$\\Large \\frac{ \\partial MSE }{ \\partial W} = \\frac{ \\partial MSE }{ \\partial h} * \\frac{ \\partial h }{ \\partial W}$\n",
        "\n",
        "Similarly for bias $b$ , \n",
        "\n",
        "$\\Large \\frac{ \\partial MSE }{ \\partial b} = \\frac{ \\partial MSE }{ \\partial h} * 1 $"
      ]
    },
    {
      "cell_type": "code",
      "metadata": {
        "id": "ZTvoPWyyt578",
        "colab_type": "code",
        "colab": {
          "base_uri": "https://localhost:8080/",
          "height": 34
        },
        "outputId": "c2bde398-a33c-4050-f24e-0da26c2bd593"
      },
      "source": [
        "if len(train_X.shape) > 1:\n",
        "    num_features = train_X.shape[1]\n",
        "else:\n",
        "    num_features = 1\n",
        "\n",
        "print(\"No of features: \", num_features)\n",
        "\n",
        "# note in this example weight is a tensor of shape [1, 1]"
      ],
      "execution_count": null,
      "outputs": [
        {
          "output_type": "stream",
          "text": [
            "No of features:  1\n"
          ],
          "name": "stdout"
        }
      ]
    },
    {
      "cell_type": "code",
      "metadata": {
        "id": "hodeJDaut53m",
        "colab_type": "code",
        "colab": {
          "base_uri": "https://localhost:8080/",
          "height": 478
        },
        "outputId": "7df73d23-644f-4e3b-a56c-bbf3fa7f660b"
      },
      "source": [
        "# initialise params\n",
        "tf.random.set_seed(1001)\n",
        "weights = tf.random.normal((num_features, 1)) # creates a column vector (for dot product with X)\n",
        "bias = 0\n",
        "\n",
        "epochs_plot = list()\n",
        "loss_plot = list()\n",
        "\n",
        "# start training\n",
        "for i in range(num_epochs):\n",
        "\n",
        "    epoch_loss = list()\n",
        "    for b in range(int(num_samples/batch_size)):\n",
        "        x_batch, y_batch = iterator.get_next()\n",
        "\n",
        "        output = h(x_batch, weights, bias)\n",
        "        loss = mean_squared_error(y_batch, output).numpy() # .numpy() to get the value of the tensor object\n",
        "        epoch_loss.append(loss)\n",
        "\n",
        "        dJ_dH = mean_squared_error_deriv(y_batch, output) # a value\n",
        "        dH_dW = x_batch # a matrix (batch_size, num_features)\n",
        "        dJ_dW = tf.reduce_mean(dJ_dH * dH_dW, axis = 0)\n",
        "        dJ_dB = tf.reduce_mean(dJ_dH)\n",
        "\n",
        "        weights -= (learning_rate*dJ_dW)\n",
        "        bias -= (learning_rate*dJ_dB)\n",
        "\n",
        "    e_loss = np.array(epoch_loss).mean() # mean loss for one epoch\n",
        "    epochs_plot.append(i + 1)\n",
        "    loss_plot.append(e_loss)\n",
        "\n",
        "    if i % 4 == 0:\n",
        "        print(\"Epoch {}: Loss is {}\".format(i+1, e_loss))\n",
        "\n",
        "print(\"Final loss: \", e_loss)"
      ],
      "execution_count": null,
      "outputs": [
        {
          "output_type": "stream",
          "text": [
            "Epoch 1: Loss is 22.206750869750977\n",
            "Epoch 5: Loss is 21.725116729736328\n",
            "Epoch 9: Loss is 21.32848358154297\n",
            "Epoch 13: Loss is 20.921459197998047\n",
            "Epoch 17: Loss is 20.530113220214844\n",
            "Epoch 21: Loss is 20.162012100219727\n",
            "Epoch 25: Loss is 19.799619674682617\n",
            "Epoch 29: Loss is 19.44770050048828\n",
            "Epoch 33: Loss is 19.102983474731445\n",
            "Epoch 37: Loss is 18.773460388183594\n",
            "Epoch 41: Loss is 18.449935913085938\n",
            "Epoch 45: Loss is 18.14028549194336\n",
            "Epoch 49: Loss is 17.841928482055664\n",
            "Epoch 53: Loss is 17.54735565185547\n",
            "Epoch 57: Loss is 17.262187957763672\n",
            "Epoch 61: Loss is 16.979768753051758\n",
            "Epoch 65: Loss is 16.700084686279297\n",
            "Epoch 69: Loss is 16.422195434570312\n",
            "Epoch 73: Loss is 16.15614128112793\n",
            "Epoch 77: Loss is 15.906181335449219\n",
            "Epoch 81: Loss is 15.657143592834473\n",
            "Epoch 85: Loss is 15.41257095336914\n",
            "Epoch 89: Loss is 15.177265167236328\n",
            "Epoch 93: Loss is 14.945876121520996\n",
            "Epoch 97: Loss is 14.727313041687012\n",
            "Final loss:  14.556702\n"
          ],
          "name": "stdout"
        }
      ]
    },
    {
      "cell_type": "markdown",
      "metadata": {
        "id": "vHWSPy909zDl",
        "colab_type": "text"
      },
      "source": [
        "## Plot the loss curve"
      ]
    },
    {
      "cell_type": "code",
      "metadata": {
        "id": "iiQnvjW6CP9Y",
        "colab_type": "code",
        "colab": {
          "base_uri": "https://localhost:8080/",
          "height": 281
        },
        "outputId": "e16ea6a1-4cdb-4789-a9d3-1472aecc2f2b"
      },
      "source": [
        "plt.plot( epochs_plot , loss_plot ) \n",
        "plt.title(\"Loss (MSE) curve\")\n",
        "plt.show()"
      ],
      "execution_count": null,
      "outputs": [
        {
          "output_type": "display_data",
          "data": {
            "image/png": "[encoded data removed]",
            "text/plain": [
              "<Figure size 432x288 with 1 Axes>"
            ]
          },
          "metadata": {
            "tags": [],
            "needs_background": "light"
          }
        }
      ]
    },
    {
      "cell_type": "markdown",
      "metadata": {
        "id": "tPVxC50NAOxf",
        "colab_type": "text"
      },
      "source": [
        "## Evaluate the model\n",
        "\n",
        "We evaluate our model's performance  by measuring the Mean Absolute Error on the test dataset."
      ]
    },
    {
      "cell_type": "code",
      "metadata": {
        "id": "FH_iongkAdMd",
        "colab_type": "code",
        "colab": {
          "base_uri": "https://localhost:8080/",
          "height": 34
        },
        "outputId": "30c9e349-c54f-4d62-fa3e-ea02cf68c1fe"
      },
      "source": [
        "output = h( test_X , weights , bias ) \n",
        "labels = test_y\n",
        "\n",
        "accuracy_op = tf.metrics.MeanAbsoluteError() \n",
        "accuracy_op.update_state( labels , output )\n",
        "print( 'Mean Absolute Error = {}'.format( accuracy_op.result().numpy() ) )"
      ],
      "execution_count": null,
      "outputs": [
        {
          "output_type": "stream",
          "text": [
            "Mean Absolute Error = 1.819329023361206\n"
          ],
          "name": "stdout"
        }
      ]
    },
    {
      "cell_type": "markdown",
      "metadata": {
        "id": "Jj2jAXJ8Axev",
        "colab_type": "text"
      },
      "source": [
        "## Visualise result\n"
      ]
    },
    {
      "cell_type": "code",
      "metadata": {
        "id": "o8EWPus5G926",
        "colab_type": "code",
        "colab": {
          "base_uri": "https://localhost:8080/",
          "height": 34
        },
        "outputId": "e77e8186-5834-48ee-afb9-ffca067c0500"
      },
      "source": [
        "print(\"weight: \", weights.numpy(), \"bias: \", bias.numpy())"
      ],
      "execution_count": null,
      "outputs": [
        {
          "output_type": "stream",
          "text": [
            "weight:  [[1.1684906]] bias:  1.6353309\n"
          ],
          "name": "stdout"
        }
      ]
    },
    {
      "cell_type": "code",
      "metadata": {
        "id": "ol6L-GKhA2rx",
        "colab_type": "code",
        "colab": {
          "base_uri": "https://localhost:8080/",
          "height": 282
        },
        "outputId": "2536a407-6ac6-4972-b662-4e4161244604"
      },
      "source": [
        "plt.scatter(X, y, s = 10)\n",
        "\n",
        "# plot line\n",
        "line_x = np.linspace(0.0, 10.0, 500)\n",
        "\n",
        "line_y = weights.numpy()[0][0]*line_x + bias.numpy()\n",
        "plt.plot(line_x, line_y, 'r')\n"
      ],
      "execution_count": null,
      "outputs": [
        {
          "output_type": "execute_result",
          "data": {
            "text/plain": [
              "[<matplotlib.lines.Line2D at 0x7fd3d0ee5f60>]"
            ]
          },
          "metadata": {
            "tags": []
          },
          "execution_count": 43
        },
        {
          "output_type": "display_data",
          "data": {
            "image/png": "[encoded data removed]",
            "text/plain": [
              "<Figure size 432x288 with 1 Axes>"
            ]
          },
          "metadata": {
            "tags": [],
            "needs_background": "light"
          }
        }
      ]
    },
    {
      "cell_type": "code",
      "metadata": {
        "id": "fII0LZf2BvBz",
        "colab_type": "code",
        "colab": {}
      },
      "source": [
        ""
      ],
      "execution_count": null,
      "outputs": []
    }
  ]
}