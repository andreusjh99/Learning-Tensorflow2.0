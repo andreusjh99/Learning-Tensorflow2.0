{
  "nbformat": 4,
  "nbformat_minor": 0,
  "metadata": {
    "colab": {
      "name": "Core1-Regression.ipynb",
      "provenance": [],
      "collapsed_sections": [
        "iEBez80A1rxM"
      ],
      "authorship_tag": "ABX9TyOa5X3Ut+rsZvBd4Tpc5cEC",
      "include_colab_link": true
    },
    "kernelspec": {
      "name": "python3",
      "display_name": "Python 3"
    }
  },
  "cells": [
    {
      "cell_type": "markdown",
      "metadata": {
        "id": "view-in-github",
        "colab_type": "text"
      },
      "source": [
        "<a href=\"https://colab.research.google.com/github/andreusjh99/Learning-Tensorflow2.0/blob/master/Core1_Regression.ipynb\" target=\"_parent\"><img src=\"https://colab.research.google.com/assets/colab-badge.svg\" alt=\"Open In Colab\"/></a>"
      ]
    },
    {
      "cell_type": "markdown",
      "metadata": {
        "id": "bRJHdmS6i8vf",
        "colab_type": "text"
      },
      "source": [
        "\n",
        "This series goes through some of the most common ML algorithms to see how TensorFlow 2.0 works.\n",
        "\n",
        "1. Regression\n",
        "2. Classification\n",
        "3. Clustering\n",
        "4. Hidden Markov Model \n",
        "\n"
      ]
    },
    {
      "cell_type": "markdown",
      "metadata": {
        "id": "82_6K4B3iy_h",
        "colab_type": "text"
      },
      "source": [
        "# Core Learning Algorithms 1 - Regression\n"
      ]
    },
    {
      "cell_type": "markdown",
      "metadata": {
        "id": "9NnyVpwjjmdK",
        "colab_type": "text"
      },
      "source": [
        "## **Linear Regression**\n",
        "\n",
        "`y = mx + c`\n",
        "\n",
        "To illustrate, we are going to use a fake dataset."
      ]
    },
    {
      "cell_type": "markdown",
      "metadata": {
        "id": "T3db_5mj6s_y",
        "colab_type": "text"
      },
      "source": [
        "## Workflow\n",
        "\n",
        "1. Import stuff\n",
        "2. Load your dataset using pandas\n",
        "3. Preprocess the data\n",
        "4. Create model"
      ]
    },
    {
      "cell_type": "markdown",
      "metadata": {
        "id": "17xEutGojy6-",
        "colab_type": "text"
      },
      "source": [
        "## Setup and imports\n",
        "\n"
      ]
    },
    {
      "cell_type": "code",
      "metadata": {
        "id": "B2JMi6nxiWSG",
        "colab_type": "code",
        "colab": {}
      },
      "source": [
        "!pip install -q sklearn"
      ],
      "execution_count": 2,
      "outputs": []
    },
    {
      "cell_type": "code",
      "metadata": {
        "id": "SyrBtVjsj6Rq",
        "colab_type": "code",
        "colab": {
          "base_uri": "https://localhost:8080/",
          "height": 125
        },
        "outputId": "801cf15d-cad0-4d07-87ec-32790bcb14af"
      },
      "source": [
        "%tensorflow_version 2.x  # this line is not required unless you are in a notebook"
      ],
      "execution_count": 3,
      "outputs": [
        {
          "output_type": "stream",
          "text": [
            "`%tensorflow_version` only switches the major version: 1.x or 2.x.\n",
            "You set: `2.x  # this line is not required unless you are in a notebook`. This will be interpreted as: `2.x`.\n",
            "\n",
            "\n",
            "TensorFlow 2.x selected.\n"
          ],
          "name": "stdout"
        }
      ]
    },
    {
      "cell_type": "code",
      "metadata": {
        "id": "3eY9qn6bj-U7",
        "colab_type": "code",
        "colab": {
          "base_uri": "https://localhost:8080/",
          "height": 34
        },
        "outputId": "5b6f01cc-1093-4926-c059-a95a58461eff"
      },
      "source": [
        "!python --version"
      ],
      "execution_count": 4,
      "outputs": [
        {
          "output_type": "stream",
          "text": [
            "Python 3.6.9\n"
          ],
          "name": "stdout"
        }
      ]
    },
    {
      "cell_type": "code",
      "metadata": {
        "id": "Q8GO9Kd4kAEu",
        "colab_type": "code",
        "colab": {}
      },
      "source": [
        "import numpy as np\n",
        "import pandas as pd\n",
        "import matplotlib.pyplot as plt\n",
        "%matplotlib inline\n",
        "\n",
        "import tensorflow as tf\n",
        "from sklearn.model_selection import train_test_split\n",
        "\n",
        "from IPython.display import clear_output\n",
        "from six.moves import urllib\n",
        "\n",
        "import tensorflow.compat.v2.feature_column as fc"
      ],
      "execution_count": 5,
      "outputs": []
    },
    {
      "cell_type": "code",
      "metadata": {
        "id": "vP-tUYRu6afo",
        "colab_type": "code",
        "colab": {
          "base_uri": "https://localhost:8080/",
          "height": 34
        },
        "outputId": "cb7328e0-c372-4ac8-cb78-9ca56ee4242a"
      },
      "source": [
        "print(tf.__version__)"
      ],
      "execution_count": 6,
      "outputs": [
        {
          "output_type": "stream",
          "text": [
            "2.2.0\n"
          ],
          "name": "stdout"
        }
      ]
    },
    {
      "cell_type": "markdown",
      "metadata": {
        "id": "VLoFlJx4ltqt",
        "colab_type": "text"
      },
      "source": [
        "## Creating dataset\n",
        "\n",
        "Note: this part is just to create data for our regression problem.\n",
        "\n",
        "The data we are creating is\n",
        "\n",
        "`y = 0.5x + 5 + n` where `n` is gaussian noise."
      ]
    },
    {
      "cell_type": "code",
      "metadata": {
        "id": "_csaSdkLxicb",
        "colab_type": "code",
        "colab": {}
      },
      "source": [
        "# one million data points\n",
        "x_data = np.linspace(0.0, 10.0, 1000000)"
      ],
      "execution_count": 7,
      "outputs": []
    },
    {
      "cell_type": "code",
      "metadata": {
        "id": "duoC1Y-MxiGj",
        "colab_type": "code",
        "colab": {}
      },
      "source": [
        "np.random.seed(1000)\n",
        "noise = np.random.randn(len(x_data))"
      ],
      "execution_count": 8,
      "outputs": []
    },
    {
      "cell_type": "code",
      "metadata": {
        "id": "M3hAebcryFif",
        "colab_type": "code",
        "colab": {}
      },
      "source": [
        "# creating our labels\n",
        "m, b = 0.5, 5\n",
        "y_true = m*x_data + b + noise"
      ],
      "execution_count": 9,
      "outputs": []
    },
    {
      "cell_type": "code",
      "metadata": {
        "id": "1eqPqoBCyFQZ",
        "colab_type": "code",
        "colab": {}
      },
      "source": [
        "# creating a dataframe\n",
        "my_data = pd.concat([pd.DataFrame(data=x_data, columns=[\"X Data\"]),\n",
        "                     pd.DataFrame(data=y_true, columns=[\"Y\"])], axis = 1)"
      ],
      "execution_count": 10,
      "outputs": []
    },
    {
      "cell_type": "code",
      "metadata": {
        "id": "EvoDnCkE1j0M",
        "colab_type": "code",
        "colab": {
          "base_uri": "https://localhost:8080/",
          "height": 197
        },
        "outputId": "e6abc22a-fd2b-4826-da16-f273b9eb1f89"
      },
      "source": [
        "my_data.head()"
      ],
      "execution_count": 11,
      "outputs": [
        {
          "output_type": "execute_result",
          "data": {
            "text/html": [
              "<div>\n",
              "<style scoped>\n",
              "    .dataframe tbody tr th:only-of-type {\n",
              "        vertical-align: middle;\n",
              "    }\n",
              "\n",
              "    .dataframe tbody tr th {\n",
              "        vertical-align: top;\n",
              "    }\n",
              "\n",
              "    .dataframe thead th {\n",
              "        text-align: right;\n",
              "    }\n",
              "</style>\n",
              "<table border=\"1\" class=\"dataframe\">\n",
              "  <thead>\n",
              "    <tr style=\"text-align: right;\">\n",
              "      <th></th>\n",
              "      <th>X Data</th>\n",
              "      <th>Y</th>\n",
              "    </tr>\n",
              "  </thead>\n",
              "  <tbody>\n",
              "    <tr>\n",
              "      <th>0</th>\n",
              "      <td>0.00000</td>\n",
              "      <td>4.195542</td>\n",
              "    </tr>\n",
              "    <tr>\n",
              "      <th>1</th>\n",
              "      <td>0.00001</td>\n",
              "      <td>5.320937</td>\n",
              "    </tr>\n",
              "    <tr>\n",
              "      <th>2</th>\n",
              "      <td>0.00002</td>\n",
              "      <td>4.974527</td>\n",
              "    </tr>\n",
              "    <tr>\n",
              "      <th>3</th>\n",
              "      <td>0.00003</td>\n",
              "      <td>5.644339</td>\n",
              "    </tr>\n",
              "    <tr>\n",
              "      <th>4</th>\n",
              "      <td>0.00004</td>\n",
              "      <td>4.699223</td>\n",
              "    </tr>\n",
              "  </tbody>\n",
              "</table>\n",
              "</div>"
            ],
            "text/plain": [
              "    X Data         Y\n",
              "0  0.00000  4.195542\n",
              "1  0.00001  5.320937\n",
              "2  0.00002  4.974527\n",
              "3  0.00003  5.644339\n",
              "4  0.00004  4.699223"
            ]
          },
          "metadata": {
            "tags": []
          },
          "execution_count": 11
        }
      ]
    },
    {
      "cell_type": "markdown",
      "metadata": {
        "id": "iEBez80A1rxM",
        "colab_type": "text"
      },
      "source": [
        "## Visualise data"
      ]
    },
    {
      "cell_type": "code",
      "metadata": {
        "id": "eMZTN_Dy1juq",
        "colab_type": "code",
        "colab": {
          "base_uri": "https://localhost:8080/",
          "height": 296
        },
        "outputId": "b5878c30-1263-4506-d0a1-08dbbdda0e7a"
      },
      "source": [
        "my_data.sample(n = 250).plot(kind='scatter', x='X Data', y=\"Y\")"
      ],
      "execution_count": 12,
      "outputs": [
        {
          "output_type": "execute_result",
          "data": {
            "text/plain": [
              "<matplotlib.axes._subplots.AxesSubplot at 0x7f4c9b6cf898>"
            ]
          },
          "metadata": {
            "tags": []
          },
          "execution_count": 12
        },
        {
          "output_type": "display_data",
          "data": {
            "image/png": "[encoded data removed]",
            "text/plain": [
              "<Figure size 432x288 with 1 Axes>"
            ]
          },
          "metadata": {
            "tags": [],
            "needs_background": "light"
          }
        }
      ]
    },
    {
      "cell_type": "markdown",
      "metadata": {
        "id": "ZsR8vwZP65R4",
        "colab_type": "text"
      },
      "source": [
        "## Processing the CSV\n",
        "\n",
        "We parse the values of the features and the labels from the Pandas dataframe. The steps:\n",
        "1. From the features array. (`X`)\n",
        "2. Parse the label values. (`y`)\n",
        "3. Split the `X` and `y` into training and testing datasets.\n",
        "4. Convert all the arrays to `tf.Tensor` objects."
      ]
    },
    {
      "cell_type": "code",
      "metadata": {
        "id": "SChrpGFZ1jrR",
        "colab_type": "code",
        "colab": {}
      },
      "source": [
        "X = my_data['X Data'].values\n",
        "y = my_data['Y'].values\n",
        "# this gives numpy arrays of the X and y values.\n",
        "\n",
        "# train-test split\n",
        "train_feats, test_feats, train_labels, test_labels = train_test_split(\n",
        "    X, y, test_size = 0.2)\n",
        "\n",
        "# creating tf tensor objects\n",
        "train_X = tf.constant(train_feats)\n",
        "train_y = tf.constant(train_labels)\n",
        "test_X = tf.constant(test_feats)\n",
        "test_y = tf.constant(test_labels)"
      ],
      "execution_count": 19,
      "outputs": []
    },
    {
      "cell_type": "markdown",
      "metadata": {
        "id": "Mt3gt07H_C0l",
        "colab_type": "text"
      },
      "source": [
        "## Creating model\n",
        "\n",
        "Steps:\n",
        "1. Define loss fn and its deriv\n",
        "2. Create the model function\n",
        "3. Define hyperparameters\n",
        "4. Define `tf.data.Dataset`"
      ]
    },
    {
      "cell_type": "markdown",
      "metadata": {
        "id": "bMHik_ad955t",
        "colab_type": "text"
      },
      "source": [
        "We use mean squared error in this problem.\n",
        "\n",
        "$\\Large MSE( y , \\hat{y} ) = \\frac{ \\sum_{i=0}^{N} ( y_i - \\hat{y}_i )^2 } { N }$\n",
        "\n",
        "And its derivative,\n",
        "\n",
        "$\\Large MSE'( y , \\hat{y} ) = \\frac{ 2 * \\sum_{i=0}^{N} ( y_i - \\hat{y}_i ) } { N }$"
      ]
    },
    {
      "cell_type": "code",
      "metadata": {
        "id": "ic55OPGQuDBh",
        "colab_type": "code",
        "colab": {}
      },
      "source": [
        "# tf.reduce_mean(x) calculate the mean of all values in the tensor x \n",
        "# and returns a reduced tensor.\n",
        "\n",
        "def mean_squared_error(y, y_pred):\n",
        "    return tf.reduce_mean(tf.square(y_pred - y))\n",
        "\n",
        "def mean_squared_error_deriv(y, y_pred):\n",
        "    return tf.reshape(tf.reduce_mean(2*(y_pred - y)), [1, 1])"
      ],
      "execution_count": 20,
      "outputs": []
    },
    {
      "cell_type": "markdown",
      "metadata": {
        "id": "Om2yAjqWAAN_",
        "colab_type": "text"
      },
      "source": [
        "We create the regression function from scratch here.\n",
        "\n",
        "$h(x) = W.X + \\mathbf{b}$"
      ]
    },
    {
      "cell_type": "code",
      "metadata": {
        "id": "qt42s-hv_CZa",
        "colab_type": "code",
        "colab": {}
      },
      "source": [
        "def h(X, weights, bias):\n",
        "    return tf.tensordot(X, weight, axes = 1) + bias"
      ],
      "execution_count": 21,
      "outputs": []
    },
    {
      "cell_type": "markdown",
      "metadata": {
        "id": "B7ED04ChAGbQ",
        "colab_type": "text"
      },
      "source": [
        "Hyperparameters:\n",
        "1. epochs\n",
        "2. batch_size: size of mini-batch used in mini-batch gradient descent\n",
        "3. learning-rate\n",
        "\n",
        "We also shuffle our dataset."
      ]
    },
    {
      "cell_type": "code",
      "metadata": {
        "id": "bOHBBrsj_CVE",
        "colab_type": "code",
        "colab": {
          "base_uri": "https://localhost:8080/",
          "height": 34
        },
        "outputId": "28626ae1-f08c-451a-d971-411d7808a4a9"
      },
      "source": [
        "num_epochs = 10\n",
        "num_samples = train_X.shape[0]\n",
        "batch_size = 20\n",
        "learning_rate = 0.001\n",
        "\n",
        "print(\"No of samples in training dataset: \", num_samples)"
      ],
      "execution_count": 22,
      "outputs": [
        {
          "output_type": "stream",
          "text": [
            "No of samples in training dataset:  800000\n"
          ],
          "name": "stdout"
        }
      ]
    },
    {
      "cell_type": "code",
      "metadata": {
        "id": "7ymfyxK9BVS_",
        "colab_type": "code",
        "colab": {}
      },
      "source": [
        "dataset = tf.data.Dataset.from_tensor_slices((train_X, train_y))\n",
        "dataset = dataset.shuffle(int(num_samples*1.5)) # shuffles data\n",
        "dataset = dataset.repeat(num_epochs) # repeats the dataset by num_epochs times\n",
        "dataset = dataset.batch(batch_size) # creates batches of size = batch_size\n",
        "iterator = dataset.__iter__()"
      ],
      "execution_count": 24,
      "outputs": []
    },
    {
      "cell_type": "markdown",
      "metadata": {
        "id": "XWIvQsL3DgmK",
        "colab_type": "text"
      },
      "source": [
        "`dataset.shuffle(num)`\n",
        "creates a buffer of size `num` and will the buffer up from the dataset, then elements will be selected randomly into a new dataset. \n",
        "\n",
        "As a space opens up in the buffer, then a new element will be added into the buffer from the dataset. Usually you would like to create a buffer of size bigger than your dataset for perfect shuffling."
      ]
    },
    {
      "cell_type": "code",
      "metadata": {
        "id": "iiQnvjW6CP9Y",
        "colab_type": "code",
        "colab": {}
      },
      "source": [
        ""
      ],
      "execution_count": null,
      "outputs": []
    }
  ]
}