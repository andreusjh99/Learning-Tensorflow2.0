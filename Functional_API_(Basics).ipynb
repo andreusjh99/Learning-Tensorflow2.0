{
  "nbformat": 4,
  "nbformat_minor": 0,
  "metadata": {
    "colab": {
      "name": "Functional API (Basics).ipynb",
      "provenance": [],
      "collapsed_sections": [],
      "authorship_tag": "ABX9TyM/SN6RKTcCK2z1fnSSer02",
      "include_colab_link": true
    },
    "kernelspec": {
      "name": "python3",
      "display_name": "Python 3"
    }
  },
  "cells": [
    {
      "cell_type": "markdown",
      "metadata": {
        "id": "view-in-github",
        "colab_type": "text"
      },
      "source": [
        "<a href=\"https://colab.research.google.com/github/andreusjh99/Learning-Tensorflow2.0/blob/master/Functional_API_(Basics).ipynb\" target=\"_parent\"><img src=\"https://colab.research.google.com/assets/colab-badge.svg\" alt=\"Open In Colab\"/></a>"
      ]
    },
    {
      "cell_type": "markdown",
      "metadata": {
        "id": "WFegS86zniJW",
        "colab_type": "text"
      },
      "source": [
        "# **Functional API**\n",
        "Author: [Chia Jing Heng](https://github.com/andreusjh99)\n",
        "\n",
        "This notebook explores the basics of using `Keras Functional API` to create and a model architecture. The bulk of this tutorial is from the [tensorflow official guide](https://www.tensorflow.org/guide/keras/functional)."
      ]
    },
    {
      "cell_type": "markdown",
      "metadata": {
        "id": "_Glrw4rNn417",
        "colab_type": "text"
      },
      "source": [
        "# When to use the Functional API?\n",
        "\n",
        "The Keras functional API is a way to create models that is more flexible than the `tf.keras.Sequential` API. The functional API can handle models with:\n",
        "* non-linear topology (eg residual connections)\n",
        "* shared layers (eg shared embedding layers)\n",
        "* multiple inputs or outputs.\n",
        "* ensemble models\n",
        "\n",
        "The main idea is that a deep learning model is usually a *directed acyclic graph* (DAG) of layers. So the functional API is a way to build *graphs of layers*.\n"
      ]
    },
    {
      "cell_type": "markdown",
      "metadata": {
        "id": "DQ5XEraXo65L",
        "colab_type": "text"
      },
      "source": [
        "#### Setup"
      ]
    },
    {
      "cell_type": "code",
      "metadata": {
        "id": "r5FNiy4gnVVW",
        "colab_type": "code",
        "colab": {
          "base_uri": "https://localhost:8080/",
          "height": 122
        },
        "outputId": "dac66359-00fa-4fef-b7d0-a4ad3e554619"
      },
      "source": [
        "%tensorflow_version 2.x  # this line is not required unless you are in a notebook"
      ],
      "execution_count": 1,
      "outputs": [
        {
          "output_type": "stream",
          "text": [
            "`%tensorflow_version` only switches the major version: 1.x or 2.x.\n",
            "You set: `2.x  # this line is not required unless you are in a notebook`. This will be interpreted as: `2.x`.\n",
            "\n",
            "\n",
            "TensorFlow 2.x selected.\n"
          ],
          "name": "stdout"
        }
      ]
    },
    {
      "cell_type": "code",
      "metadata": {
        "id": "31xIF_wBpR--",
        "colab_type": "code",
        "colab": {
          "base_uri": "https://localhost:8080/",
          "height": 34
        },
        "outputId": "4fc1c9e5-3c16-4fc1-eaa3-2f505085b77a"
      },
      "source": [
        "import numpy as np\n",
        "import tensorflow as tf\n",
        "from tensorflow import keras\n",
        "from tensorflow.keras import layers\n",
        "\n",
        "print(tf.__version__)"
      ],
      "execution_count": 2,
      "outputs": [
        {
          "output_type": "stream",
          "text": [
            "2.2.0\n"
          ],
          "name": "stdout"
        }
      ]
    },
    {
      "cell_type": "markdown",
      "metadata": {
        "id": "Szq4U2NmpfOm",
        "colab_type": "text"
      },
      "source": [
        "# Creating a model"
      ]
    },
    {
      "cell_type": "markdown",
      "metadata": {
        "id": "fC3M5zGIp2UK",
        "colab_type": "text"
      },
      "source": [
        "## Basic model architectures\n",
        "\n",
        "Structure of model representation:\n",
        "1. input\n",
        "2. layers\n",
        "3. output\n",
        "\n",
        "You start by creating an input node (object), specifying also the shape of the input.\n",
        "\n",
        "You then specify the layers."
      ]
    },
    {
      "cell_type": "markdown",
      "metadata": {
        "id": "QUXfinp5r8sn",
        "colab_type": "text"
      },
      "source": [
        "### Inputs and layers"
      ]
    },
    {
      "cell_type": "code",
      "metadata": {
        "id": "ruOGV6vvpaYw",
        "colab_type": "code",
        "colab": {}
      },
      "source": [
        "inputs = keras.Input(shape = (784,))\n",
        "x = layers.Dense(64, activation = \"relu\", name = \"input_layer\")(inputs)\n",
        "x = layers.Dense(64, activation = \"relu\", name = \"hidden_dense1\")(x)\n",
        "outputs = layers.Dense(10, name = \"output_layer\")(x)"
      ],
      "execution_count": 3,
      "outputs": []
    },
    {
      "cell_type": "markdown",
      "metadata": {
        "id": "xZ6hYLLKrLaF",
        "colab_type": "text"
      },
      "source": [
        "Note that each layer takes in an input argument at the end, which specify the input to that layer.\n",
        "\n",
        "Another way to write the layers is that you could define the layers first then only specify the input and output of the layers, for eg for the hidden dense layer (line 3):\n",
        "\n",
        "        dense = layers.Dense(64, activation = \"relu\", name = \"hidden_dense1\")\n",
        "        x = dense(x)\n",
        "\n",
        "This is, however, typically not used to save space unless for shared layers (see later)."
      ]
    },
    {
      "cell_type": "markdown",
      "metadata": {
        "id": "sL8sWqVOr_-2",
        "colab_type": "text"
      },
      "source": [
        "### Instantiate and visualise \n",
        "After specifying the inputs, layers and outputs for the model, you now create a `Model` by specifying its inputs and outputs."
      ]
    },
    {
      "cell_type": "code",
      "metadata": {
        "id": "FFMQHIBnrKYW",
        "colab_type": "code",
        "colab": {}
      },
      "source": [
        "model1 = keras.Model(inputs=inputs, outputs=outputs, name=\"model1\")"
      ],
      "execution_count": 4,
      "outputs": []
    },
    {
      "cell_type": "markdown",
      "metadata": {
        "id": "GLkn0l-5tjYi",
        "colab_type": "text"
      },
      "source": [
        "You could inspect the architecture, the number of weights/biases, the shape of output at each layer etc. with `model.summary()`. "
      ]
    },
    {
      "cell_type": "code",
      "metadata": {
        "id": "W862jy9Ns5uP",
        "colab_type": "code",
        "colab": {
          "base_uri": "https://localhost:8080/",
          "height": 289
        },
        "outputId": "7d8f6e40-fbf4-4060-af8a-dd328adbbe3d"
      },
      "source": [
        "model1.summary()"
      ],
      "execution_count": 5,
      "outputs": [
        {
          "output_type": "stream",
          "text": [
            "Model: \"model1\"\n",
            "_________________________________________________________________\n",
            "Layer (type)                 Output Shape              Param #   \n",
            "=================================================================\n",
            "input_1 (InputLayer)         [(None, 784)]             0         \n",
            "_________________________________________________________________\n",
            "input_layer (Dense)          (None, 64)                50240     \n",
            "_________________________________________________________________\n",
            "hidden_dense1 (Dense)        (None, 64)                4160      \n",
            "_________________________________________________________________\n",
            "output_layer (Dense)         (None, 10)                650       \n",
            "=================================================================\n",
            "Total params: 55,050\n",
            "Trainable params: 55,050\n",
            "Non-trainable params: 0\n",
            "_________________________________________________________________\n"
          ],
          "name": "stdout"
        }
      ]
    },
    {
      "cell_type": "markdown",
      "metadata": {
        "id": "lpeTUC-fs92k",
        "colab_type": "text"
      },
      "source": [
        "You could also visualise the model as a graph. This is especially useful for very complicated models."
      ]
    },
    {
      "cell_type": "code",
      "metadata": {
        "id": "P3_ThhpHs7tn",
        "colab_type": "code",
        "colab": {
          "base_uri": "https://localhost:8080/",
          "height": 422
        },
        "outputId": "7aa16bde-3f9c-4d37-838d-708ff7169a09"
      },
      "source": [
        "keras.utils.plot_model(model1, show_shapes = True)"
      ],
      "execution_count": 7,
      "outputs": [
        {
          "output_type": "execute_result",
          "data": {
            "image/png": "[encoded data removed]",
            "text/plain": [
              "<IPython.core.display.Image object>"
            ]
          },
          "metadata": {
            "tags": []
          },
          "execution_count": 7
        }
      ]
    },
    {
      "cell_type": "markdown",
      "metadata": {
        "id": "XBJsI89stvAE",
        "colab_type": "text"
      },
      "source": [
        "## Accessing layers\n",
        "\n",
        "Just like for Sequential models, you could access layers to extract features from the layers, for example the output of a hidden layer. You could essentially create an additional model that extracts the outputs of all intermediate layers in the model.\n",
        "\n",
        "This works because once a model has been built, every layer has an `input` and `output` attribute."
      ]
    },
    {
      "cell_type": "code",
      "metadata": {
        "id": "NMlkz_8UtDiB",
        "colab_type": "code",
        "colab": {
          "base_uri": "https://localhost:8080/",
          "height": 85
        },
        "outputId": "786ec61c-7a17-4aea-9d2c-d525503ddb4b"
      },
      "source": [
        "model1.layers"
      ],
      "execution_count": 8,
      "outputs": [
        {
          "output_type": "execute_result",
          "data": {
            "text/plain": [
              "[<tensorflow.python.keras.engine.input_layer.InputLayer at 0x7f2c2f6ef128>,\n",
              " <tensorflow.python.keras.layers.core.Dense at 0x7f2c30fc9cc0>,\n",
              " <tensorflow.python.keras.layers.core.Dense at 0x7f2c2f6ef0b8>,\n",
              " <tensorflow.python.keras.layers.core.Dense at 0x7f2c3100ee80>]"
            ]
          },
          "metadata": {
            "tags": []
          },
          "execution_count": 8
        }
      ]
    },
    {
      "cell_type": "code",
      "metadata": {
        "id": "h2Sm5lTpuiXR",
        "colab_type": "code",
        "colab": {
          "base_uri": "https://localhost:8080/",
          "height": 34
        },
        "outputId": "7023c5e5-6355-40d0-a980-0778cf303a75"
      },
      "source": [
        "model1.get_layer(name=\"hidden_dense1\") # access layer by name"
      ],
      "execution_count": 9,
      "outputs": [
        {
          "output_type": "execute_result",
          "data": {
            "text/plain": [
              "<tensorflow.python.keras.layers.core.Dense at 0x7f2c2f6ef0b8>"
            ]
          },
          "metadata": {
            "tags": []
          },
          "execution_count": 9
        }
      ]
    },
    {
      "cell_type": "code",
      "metadata": {
        "id": "oEPQsGLvupVM",
        "colab_type": "code",
        "colab": {}
      },
      "source": [
        "# Creating a feature extractor model\n",
        "feature_extractor = keras.Model(\n",
        "    inputs = model1.inputs,\n",
        "    outputs = [layer.output for layer in model1.layers]\n",
        ")"
      ],
      "execution_count": 10,
      "outputs": []
    },
    {
      "cell_type": "markdown",
      "metadata": {
        "id": "AHQc89KDv9VV",
        "colab_type": "text"
      },
      "source": [
        "# Other uses/architectures\n",
        "The brilliant bit of the Functional API is its ease of use for complex architectures relative to the Sequential API. Here we explore a few of these."
      ]
    },
    {
      "cell_type": "markdown",
      "metadata": {
        "id": "E7oduvhSwR00",
        "colab_type": "text"
      },
      "source": [
        "## Use same graph for multiple models\n",
        "\n",
        "You might want to use the same stack of layers for two different models. Functional API makes it easy to achieve that.\n",
        "\n",
        "In this example, the same stack of layers are used to instantiate 2 models: an encoder model and an autoencoder model."
      ]
    },
    {
      "cell_type": "code",
      "metadata": {
        "id": "oEZDsqGhv2-t",
        "colab_type": "code",
        "colab": {}
      },
      "source": [
        "# stack of layers to be used by multiple models\n",
        "encoder_input = keras.Input(shape=(28, 28, 1), name=\"img\")\n",
        "x = layers.Conv2D(16, 3, activation=\"relu\")(encoder_input)\n",
        "x = layers.Conv2D(32, 3, activation=\"relu\")(x)\n",
        "x = layers.MaxPooling2D(3)(x)\n",
        "x = layers.Conv2D(32, 3, activation=\"relu\")(x)\n",
        "x = layers.Conv2D(16, 3, activation=\"relu\")(x)\n",
        "encoder_output = layers.GlobalMaxPooling2D()(x)"
      ],
      "execution_count": 11,
      "outputs": []
    },
    {
      "cell_type": "code",
      "metadata": {
        "id": "5yv9qA97yryt",
        "colab_type": "code",
        "colab": {
          "base_uri": "https://localhost:8080/",
          "height": 969
        },
        "outputId": "871bacc3-23a1-4dec-d21a-6933b87ad5fc"
      },
      "source": [
        "# encoder\n",
        "encoder = keras.Model(encoder_input, encoder_output, name = \"encoder\")\n",
        "encoder.summary()\n",
        "\n",
        "# autoencoder\n",
        "x = layers.Reshape((4, 4, 1))(encoder_output)\n",
        "x = layers.Conv2DTranspose(16, 3, activation=\"relu\")(x)\n",
        "x = layers.Conv2DTranspose(32, 3, activation=\"relu\")(x)\n",
        "x = layers.UpSampling2D(3)(x)\n",
        "x = layers.Conv2DTranspose(16, 3, activation=\"relu\")(x)\n",
        "decoder_output = layers.Conv2DTranspose(1, 3, activation=\"relu\")(x)\n",
        "\n",
        "autoencoder = keras.Model(encoder_input, decoder_output, name=\"autoencoder\")\n",
        "autoencoder.summary()"
      ],
      "execution_count": 12,
      "outputs": [
        {
          "output_type": "stream",
          "text": [
            "Model: \"encoder\"\n",
            "_________________________________________________________________\n",
            "Layer (type)                 Output Shape              Param #   \n",
            "=================================================================\n",
            "img (InputLayer)             [(None, 28, 28, 1)]       0         \n",
            "_________________________________________________________________\n",
            "conv2d (Conv2D)              (None, 26, 26, 16)        160       \n",
            "_________________________________________________________________\n",
            "conv2d_1 (Conv2D)            (None, 24, 24, 32)        4640      \n",
            "_________________________________________________________________\n",
            "max_pooling2d (MaxPooling2D) (None, 8, 8, 32)          0         \n",
            "_________________________________________________________________\n",
            "conv2d_2 (Conv2D)            (None, 6, 6, 32)          9248      \n",
            "_________________________________________________________________\n",
            "conv2d_3 (Conv2D)            (None, 4, 4, 16)          4624      \n",
            "_________________________________________________________________\n",
            "global_max_pooling2d (Global (None, 16)                0         \n",
            "=================================================================\n",
            "Total params: 18,672\n",
            "Trainable params: 18,672\n",
            "Non-trainable params: 0\n",
            "_________________________________________________________________\n",
            "Model: \"autoencoder\"\n",
            "_________________________________________________________________\n",
            "Layer (type)                 Output Shape              Param #   \n",
            "=================================================================\n",
            "img (InputLayer)             [(None, 28, 28, 1)]       0         \n",
            "_________________________________________________________________\n",
            "conv2d (Conv2D)              (None, 26, 26, 16)        160       \n",
            "_________________________________________________________________\n",
            "conv2d_1 (Conv2D)            (None, 24, 24, 32)        4640      \n",
            "_________________________________________________________________\n",
            "max_pooling2d (MaxPooling2D) (None, 8, 8, 32)          0         \n",
            "_________________________________________________________________\n",
            "conv2d_2 (Conv2D)            (None, 6, 6, 32)          9248      \n",
            "_________________________________________________________________\n",
            "conv2d_3 (Conv2D)            (None, 4, 4, 16)          4624      \n",
            "_________________________________________________________________\n",
            "global_max_pooling2d (Global (None, 16)                0         \n",
            "_________________________________________________________________\n",
            "reshape (Reshape)            (None, 4, 4, 1)           0         \n",
            "_________________________________________________________________\n",
            "conv2d_transpose (Conv2DTran (None, 6, 6, 16)          160       \n",
            "_________________________________________________________________\n",
            "conv2d_transpose_1 (Conv2DTr (None, 8, 8, 32)          4640      \n",
            "_________________________________________________________________\n",
            "up_sampling2d (UpSampling2D) (None, 24, 24, 32)        0         \n",
            "_________________________________________________________________\n",
            "conv2d_transpose_2 (Conv2DTr (None, 26, 26, 16)        4624      \n",
            "_________________________________________________________________\n",
            "conv2d_transpose_3 (Conv2DTr (None, 28, 28, 1)         145       \n",
            "=================================================================\n",
            "Total params: 28,241\n",
            "Trainable params: 28,241\n",
            "Non-trainable params: 0\n",
            "_________________________________________________________________\n"
          ],
          "name": "stdout"
        }
      ]
    },
    {
      "cell_type": "markdown",
      "metadata": {
        "id": "i_Io_Sph1Jrl",
        "colab_type": "text"
      },
      "source": [
        "NOTE: they don't share the stack of layers, i.e. they don't share the weights, just the architecture."
      ]
    },
    {
      "cell_type": "markdown",
      "metadata": {
        "id": "U5knI5po1fww",
        "colab_type": "text"
      },
      "source": [
        "## Concatenating models (Calling models like layers)\n",
        "\n",
        "You can treat any model as if it were a layer. By calling a model you aren't just reusing the architecture of the model, but also the weights!\n",
        "\n",
        "This example is also an autoencoder, but this autoencoder is constructed by two separate models: an encoder and a decoder."
      ]
    },
    {
      "cell_type": "code",
      "metadata": {
        "id": "bPkTZVXAzbvY",
        "colab_type": "code",
        "colab": {}
      },
      "source": [
        "# encoder\n",
        "encoder_input = keras.Input(shape=(28, 28, 1), name=\"original_img\")\n",
        "x = layers.Conv2D(16, 3, activation=\"relu\")(encoder_input)\n",
        "x = layers.Conv2D(32, 3, activation=\"relu\")(x)\n",
        "x = layers.MaxPooling2D(3)(x)\n",
        "x = layers.Conv2D(32, 3, activation=\"relu\")(x)\n",
        "x = layers.Conv2D(16, 3, activation=\"relu\")(x)\n",
        "encoder_output = layers.GlobalMaxPooling2D()(x)\n",
        "\n",
        "encoder = keras.Model(encoder_input, encoder_output, name=\"encoder\")\n",
        "# encoder.summary()\n",
        "\n",
        "# decoder\n",
        "decoder_input = keras.Input(shape=(16,), name=\"encoded_img\")\n",
        "x = layers.Reshape((4, 4, 1))(decoder_input)\n",
        "x = layers.Conv2DTranspose(16, 3, activation=\"relu\")(x)\n",
        "x = layers.Conv2DTranspose(32, 3, activation=\"relu\")(x)\n",
        "x = layers.UpSampling2D(3)(x)\n",
        "x = layers.Conv2DTranspose(16, 3, activation=\"relu\")(x)\n",
        "decoder_output = layers.Conv2DTranspose(1, 3, activation=\"relu\")(x)\n",
        "\n",
        "decoder = keras.Model(decoder_input, decoder_output, name=\"decoder\")\n",
        "# decoder.summary()"
      ],
      "execution_count": 13,
      "outputs": []
    },
    {
      "cell_type": "code",
      "metadata": {
        "id": "TBAaaqla29uY",
        "colab_type": "code",
        "colab": {
          "base_uri": "https://localhost:8080/",
          "height": 510
        },
        "outputId": "d9946336-3b8d-479f-f746-01fb40bf847e"
      },
      "source": [
        "# Concatenating both to form autoencoder\n",
        "autoencoder_input = keras.Input(shape=(28, 28, 1), name=\"img\")\n",
        "encoded_img = encoder(autoencoder_input)\n",
        "decoded_img = decoder(encoded_img)\n",
        "autoencoder = keras.Model(autoencoder_input, decoded_img, name=\"autoencoder\")\n",
        "autoencoder.summary()\n",
        "\n",
        "keras.utils.plot_model(autoencoder)"
      ],
      "execution_count": 16,
      "outputs": [
        {
          "output_type": "stream",
          "text": [
            "Model: \"autoencoder\"\n",
            "_________________________________________________________________\n",
            "Layer (type)                 Output Shape              Param #   \n",
            "=================================================================\n",
            "img (InputLayer)             [(None, 28, 28, 1)]       0         \n",
            "_________________________________________________________________\n",
            "encoder (Model)              (None, 16)                18672     \n",
            "_________________________________________________________________\n",
            "decoder (Model)              (None, 28, 28, 1)         9569      \n",
            "=================================================================\n",
            "Total params: 28,241\n",
            "Trainable params: 28,241\n",
            "Non-trainable params: 0\n",
            "_________________________________________________________________\n"
          ],
          "name": "stdout"
        },
        {
          "output_type": "execute_result",
          "data": {
            "image/png": "[encoded data removed]",
            "text/plain": [
              "<IPython.core.display.Image object>"
            ]
          },
          "metadata": {
            "tags": []
          },
          "execution_count": 16
        }
      ]
    },
    {
      "cell_type": "markdown",
      "metadata": {
        "id": "_FDwdI-d31SS",
        "colab_type": "text"
      },
      "source": [
        "## Ensemble of models\n",
        "The same model is instantiated thrice and they are called like layers on the inputs in the final ensemble model."
      ]
    },
    {
      "cell_type": "code",
      "metadata": {
        "id": "Ryda3toe3j8z",
        "colab_type": "code",
        "colab": {
          "base_uri": "https://localhost:8080/",
          "height": 272
        },
        "outputId": "f3e985da-86b1-446d-f954-a9639cda030e"
      },
      "source": [
        "def get_model():\n",
        "    inputs = keras.Input(shape=(128,))\n",
        "    outputs = layers.Dense(1)(inputs)\n",
        "    return keras.Model(inputs, outputs)\n",
        "\n",
        "\n",
        "model1 = get_model()\n",
        "model2 = get_model()\n",
        "model3 = get_model()\n",
        "\n",
        "inputs = keras.Input(shape=(128,))\n",
        "y1 = model1(inputs)\n",
        "y2 = model2(inputs)\n",
        "y3 = model3(inputs)\n",
        "outputs = layers.average([y1, y2, y3])\n",
        "ensemble_model = keras.Model(inputs=inputs, outputs=outputs)\n",
        "\n",
        "keras.utils.plot_model(ensemble_model)"
      ],
      "execution_count": 15,
      "outputs": [
        {
          "output_type": "execute_result",
          "data": {
            "image/png": "[encoded data removed]",
            "text/plain": [
              "<IPython.core.display.Image object>"
            ]
          },
          "metadata": {
            "tags": []
          },
          "execution_count": 15
        }
      ]
    },
    {
      "cell_type": "markdown",
      "metadata": {
        "id": "7boMFXt-4jx0",
        "colab_type": "text"
      },
      "source": [
        "## Non-linear model topology\n",
        "These are models with layers that are not connected sequentially. Eg: a ResNet model."
      ]
    },
    {
      "cell_type": "code",
      "metadata": {
        "id": "kU6e7p4b4Zhp",
        "colab_type": "code",
        "colab": {
          "base_uri": "https://localhost:8080/",
          "height": 1000
        },
        "outputId": "3e348017-4dd4-4d8a-c905-cfb2fb48f594"
      },
      "source": [
        "inputs = keras.Input(shape=(32, 32, 3), name=\"img\")\n",
        "x = layers.Conv2D(32, 3, activation=\"relu\")(inputs)\n",
        "x = layers.Conv2D(64, 3, activation=\"relu\")(x)\n",
        "block_1_output = layers.MaxPooling2D(3)(x)\n",
        "\n",
        "x = layers.Conv2D(64, 3, activation=\"relu\", padding=\"same\")(block_1_output)\n",
        "x = layers.Conv2D(64, 3, activation=\"relu\", padding=\"same\")(x)\n",
        "block_2_output = layers.add([x, block_1_output]) # residual connection\n",
        "\n",
        "x = layers.Conv2D(64, 3, activation=\"relu\", padding=\"same\")(block_2_output)\n",
        "x = layers.Conv2D(64, 3, activation=\"relu\", padding=\"same\")(x)\n",
        "block_3_output = layers.add([x, block_2_output]) # residual connection\n",
        "\n",
        "x = layers.Conv2D(64, 3, activation=\"relu\")(block_3_output)\n",
        "x = layers.GlobalAveragePooling2D()(x)\n",
        "x = layers.Dense(256, activation=\"relu\")(x)\n",
        "x = layers.Dropout(0.5)(x)\n",
        "outputs = layers.Dense(10)(x)\n",
        "\n",
        "model = keras.Model(inputs, outputs, name=\"toy_resnet\")\n",
        "\n",
        "keras.utils.plot_model(model)"
      ],
      "execution_count": 17,
      "outputs": [
        {
          "output_type": "execute_result",
          "data": {
            "image/png": "[encoded data removed]",
            "text/plain": [
              "<IPython.core.display.Image object>"
            ]
          },
          "metadata": {
            "tags": []
          },
          "execution_count": 17
        }
      ]
    },
    {
      "cell_type": "markdown",
      "metadata": {
        "id": "pYQUsd796d1U",
        "colab_type": "text"
      },
      "source": [
        "## Multiple inputs and outputs\n",
        "Functional API makes it easy to manipulate multiple inputs and outputs, which is something Sequential API can't handle.\n",
        "\n",
        "In this example, we consider three inputs: `title_input`, `body_input`, `tags_input`, and two outputs: `priority_pred`, `department_pred`"
      ]
    },
    {
      "cell_type": "code",
      "metadata": {
        "id": "I_NBZhe77DVC",
        "colab_type": "code",
        "colab": {}
      },
      "source": [
        "# the three inputs\n",
        "num_tags = 12  # Number of unique issue tags\n",
        "num_words = 10000  # Size of vocabulary obtained when preprocessing text data\n",
        "num_departments = 4  # Number of departments for predictions\n",
        "\n",
        "title_input = keras.Input(\n",
        "    shape=(None,), name=\"title\"\n",
        ")  # Variable-length sequence of ints\n",
        "body_input = keras.Input(shape=(None,), name=\"body\")  # Variable-length sequence of ints\n",
        "tags_input = keras.Input(\n",
        "    shape=(num_tags,), name=\"tags\"\n",
        ")  # Binary vectors of size `num_tags`"
      ],
      "execution_count": 18,
      "outputs": []
    },
    {
      "cell_type": "code",
      "metadata": {
        "id": "q13PoFCn6WS7",
        "colab_type": "code",
        "colab": {}
      },
      "source": [
        "# LAYERS\n",
        "# Embed each word in the title into a 64-dimensional vector\n",
        "title_features = layers.Embedding(num_words, 64)(title_input)\n",
        "# Embed each word in the text into a 64-dimensional vector\n",
        "body_features = layers.Embedding(num_words, 64)(body_input)\n",
        "\n",
        "# Reduce sequence of embedded words in the title into a single 128-dimensional vector\n",
        "title_features = layers.LSTM(128)(title_features)\n",
        "# Reduce sequence of embedded words in the body into a single 32-dimensional vector\n",
        "body_features = layers.LSTM(32)(body_features)\n",
        "\n",
        "# Merge all available features into a single large vector via concatenation\n",
        "x = layers.concatenate([title_features, body_features, tags_input])\n",
        "\n",
        "# OUTPUTS\n",
        "# Stick a logistic regression for priority prediction on top of the features\n",
        "priority_pred = layers.Dense(1, name=\"priority\")(x)\n",
        "# Stick a department classifier on top of the features\n",
        "department_pred = layers.Dense(num_departments, name=\"department\")(x)"
      ],
      "execution_count": 19,
      "outputs": []
    },
    {
      "cell_type": "code",
      "metadata": {
        "id": "QLigUdQn7XM7",
        "colab_type": "code",
        "colab": {
          "base_uri": "https://localhost:8080/",
          "height": 466
        },
        "outputId": "4538e1fc-e599-49b6-c735-8e9f4c1d6e0f"
      },
      "source": [
        "# Instantiate an end-to-end model predicting both priority and department\n",
        "model = keras.Model(\n",
        "    inputs=[title_input, body_input, tags_input],\n",
        "    outputs=[priority_pred, department_pred],\n",
        ")\n",
        "\n",
        "keras.utils.plot_model(model)"
      ],
      "execution_count": 20,
      "outputs": [
        {
          "output_type": "execute_result",
          "data": {
            "image/png": "[encoded data removed]",
            "text/plain": [
              "<IPython.core.display.Image object>"
            ]
          },
          "metadata": {
            "tags": []
          },
          "execution_count": 20
        }
      ]
    },
    {
      "cell_type": "markdown",
      "metadata": {
        "id": "xCaCJQvY8Ppi",
        "colab_type": "text"
      },
      "source": [
        "When compiling the model, you can assign different losses to each output.\n",
        "\n",
        "A good practice is to specify names for outputs (in fact, the inputs and layers too), especially when you have multiple outputs. This allows you to specify the different losses in `compile()` in a clearer way.\n",
        "\n",
        "More on `compile()` in [this notebook](https://github.com/andreusjh99/Learning-Tensorflow2.0/blob/master/Training_And_Evaluation_(Keras_API).ipynb)."
      ]
    },
    {
      "cell_type": "code",
      "metadata": {
        "id": "uhsRxB628Igx",
        "colab_type": "code",
        "colab": {}
      },
      "source": [
        "model.compile(\n",
        "    optimizer=keras.optimizers.RMSprop(1e-3),\n",
        "    loss={\n",
        "        \"priority\": keras.losses.BinaryCrossentropy(from_logits=True),\n",
        "        \"department\": keras.losses.CategoricalCrossentropy(from_logits=True),\n",
        "    },\n",
        "    loss_weights=[1.0, 0.2],\n",
        ")"
      ],
      "execution_count": 21,
      "outputs": []
    },
    {
      "cell_type": "markdown",
      "metadata": {
        "id": "tzLyMW6D9Lrp",
        "colab_type": "text"
      },
      "source": [
        "To fit,\n",
        "\n",
        "        model.fit(\n",
        "            {\"title\": title_data, \"body\": body_data, \"tags\": tags_data},\n",
        "            {\"priority\": priority_targets, \"department\": dept_targets},\n",
        "            epochs=num_epochs,\n",
        "            batch_size=batch_size,\n",
        "        )\n",
        "\n",
        "where `title_data`, `body_data`, `tags_data`, `priority_targets`, `dept_targets` are `NumPy` arrays of the 3 inputs and 2 outputs.\n",
        "\n",
        "Typically, for multiple inputs/outputs it will be easier to use `NumPy` arrays for the input and output data rather than `Dataset`'s.\n"
      ]
    },
    {
      "cell_type": "markdown",
      "metadata": {
        "id": "Zu9ogU_d904C",
        "colab_type": "text"
      },
      "source": [
        "## Shared layers\n",
        "Shared layers are often used to encode inputs from similar spaces. They enable sharing of information across these different inputs.\n",
        "\n",
        "In this example, we share an `Embedding` layer across two inputs."
      ]
    },
    {
      "cell_type": "code",
      "metadata": {
        "id": "V7NyBQPi-X8N",
        "colab_type": "code",
        "colab": {}
      },
      "source": [
        "# LAYER TO BE SHARED\n",
        "# Embedding for 1000 unique words mapped to 128-dimensional vectors\n",
        "shared_embedding = layers.Embedding(1000, 128)"
      ],
      "execution_count": 22,
      "outputs": []
    },
    {
      "cell_type": "code",
      "metadata": {
        "id": "gSkcHgdw-N3s",
        "colab_type": "code",
        "colab": {}
      },
      "source": [
        "# Variable-length sequence of integers\n",
        "text_input_a = keras.Input(shape=(None,), dtype=\"int32\")\n",
        "\n",
        "# Variable-length sequence of integers\n",
        "text_input_b = keras.Input(shape=(None,), dtype=\"int32\")\n",
        "\n",
        "# Reuse the same layer to encode both inputs\n",
        "encoded_input_a = shared_embedding(text_input_a)\n",
        "encoded_input_b = shared_embedding(text_input_b)\n",
        "\n",
        "# ..."
      ],
      "execution_count": 23,
      "outputs": []
    },
    {
      "cell_type": "markdown",
      "metadata": {
        "id": "E3GEVMka-k7I",
        "colab_type": "text"
      },
      "source": [
        "# What's next?\n",
        "What do you do then with you model? You train, evaluate it, and use it to predict.\n",
        "\n",
        "This will be covered in [another notebook](https://github.com/andreusjh99/Learning-Tensorflow2.0/blob/master/Training_And_Evaluation_(Keras_API).ipynb)."
      ]
    },
    {
      "cell_type": "code",
      "metadata": {
        "id": "27qzujb_-ens",
        "colab_type": "code",
        "colab": {}
      },
      "source": [
        ""
      ],
      "execution_count": null,
      "outputs": []
    },
    {
      "cell_type": "markdown",
      "metadata": {
        "id": "5WgbCXB--fc3",
        "colab_type": "text"
      },
      "source": [
        "# Appendix"
      ]
    }
  ]
}