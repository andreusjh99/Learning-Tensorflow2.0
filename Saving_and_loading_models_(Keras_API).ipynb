{
  "nbformat": 4,
  "nbformat_minor": 0,
  "metadata": {
    "colab": {
      "name": "Saving and loading models (Keras API).ipynb",
      "provenance": [],
      "collapsed_sections": [
        "-mzwJq7xTkUv"
      ],
      "toc_visible": true,
      "authorship_tag": "ABX9TyPPsDheXLGPuzYmADRm/Sml",
      "include_colab_link": true
    },
    "kernelspec": {
      "name": "python3",
      "display_name": "Python 3"
    }
  },
  "cells": [
    {
      "cell_type": "markdown",
      "metadata": {
        "id": "view-in-github",
        "colab_type": "text"
      },
      "source": [
        "<a href=\"https://colab.research.google.com/github/andreusjh99/Learning-Tensorflow2.0/blob/master/Saving_and_loading_models_(Keras_API).ipynb\" target=\"_parent\"><img src=\"https://colab.research.google.com/assets/colab-badge.svg\" alt=\"Open In Colab\"/></a>"
      ]
    },
    {
      "cell_type": "markdown",
      "metadata": {
        "id": "AzI51dMyPxf0",
        "colab_type": "text"
      },
      "source": [
        "# **Saving and loading models & checkpoints (Basics)**\n",
        "Author: [Chia Jing Heng](https://github.com/andreusjh99)\n",
        "\n",
        "This notebook explores the basics of using the keras API to save and load models. The bulk of this tutorial is from the tensorflow official guides [here](https://www.tensorflow.org/guide/keras/save_and_serialize) and [here](https://www.tensorflow.org/tutorials/keras/save_and_load)."
      ]
    },
    {
      "cell_type": "markdown",
      "metadata": {
        "id": "YHeY9CJ3Qloq",
        "colab_type": "text"
      },
      "source": [
        "Model progress can be saved before, during and/or training. This means a model can be reused, can resume where it left off or can be used to make predictions after trained.\n",
        "\n",
        "A Keras model consists of multiple components:\n",
        "* An **architecture/configuration**, which specifies the layers and how they are connected.\n",
        "* A set of **weights** (the *state of the model*)\n",
        "* An **optimiser** and its state\n",
        "* A set of **losses** and **metrics**.\n",
        "\n",
        "The Keras API makes it possible to save these to disk. Most commonly, people save the entire model or only the weights. In this notebook, we will explore both."
      ]
    },
    {
      "cell_type": "markdown",
      "metadata": {
        "id": "C2Zw0bjcRu6d",
        "colab_type": "text"
      },
      "source": [
        "#### Setup"
      ]
    },
    {
      "cell_type": "code",
      "metadata": {
        "id": "-ZG0gxMiPiY6",
        "colab_type": "code",
        "colab": {
          "base_uri": "https://localhost:8080/",
          "height": 102
        },
        "outputId": "83294ee6-3da7-442d-f3fd-2a09561a606a"
      },
      "source": [
        "%tensorflow_version 2.x  # this line is not required unless you are in a notebook"
      ],
      "execution_count": 2,
      "outputs": [
        {
          "output_type": "stream",
          "text": [
            "`%tensorflow_version` only switches the major version: 1.x or 2.x.\n",
            "You set: `2.x  # this line is not required unless you are in a notebook`. This will be interpreted as: `2.x`.\n",
            "\n",
            "\n",
            "TensorFlow 2.x selected.\n"
          ],
          "name": "stdout"
        }
      ]
    },
    {
      "cell_type": "code",
      "metadata": {
        "id": "kCg48QeRR4UV",
        "colab_type": "code",
        "colab": {
          "base_uri": "https://localhost:8080/",
          "height": 34
        },
        "outputId": "288b97f0-1ef3-473d-e389-8b49b31b3358"
      },
      "source": [
        "import tensorflow as tf\n",
        "from tensorflow import keras\n",
        "from tensorflow.keras import layers\n",
        "\n",
        "print(tf.__version__)"
      ],
      "execution_count": 3,
      "outputs": [
        {
          "output_type": "stream",
          "text": [
            "2.2.0\n"
          ],
          "name": "stdout"
        }
      ]
    },
    {
      "cell_type": "markdown",
      "metadata": {
        "id": "elJgfqtjZUaK",
        "colab_type": "text"
      },
      "source": [
        "### Mounting Google Drive\n",
        "This step is important for Google Colab. This enables you to save your models to Google drive."
      ]
    },
    {
      "cell_type": "code",
      "metadata": {
        "id": "DLD1-txUZlWt",
        "colab_type": "code",
        "colab": {
          "base_uri": "https://localhost:8080/",
          "height": 122
        },
        "outputId": "fe687f50-cd49-45b2-e1cd-875cb96ad9c5"
      },
      "source": [
        "from google.colab import drive\n",
        "drive.mount('/content/gdrive')"
      ],
      "execution_count": 4,
      "outputs": [
        {
          "output_type": "stream",
          "text": [
            "Go to this URL in a browser: https://accounts.google.com/o/oauth2/auth?client_id=947318989803-6bn6qk8qdgf4n4g3pfee6491hc0brc4i.apps.googleusercontent.com&redirect_uri=urn%3aietf%3awg%3aoauth%3a2.0%3aoob&response_type=code&scope=email%20https%3a%2f%2fwww.googleapis.com%2fauth%2fdocs.test%20https%3a%2f%2fwww.googleapis.com%2fauth%2fdrive%20https%3a%2f%2fwww.googleapis.com%2fauth%2fdrive.photos.readonly%20https%3a%2f%2fwww.googleapis.com%2fauth%2fpeopleapi.readonly\n",
            "\n",
            "Enter your authorization code:\n",
            "··········\n",
            "Mounted at /content/gdrive\n"
          ],
          "name": "stdout"
        }
      ]
    },
    {
      "cell_type": "code",
      "metadata": {
        "id": "b2lxK2anaagf",
        "colab_type": "code",
        "colab": {}
      },
      "source": [
        "path = \"/content/gdrive/My Drive/Colab Notebooks/Tensorflow2.0_Tutorial/Models/\" "
      ],
      "execution_count": 5,
      "outputs": []
    },
    {
      "cell_type": "markdown",
      "metadata": {
        "id": "-mnKVJQOR7jx",
        "colab_type": "text"
      },
      "source": [
        "#### Creating the model\n"
      ]
    },
    {
      "cell_type": "code",
      "metadata": {
        "id": "cAkkIE9vSAS0",
        "colab_type": "code",
        "colab": {}
      },
      "source": [
        "# Using the Sequential API\n",
        "def create_model():\n",
        "    model = keras.Sequential(name = \"Classifier\")\n",
        "    model.add(keras.Input(shape = (784,), name = \"Digits\"))\n",
        "    model.add(layers.Dense(64, activation = \"relu\", name = \"Input_layer\"))\n",
        "    model.add(layers.Dense(64, activation = \"relu\", name = \"Hidden_dense_1\"))\n",
        "    model.add(layers.Dense(10, activation = \"softmax\", name = \"predictions\"))\n",
        "\n",
        "    return model"
      ],
      "execution_count": 6,
      "outputs": []
    },
    {
      "cell_type": "markdown",
      "metadata": {
        "id": "oj6qjPbASLQM",
        "colab_type": "text"
      },
      "source": [
        "# Save and load model\n",
        "\n",
        "The model could be saved at any stage of your project. You can save and load a model before compiling, after compiling but before fitting, during fitting, and/or after fitting.\n",
        "\n",
        "*Note: usually you would save a model before compiling only if you want to use the architecture but don't want to use the same optimiser(s)/loss(es)/metric(s).\n",
        "\n",
        "There are 2 formats you can use to save an entire model to disk:\n",
        "1. tf SavedModel format (default and recommended)\n",
        "2. keras H5 format (old)\n",
        "\n",
        "The default SavedModel is recommended as the older keras H5 format doesn't save custom objects like custom layers.\n",
        "\n",
        "**SavedModel**\n",
        "\n",
        "The SavedModel format is a folder containing:\n",
        "* `assets` folder\n",
        "* `saved_model.pb`\n",
        "* `variables` folder\n",
        "\n",
        "The model architecture, and training configuration (including optimiser, losses, metrics etc) are stored in `saved_model.pb` while the weights are saved in the `variables` directory."
      ]
    },
    {
      "cell_type": "markdown",
      "metadata": {
        "id": "-mzwJq7xTkUv",
        "colab_type": "text"
      },
      "source": [
        "## `model.save()` and `load_model()`\n",
        "\n",
        "Apart from during fitting, the model could be saved by using a simple command:\n",
        "\n",
        "        model.save(model_dir)\n",
        "\n",
        "The model can then be loaded with:\n",
        "\n",
        "        tf.keras.models.load_model(model_dir)"
      ]
    },
    {
      "cell_type": "code",
      "metadata": {
        "id": "35J6mprZU9qY",
        "colab_type": "code",
        "colab": {
          "base_uri": "https://localhost:8080/",
          "height": 255
        },
        "outputId": "6a4e305a-4ff7-4f29-e1b2-0973f08ee88c"
      },
      "source": [
        "model1 = create_model()\n",
        "model1.summary()"
      ],
      "execution_count": 7,
      "outputs": [
        {
          "output_type": "stream",
          "text": [
            "Model: \"Classifier\"\n",
            "_________________________________________________________________\n",
            "Layer (type)                 Output Shape              Param #   \n",
            "=================================================================\n",
            "Input_layer (Dense)          (None, 64)                50240     \n",
            "_________________________________________________________________\n",
            "Hidden_dense_1 (Dense)       (None, 64)                4160      \n",
            "_________________________________________________________________\n",
            "predictions (Dense)          (None, 10)                650       \n",
            "=================================================================\n",
            "Total params: 55,050\n",
            "Trainable params: 55,050\n",
            "Non-trainable params: 0\n",
            "_________________________________________________________________\n"
          ],
          "name": "stdout"
        }
      ]
    },
    {
      "cell_type": "code",
      "metadata": {
        "id": "32jT9WzhWQgs",
        "colab_type": "code",
        "colab": {
          "base_uri": "https://localhost:8080/",
          "height": 54
        },
        "outputId": "9e1bad87-edc2-4f51-ff54-fc1a57cf840e"
      },
      "source": [
        "# save before compiling\n",
        "model1.save(path + \"model1_before_compiled\")"
      ],
      "execution_count": 10,
      "outputs": [
        {
          "output_type": "stream",
          "text": [
            "INFO:tensorflow:Assets written to: /content/gdrive/My Drive/Colab Notebooks/Tensorflow2.0_Tutorial/Models/model1_before_compiled/assets\n"
          ],
          "name": "stdout"
        }
      ]
    },
    {
      "cell_type": "code",
      "metadata": {
        "id": "fqyOxFiCX2pJ",
        "colab_type": "code",
        "colab": {
          "base_uri": "https://localhost:8080/",
          "height": 292
        },
        "outputId": "96a7639f-464a-4748-874f-8fd5ff732f2f"
      },
      "source": [
        "# load model\n",
        "model2 = tf.keras.models.load_model(path + \"model1_before_compiled\")\n",
        "model2.summary()"
      ],
      "execution_count": 11,
      "outputs": [
        {
          "output_type": "stream",
          "text": [
            "WARNING:tensorflow:No training configuration found in save file, so the model was *not* compiled. Compile it manually.\n",
            "Model: \"Classifier\"\n",
            "_________________________________________________________________\n",
            "Layer (type)                 Output Shape              Param #   \n",
            "=================================================================\n",
            "Input_layer (Dense)          (None, 64)                50240     \n",
            "_________________________________________________________________\n",
            "Hidden_dense_1 (Dense)       (None, 64)                4160      \n",
            "_________________________________________________________________\n",
            "predictions (Dense)          (None, 10)                650       \n",
            "=================================================================\n",
            "Total params: 55,050\n",
            "Trainable params: 55,050\n",
            "Non-trainable params: 0\n",
            "_________________________________________________________________\n"
          ],
          "name": "stdout"
        }
      ]
    },
    {
      "cell_type": "markdown",
      "metadata": {
        "id": "a2Uvp6ryQTBJ",
        "colab_type": "text"
      },
      "source": [
        "To save or load model after compiling, fitting etc., just use the same commands."
      ]
    },
    {
      "cell_type": "markdown",
      "metadata": {
        "id": "9BM7Yi2gQcPL",
        "colab_type": "text"
      },
      "source": [
        "## `keras.callbacks.ModelCheckpoint()`\n",
        "\n",
        "To save the model during training, you need to use callbacks. This is also called saving checkpoints of your model.\n",
        "\n",
        "The following two cells are just setting up."
      ]
    },
    {
      "cell_type": "code",
      "metadata": {
        "id": "TMx_WGZgegoO",
        "colab_type": "code",
        "colab": {}
      },
      "source": [
        "model1.compile(\n",
        "    optimizer=\"rmsprop\", \n",
        "    loss=\"sparse_categorical_crossentropy\", \n",
        "    metrics=[\"sparse_categorical_accuracy\"]\n",
        ")"
      ],
      "execution_count": 8,
      "outputs": []
    },
    {
      "cell_type": "code",
      "metadata": {
        "id": "RSBqZ3RnRWzC",
        "colab_type": "code",
        "colab": {
          "base_uri": "https://localhost:8080/",
          "height": 51
        },
        "outputId": "26e1f037-d25b-4aa7-b65d-4d21d99fa92b"
      },
      "source": [
        "# load the Mnist data\n",
        "(x_train, y_train), (x_test, y_test) = keras.datasets.mnist.load_data()\n",
        "\n",
        "# preprocess the data (these are NumPy arrays)\n",
        "x_train = x_train.reshape(60000, 784).astype(\"float32\") / 255 # reshape, cast and normalise\n",
        "x_test = x_test.reshape(10000, 784).astype(\"float32\") / 255\n",
        "\n",
        "y_train = y_train.astype(\"float32\") # cast\n",
        "y_test = y_test.astype(\"float32\")"
      ],
      "execution_count": 9,
      "outputs": [
        {
          "output_type": "stream",
          "text": [
            "Downloading data from https://storage.googleapis.com/tensorflow/tf-keras-datasets/mnist.npz\n",
            "11493376/11490434 [==============================] - 0s 0us/step\n"
          ],
          "name": "stdout"
        }
      ]
    },
    {
      "cell_type": "markdown",
      "metadata": {
        "id": "X-TpSKLESFhQ",
        "colab_type": "text"
      },
      "source": [
        "The 2 cells are setup stuff. Now to the real business.\n",
        "\n",
        "Define your callbacks before fitting your model. For more info about callbacks, refer to this tutorial."
      ]
    },
    {
      "cell_type": "code",
      "metadata": {
        "id": "RbDJD81CSBpz",
        "colab_type": "code",
        "colab": {}
      },
      "source": [
        "# define callbacks list\n",
        "callbacks = [\n",
        "    keras.callbacks.ModelCheckpoint(\n",
        "        filepath = path + \"model1_{epoch}\",\n",
        "        monitor = \"val_loss\",\n",
        "        save_best_only = True,\n",
        "        verbose = 1,\n",
        "    )\n",
        "]"
      ],
      "execution_count": 12,
      "outputs": []
    },
    {
      "cell_type": "markdown",
      "metadata": {
        "id": "Hk0qHM7SSsXK",
        "colab_type": "text"
      },
      "source": [
        "`keras.callbacks.ModelCheckpoint()` takes in:\n",
        "* `filepath`\n",
        "* `monitor`: quantity to monitor \n",
        "* `save_best_only`: if True, only save model if the model improved (judged by the monitored quantity). False by default.\n",
        "* `save_weights_only`: if True, only save the weights. False by default.\n",
        "* `mode`: `\"max\"` means maximisation of monitored quantity; `\"min\"` means minimisation; `\"auto\"` by default, i.e. keras figures it out from the name of the quantity.\n",
        "* `save_freq`: `\"epoch\"` means per epoch; integer means number of batches.\n",
        "\n",
        "So to save the entire model, `save_weights_only` should be False.\n",
        "\n"
      ]
    },
    {
      "cell_type": "code",
      "metadata": {
        "id": "FQqwheZpSpaF",
        "colab_type": "code",
        "colab": {
          "base_uri": "https://localhost:8080/",
          "height": 598
        },
        "outputId": "be7abce7-6afc-4637-bf6d-4b61595b6789"
      },
      "source": [
        "num_epochs = 6\n",
        "batch_size = 64\n",
        "\n",
        "train_log = model1.fit(\n",
        "    x_train,\n",
        "    y_train,\n",
        "    batch_size = batch_size,\n",
        "    epochs = num_epochs,\n",
        "    validation_split = 0.2,\n",
        "    callbacks = callbacks\n",
        ")"
      ],
      "execution_count": 14,
      "outputs": [
        {
          "output_type": "stream",
          "text": [
            "Epoch 1/6\n",
            "725/750 [============================>.] - ETA: 0s - loss: 0.3488 - sparse_categorical_accuracy: 0.9022\n",
            "Epoch 00001: val_loss improved from inf to 0.18568, saving model to /content/gdrive/My Drive/Colab Notebooks/Tensorflow2.0_Tutorial/Models/model1_1\n",
            "WARNING:tensorflow:From /usr/local/lib/python3.6/dist-packages/tensorflow/python/ops/resource_variable_ops.py:1817: calling BaseResourceVariable.__init__ (from tensorflow.python.ops.resource_variable_ops) with constraint is deprecated and will be removed in a future version.\n",
            "Instructions for updating:\n",
            "If using Keras pass *_constraint arguments to layers.\n",
            "INFO:tensorflow:Assets written to: /content/gdrive/My Drive/Colab Notebooks/Tensorflow2.0_Tutorial/Models/model1_1/assets\n",
            "750/750 [==============================] - 3s 4ms/step - loss: 0.3446 - sparse_categorical_accuracy: 0.9033 - val_loss: 0.1857 - val_sparse_categorical_accuracy: 0.9471\n",
            "Epoch 2/6\n",
            "732/750 [============================>.] - ETA: 0s - loss: 0.1638 - sparse_categorical_accuracy: 0.9507\n",
            "Epoch 00002: val_loss improved from 0.18568 to 0.13333, saving model to /content/gdrive/My Drive/Colab Notebooks/Tensorflow2.0_Tutorial/Models/model1_2\n",
            "INFO:tensorflow:Assets written to: /content/gdrive/My Drive/Colab Notebooks/Tensorflow2.0_Tutorial/Models/model1_2/assets\n",
            "750/750 [==============================] - 2s 3ms/step - loss: 0.1630 - sparse_categorical_accuracy: 0.9509 - val_loss: 0.1333 - val_sparse_categorical_accuracy: 0.9627\n",
            "Epoch 3/6\n",
            "738/750 [============================>.] - ETA: 0s - loss: 0.1198 - sparse_categorical_accuracy: 0.9641\n",
            "Epoch 00003: val_loss improved from 0.13333 to 0.12894, saving model to /content/gdrive/My Drive/Colab Notebooks/Tensorflow2.0_Tutorial/Models/model1_3\n",
            "INFO:tensorflow:Assets written to: /content/gdrive/My Drive/Colab Notebooks/Tensorflow2.0_Tutorial/Models/model1_3/assets\n",
            "750/750 [==============================] - 2s 3ms/step - loss: 0.1196 - sparse_categorical_accuracy: 0.9640 - val_loss: 0.1289 - val_sparse_categorical_accuracy: 0.9617\n",
            "Epoch 4/6\n",
            "737/750 [============================>.] - ETA: 0s - loss: 0.0964 - sparse_categorical_accuracy: 0.9702\n",
            "Epoch 00004: val_loss improved from 0.12894 to 0.12159, saving model to /content/gdrive/My Drive/Colab Notebooks/Tensorflow2.0_Tutorial/Models/model1_4\n",
            "INFO:tensorflow:Assets written to: /content/gdrive/My Drive/Colab Notebooks/Tensorflow2.0_Tutorial/Models/model1_4/assets\n",
            "750/750 [==============================] - 2s 3ms/step - loss: 0.0962 - sparse_categorical_accuracy: 0.9703 - val_loss: 0.1216 - val_sparse_categorical_accuracy: 0.9657\n",
            "Epoch 5/6\n",
            "734/750 [============================>.] - ETA: 0s - loss: 0.0809 - sparse_categorical_accuracy: 0.9756\n",
            "Epoch 00005: val_loss improved from 0.12159 to 0.10663, saving model to /content/gdrive/My Drive/Colab Notebooks/Tensorflow2.0_Tutorial/Models/model1_5\n",
            "INFO:tensorflow:Assets written to: /content/gdrive/My Drive/Colab Notebooks/Tensorflow2.0_Tutorial/Models/model1_5/assets\n",
            "750/750 [==============================] - 2s 3ms/step - loss: 0.0807 - sparse_categorical_accuracy: 0.9757 - val_loss: 0.1066 - val_sparse_categorical_accuracy: 0.9682\n",
            "Epoch 6/6\n",
            "744/750 [============================>.] - ETA: 0s - loss: 0.0678 - sparse_categorical_accuracy: 0.9790\n",
            "Epoch 00006: val_loss improved from 0.10663 to 0.10201, saving model to /content/gdrive/My Drive/Colab Notebooks/Tensorflow2.0_Tutorial/Models/model1_6\n",
            "INFO:tensorflow:Assets written to: /content/gdrive/My Drive/Colab Notebooks/Tensorflow2.0_Tutorial/Models/model1_6/assets\n",
            "750/750 [==============================] - 2s 3ms/step - loss: 0.0676 - sparse_categorical_accuracy: 0.9790 - val_loss: 0.1020 - val_sparse_categorical_accuracy: 0.9728\n"
          ],
          "name": "stdout"
        }
      ]
    },
    {
      "cell_type": "markdown",
      "metadata": {
        "id": "o0G7PGQiU2KZ",
        "colab_type": "text"
      },
      "source": [
        "# Save and load weights\n",
        "\n",
        "You could choose to save only the weights and you could do this at any stage as well.\n",
        "\n",
        "There are two formats you can save weights to disk:\n",
        "1. Tensorflow Checkpoint (Default, recommended)\n",
        "2. HDF5 (Old)\n",
        "\n",
        "The Tensorflow Checkpoint dir contains:\n",
        "* one or more shards that contain your model's weights.\n",
        "* An index file that indicates which weights are stored in which shard.\n",
        "\n",
        "This folder is the same as the `Variables` folder in the SavedModel folder created as you saved the entire model."
      ]
    },
    {
      "cell_type": "markdown",
      "metadata": {
        "id": "8zt2PeDdWfuO",
        "colab_type": "text"
      },
      "source": [
        "## `model.save_weights()` and `model.load_weights()`\n",
        "\n",
        "Save weights by:\n",
        "\n",
        "        model.save_weights(filepath)\n",
        "\n",
        "Load weights by:\n",
        "\n",
        "        model.load_weights(filepath)\n",
        "\n",
        "An alternative to loading weights: use `model.get_weights()` with `model.load_weights()`. `get_weights()` is a method to get the weights from the model. It loads the weights from the `variable` dir in your SavedModel dir. So to do this:\n",
        "\n",
        "        model_1 = tf.keras.models.load_model(model_dir)\n",
        "        model_2.load_weights(model_1.get_weights())\n",
        "\n",
        "This means you could essentially load weights from a saved model or load weights from saved weights of a model. Note, the architectures of the models need to be compatible. \n",
        "\n",
        "\n"
      ]
    },
    {
      "cell_type": "code",
      "metadata": {
        "id": "zXI8wXKDUqaB",
        "colab_type": "code",
        "colab": {
          "base_uri": "https://localhost:8080/",
          "height": 255
        },
        "outputId": "8b7ade08-9311-46af-a469-aec30791fc2c"
      },
      "source": [
        "model3 = create_model()\n",
        "model3.summary()"
      ],
      "execution_count": 15,
      "outputs": [
        {
          "output_type": "stream",
          "text": [
            "Model: \"Classifier\"\n",
            "_________________________________________________________________\n",
            "Layer (type)                 Output Shape              Param #   \n",
            "=================================================================\n",
            "Input_layer (Dense)          (None, 64)                50240     \n",
            "_________________________________________________________________\n",
            "Hidden_dense_1 (Dense)       (None, 64)                4160      \n",
            "_________________________________________________________________\n",
            "predictions (Dense)          (None, 10)                650       \n",
            "=================================================================\n",
            "Total params: 55,050\n",
            "Trainable params: 55,050\n",
            "Non-trainable params: 0\n",
            "_________________________________________________________________\n"
          ],
          "name": "stdout"
        }
      ]
    },
    {
      "cell_type": "code",
      "metadata": {
        "id": "lzhllCVNWZOF",
        "colab_type": "code",
        "colab": {}
      },
      "source": [
        "dir = path + \"model3_weights/\"\n",
        "model3.save_weights(dir + \"model3_before_compiled\")"
      ],
      "execution_count": 17,
      "outputs": []
    },
    {
      "cell_type": "code",
      "metadata": {
        "id": "Pvz4BoznZFq6",
        "colab_type": "code",
        "colab": {
          "base_uri": "https://localhost:8080/",
          "height": 34
        },
        "outputId": "cf9e9187-26ae-4589-da08-b36a32d77307"
      },
      "source": [
        "model3.compile(\n",
        "    optimizer=\"rmsprop\", \n",
        "    loss=\"sparse_categorical_crossentropy\", \n",
        "    metrics=[\"sparse_categorical_accuracy\"]\n",
        ")\n",
        "\n",
        "model3.load_weights(dir + \"model3_before_compiled\")"
      ],
      "execution_count": 18,
      "outputs": [
        {
          "output_type": "execute_result",
          "data": {
            "text/plain": [
              "<tensorflow.python.training.tracking.util.CheckpointLoadStatus at 0x7f6afd8a3e80>"
            ]
          },
          "metadata": {
            "tags": []
          },
          "execution_count": 18
        }
      ]
    },
    {
      "cell_type": "markdown",
      "metadata": {
        "id": "KHksLoZraBao",
        "colab_type": "text"
      },
      "source": [
        "## `keras.callbacks.ModelCheckpoint()`\n",
        "\n",
        "To save the weights during training, you need to use callbacks. This is also called saving checkpoints of your model.\n",
        "\n",
        "This is similar to saving the entire model, just setting `save_weights_only` to `True`."
      ]
    },
    {
      "cell_type": "code",
      "metadata": {
        "id": "LTU8smwqZ5gA",
        "colab_type": "code",
        "colab": {}
      },
      "source": [
        "# define callbacks list\n",
        "callbacks = [\n",
        "    keras.callbacks.ModelCheckpoint(\n",
        "        filepath = dir + \"checkpoints/model3_epoch{epoch}\",\n",
        "        monitor = \"val_loss\",\n",
        "        save_best_only = True,\n",
        "        save_weights_only = True,\n",
        "        verbose = 1,\n",
        "    )\n",
        "]"
      ],
      "execution_count": 19,
      "outputs": []
    },
    {
      "cell_type": "code",
      "metadata": {
        "id": "3NLISx7tamR9",
        "colab_type": "code",
        "colab": {
          "base_uri": "https://localhost:8080/",
          "height": 445
        },
        "outputId": "4763fe8e-a465-4496-aecb-58f17a5c67c9"
      },
      "source": [
        "num_epochs = 6\n",
        "batch_size = 64\n",
        "\n",
        "train_log = model3.fit(\n",
        "    x_train,\n",
        "    y_train,\n",
        "    batch_size = batch_size,\n",
        "    epochs = num_epochs,\n",
        "    validation_split = 0.2,\n",
        "    callbacks = callbacks\n",
        ")"
      ],
      "execution_count": 21,
      "outputs": [
        {
          "output_type": "stream",
          "text": [
            "Epoch 1/6\n",
            "729/750 [============================>.] - ETA: 0s - loss: 0.3532 - sparse_categorical_accuracy: 0.8982\n",
            "Epoch 00001: val_loss did not improve from 0.10518\n",
            "750/750 [==============================] - 2s 3ms/step - loss: 0.3489 - sparse_categorical_accuracy: 0.8993 - val_loss: 0.1847 - val_sparse_categorical_accuracy: 0.9461\n",
            "Epoch 2/6\n",
            "743/750 [============================>.] - ETA: 0s - loss: 0.1646 - sparse_categorical_accuracy: 0.9509\n",
            "Epoch 00002: val_loss did not improve from 0.10518\n",
            "750/750 [==============================] - 2s 2ms/step - loss: 0.1644 - sparse_categorical_accuracy: 0.9510 - val_loss: 0.1429 - val_sparse_categorical_accuracy: 0.9584\n",
            "Epoch 3/6\n",
            "743/750 [============================>.] - ETA: 0s - loss: 0.1200 - sparse_categorical_accuracy: 0.9642\n",
            "Epoch 00003: val_loss did not improve from 0.10518\n",
            "750/750 [==============================] - 2s 2ms/step - loss: 0.1196 - sparse_categorical_accuracy: 0.9643 - val_loss: 0.1262 - val_sparse_categorical_accuracy: 0.9647\n",
            "Epoch 4/6\n",
            "739/750 [============================>.] - ETA: 0s - loss: 0.0937 - sparse_categorical_accuracy: 0.9715\n",
            "Epoch 00004: val_loss did not improve from 0.10518\n",
            "750/750 [==============================] - 2s 2ms/step - loss: 0.0938 - sparse_categorical_accuracy: 0.9714 - val_loss: 0.1090 - val_sparse_categorical_accuracy: 0.9696\n",
            "Epoch 5/6\n",
            "746/750 [============================>.] - ETA: 0s - loss: 0.0774 - sparse_categorical_accuracy: 0.9766\n",
            "Epoch 00005: val_loss did not improve from 0.10518\n",
            "750/750 [==============================] - 2s 2ms/step - loss: 0.0773 - sparse_categorical_accuracy: 0.9766 - val_loss: 0.1116 - val_sparse_categorical_accuracy: 0.9684\n",
            "Epoch 6/6\n",
            "735/750 [============================>.] - ETA: 0s - loss: 0.0645 - sparse_categorical_accuracy: 0.9809\n",
            "Epoch 00006: val_loss improved from 0.10518 to 0.10394, saving model to /content/gdrive/My Drive/Colab Notebooks/Tensorflow2.0_Tutorial/Models/model3_weights/checkpoints/model3_epoch6\n",
            "750/750 [==============================] - 2s 2ms/step - loss: 0.0648 - sparse_categorical_accuracy: 0.9808 - val_loss: 0.1039 - val_sparse_categorical_accuracy: 0.9708\n"
          ],
          "name": "stdout"
        }
      ]
    },
    {
      "cell_type": "code",
      "metadata": {
        "id": "w8TJhJocapqw",
        "colab_type": "code",
        "colab": {}
      },
      "source": [
        ""
      ],
      "execution_count": null,
      "outputs": []
    }
  ]
}